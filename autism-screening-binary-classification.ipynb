{
 "cells": [
  {
   "cell_type": "markdown",
   "id": "a0a4f9a5",
   "metadata": {
    "papermill": {
     "duration": 0.014494,
     "end_time": "2023-09-05T10:50:53.822953",
     "exception": false,
     "start_time": "2023-09-05T10:50:53.808459",
     "status": "completed"
    },
    "tags": []
   },
   "source": [
    "## Autism Screening Prediction with Machine Learning\n",
    "\n",
    "The aim of this project is to **improve Autism Screening by creating predicting the likelihood of having this condition**.\n",
    "\n",
    "As a basic workflow, we will navigate through the data and understand the data through visualisations.\n",
    "\n",
    "Then, we will select 3 models and build a pipeline before training the data and making predictions.\n",
    "\n",
    "The **Accuracy Score** will be used as the primary metric to measure model performance."
   ]
  },
  {
   "cell_type": "markdown",
   "id": "4e789410",
   "metadata": {
    "papermill": {
     "duration": 0.013584,
     "end_time": "2023-09-05T10:50:53.850432",
     "exception": false,
     "start_time": "2023-09-05T10:50:53.836848",
     "status": "completed"
    },
    "tags": []
   },
   "source": [
    "## 1. Importing data and libraries"
   ]
  },
  {
   "cell_type": "code",
   "execution_count": 1,
   "id": "18ebf510",
   "metadata": {
    "_cell_guid": "b1076dfc-b9ad-4769-8c92-a6c4dae69d19",
    "_uuid": "8f2839f25d086af736a60e9eeb907d3b93b6e0e5",
    "execution": {
     "iopub.execute_input": "2023-09-05T10:50:53.881016Z",
     "iopub.status.busy": "2023-09-05T10:50:53.880420Z",
     "iopub.status.idle": "2023-09-05T10:50:56.938315Z",
     "shell.execute_reply": "2023-09-05T10:50:56.937217Z"
    },
    "papermill": {
     "duration": 3.075981,
     "end_time": "2023-09-05T10:50:56.940847",
     "exception": false,
     "start_time": "2023-09-05T10:50:53.864866",
     "status": "completed"
    },
    "tags": []
   },
   "outputs": [],
   "source": [
    "import numpy as np\n",
    "import pandas as pd\n",
    "\n",
    "import matplotlib.pyplot as plt\n",
    "import matplotlib.ticker as mtick\n",
    "import matplotlib.gridspec as grid_spec\n",
    "import seaborn as sns\n",
    "\n",
    "from sklearn.pipeline import Pipeline\n",
    "from sklearn.preprocessing import StandardScaler, LabelEncoder\n",
    "from sklearn.model_selection import train_test_split,cross_val_score\n",
    "\n",
    "\n",
    "from sklearn.linear_model import LinearRegression,LogisticRegression\n",
    "from sklearn.tree import DecisionTreeRegressor,DecisionTreeClassifier\n",
    "from sklearn.ensemble import RandomForestClassifier\n",
    "from sklearn.svm import SVC\n",
    "\n",
    "\n",
    "from sklearn.metrics import classification_report, confusion_matrix\n",
    "from sklearn.metrics import accuracy_score, recall_score, roc_auc_score, precision_score, f1_score\n",
    "\n",
    "import warnings\n",
    "warnings.filterwarnings('ignore')\n"
   ]
  },
  {
   "cell_type": "code",
   "execution_count": 2,
   "id": "bfc28f16",
   "metadata": {
    "execution": {
     "iopub.execute_input": "2023-09-05T10:50:56.971252Z",
     "iopub.status.busy": "2023-09-05T10:50:56.970726Z",
     "iopub.status.idle": "2023-09-05T10:50:57.050095Z",
     "shell.execute_reply": "2023-09-05T10:50:57.048572Z"
    },
    "papermill": {
     "duration": 0.09708,
     "end_time": "2023-09-05T10:50:57.052466",
     "exception": false,
     "start_time": "2023-09-05T10:50:56.955386",
     "status": "completed"
    },
    "tags": []
   },
   "outputs": [
    {
     "data": {
      "text/html": [
       "<div>\n",
       "<style scoped>\n",
       "    .dataframe tbody tr th:only-of-type {\n",
       "        vertical-align: middle;\n",
       "    }\n",
       "\n",
       "    .dataframe tbody tr th {\n",
       "        vertical-align: top;\n",
       "    }\n",
       "\n",
       "    .dataframe thead th {\n",
       "        text-align: right;\n",
       "    }\n",
       "</style>\n",
       "<table border=\"1\" class=\"dataframe\">\n",
       "  <thead>\n",
       "    <tr style=\"text-align: right;\">\n",
       "      <th></th>\n",
       "      <th>A1_Score</th>\n",
       "      <th>A2_Score</th>\n",
       "      <th>A3_Score</th>\n",
       "      <th>A4_Score</th>\n",
       "      <th>A5_Score</th>\n",
       "      <th>A6_Score</th>\n",
       "      <th>A7_Score</th>\n",
       "      <th>A8_Score</th>\n",
       "      <th>A9_Score</th>\n",
       "      <th>A10_Score</th>\n",
       "      <th>...</th>\n",
       "      <th>gender</th>\n",
       "      <th>ethnicity</th>\n",
       "      <th>jundice</th>\n",
       "      <th>austim</th>\n",
       "      <th>contry_of_res</th>\n",
       "      <th>used_app_before</th>\n",
       "      <th>result</th>\n",
       "      <th>age_desc</th>\n",
       "      <th>relation</th>\n",
       "      <th>Class/ASD</th>\n",
       "    </tr>\n",
       "  </thead>\n",
       "  <tbody>\n",
       "    <tr>\n",
       "      <th>0</th>\n",
       "      <td>1</td>\n",
       "      <td>1</td>\n",
       "      <td>1</td>\n",
       "      <td>1</td>\n",
       "      <td>0</td>\n",
       "      <td>0</td>\n",
       "      <td>1</td>\n",
       "      <td>1</td>\n",
       "      <td>0</td>\n",
       "      <td>0</td>\n",
       "      <td>...</td>\n",
       "      <td>f</td>\n",
       "      <td>White-European</td>\n",
       "      <td>no</td>\n",
       "      <td>no</td>\n",
       "      <td>United States</td>\n",
       "      <td>no</td>\n",
       "      <td>6.0</td>\n",
       "      <td>18 and more</td>\n",
       "      <td>Self</td>\n",
       "      <td>NO</td>\n",
       "    </tr>\n",
       "    <tr>\n",
       "      <th>1</th>\n",
       "      <td>1</td>\n",
       "      <td>1</td>\n",
       "      <td>0</td>\n",
       "      <td>1</td>\n",
       "      <td>0</td>\n",
       "      <td>0</td>\n",
       "      <td>0</td>\n",
       "      <td>1</td>\n",
       "      <td>0</td>\n",
       "      <td>1</td>\n",
       "      <td>...</td>\n",
       "      <td>m</td>\n",
       "      <td>Latino</td>\n",
       "      <td>no</td>\n",
       "      <td>yes</td>\n",
       "      <td>Brazil</td>\n",
       "      <td>no</td>\n",
       "      <td>5.0</td>\n",
       "      <td>18 and more</td>\n",
       "      <td>Self</td>\n",
       "      <td>NO</td>\n",
       "    </tr>\n",
       "    <tr>\n",
       "      <th>2</th>\n",
       "      <td>1</td>\n",
       "      <td>1</td>\n",
       "      <td>0</td>\n",
       "      <td>1</td>\n",
       "      <td>1</td>\n",
       "      <td>0</td>\n",
       "      <td>1</td>\n",
       "      <td>1</td>\n",
       "      <td>1</td>\n",
       "      <td>1</td>\n",
       "      <td>...</td>\n",
       "      <td>m</td>\n",
       "      <td>Latino</td>\n",
       "      <td>yes</td>\n",
       "      <td>yes</td>\n",
       "      <td>Spain</td>\n",
       "      <td>no</td>\n",
       "      <td>8.0</td>\n",
       "      <td>18 and more</td>\n",
       "      <td>Parent</td>\n",
       "      <td>YES</td>\n",
       "    </tr>\n",
       "    <tr>\n",
       "      <th>3</th>\n",
       "      <td>1</td>\n",
       "      <td>1</td>\n",
       "      <td>0</td>\n",
       "      <td>1</td>\n",
       "      <td>0</td>\n",
       "      <td>0</td>\n",
       "      <td>1</td>\n",
       "      <td>1</td>\n",
       "      <td>0</td>\n",
       "      <td>1</td>\n",
       "      <td>...</td>\n",
       "      <td>f</td>\n",
       "      <td>White-European</td>\n",
       "      <td>no</td>\n",
       "      <td>yes</td>\n",
       "      <td>United States</td>\n",
       "      <td>no</td>\n",
       "      <td>6.0</td>\n",
       "      <td>18 and more</td>\n",
       "      <td>Self</td>\n",
       "      <td>NO</td>\n",
       "    </tr>\n",
       "    <tr>\n",
       "      <th>4</th>\n",
       "      <td>1</td>\n",
       "      <td>0</td>\n",
       "      <td>0</td>\n",
       "      <td>0</td>\n",
       "      <td>0</td>\n",
       "      <td>0</td>\n",
       "      <td>0</td>\n",
       "      <td>1</td>\n",
       "      <td>0</td>\n",
       "      <td>0</td>\n",
       "      <td>...</td>\n",
       "      <td>f</td>\n",
       "      <td>?</td>\n",
       "      <td>no</td>\n",
       "      <td>no</td>\n",
       "      <td>Egypt</td>\n",
       "      <td>no</td>\n",
       "      <td>2.0</td>\n",
       "      <td>18 and more</td>\n",
       "      <td>?</td>\n",
       "      <td>NO</td>\n",
       "    </tr>\n",
       "  </tbody>\n",
       "</table>\n",
       "<p>5 rows × 21 columns</p>\n",
       "</div>"
      ],
      "text/plain": [
       "   A1_Score  A2_Score  A3_Score  A4_Score  A5_Score  A6_Score  A7_Score  \\\n",
       "0         1         1         1         1         0         0         1   \n",
       "1         1         1         0         1         0         0         0   \n",
       "2         1         1         0         1         1         0         1   \n",
       "3         1         1         0         1         0         0         1   \n",
       "4         1         0         0         0         0         0         0   \n",
       "\n",
       "   A8_Score  A9_Score  A10_Score  ...  gender       ethnicity jundice austim  \\\n",
       "0         1         0          0  ...       f  White-European      no     no   \n",
       "1         1         0          1  ...       m          Latino      no    yes   \n",
       "2         1         1          1  ...       m          Latino     yes    yes   \n",
       "3         1         0          1  ...       f  White-European      no    yes   \n",
       "4         1         0          0  ...       f               ?      no     no   \n",
       "\n",
       "   contry_of_res used_app_before result     age_desc relation Class/ASD  \n",
       "0  United States              no    6.0  18 and more     Self        NO  \n",
       "1         Brazil              no    5.0  18 and more     Self        NO  \n",
       "2          Spain              no    8.0  18 and more   Parent       YES  \n",
       "3  United States              no    6.0  18 and more     Self        NO  \n",
       "4          Egypt              no    2.0  18 and more        ?        NO  \n",
       "\n",
       "[5 rows x 21 columns]"
      ]
     },
     "execution_count": 2,
     "metadata": {},
     "output_type": "execute_result"
    }
   ],
   "source": [
    "df = pd.read_csv(\"/kaggle/input/autism-screening-on-adults/autism_screening.csv\")\n",
    "df.head(5)"
   ]
  },
  {
   "cell_type": "markdown",
   "id": "509fd554",
   "metadata": {
    "papermill": {
     "duration": 0.015236,
     "end_time": "2023-09-05T10:50:57.084764",
     "exception": false,
     "start_time": "2023-09-05T10:50:57.069528",
     "status": "completed"
    },
    "tags": []
   },
   "source": [
    "### Column Descriptions:\n",
    "\n",
    "* AX_Score: Score based on the Autism Spectrum Quotient (AQ) 10 item screening tool AQ-10\n",
    "* age: Age in years\n",
    "* gender: Male or Female\n",
    "* ethnicity: Ethnicities in text form\n",
    "* jaundice: Whether or not the participant was born with jaundice?\n",
    "* autism: Whether or not anyone in tbe immediate family has been diagnosed with autism?\n",
    "* country_of_res: Countries in text format\n",
    "* used_app_before: Whether the participant has used a screening app\n",
    "* result: Score from the AQ-10 screening tool\n",
    "* age_desc: Age as categorical\n",
    "* relation: Relation of person who completed the test\n",
    "* Class/ASD: Participant classification"
   ]
  },
  {
   "cell_type": "markdown",
   "id": "94737f66",
   "metadata": {
    "papermill": {
     "duration": 0.01377,
     "end_time": "2023-09-05T10:50:57.115061",
     "exception": false,
     "start_time": "2023-09-05T10:50:57.101291",
     "status": "completed"
    },
    "tags": []
   },
   "source": [
    "## 2. Data Cleaning\n",
    "This step involves cleaning and data handling to make it suitable for analysis. We start by understanding the data and then we can make necessary changes to make the data cleaner and also remove any outliers."
   ]
  },
  {
   "cell_type": "code",
   "execution_count": 3,
   "id": "58a4852e",
   "metadata": {
    "execution": {
     "iopub.execute_input": "2023-09-05T10:50:57.145084Z",
     "iopub.status.busy": "2023-09-05T10:50:57.144688Z",
     "iopub.status.idle": "2023-09-05T10:50:57.152053Z",
     "shell.execute_reply": "2023-09-05T10:50:57.150837Z"
    },
    "papermill": {
     "duration": 0.025644,
     "end_time": "2023-09-05T10:50:57.154778",
     "exception": false,
     "start_time": "2023-09-05T10:50:57.129134",
     "status": "completed"
    },
    "tags": []
   },
   "outputs": [
    {
     "data": {
      "text/plain": [
       "Index(['A1_Score', 'A2_Score', 'A3_Score', 'A4_Score', 'A5_Score', 'A6_Score',\n",
       "       'A7_Score', 'A8_Score', 'A9_Score', 'A10_Score', 'age', 'gender',\n",
       "       'ethnicity', 'jundice', 'austim', 'contry_of_res', 'used_app_before',\n",
       "       'result', 'age_desc', 'relation', 'Class/ASD'],\n",
       "      dtype='object')"
      ]
     },
     "execution_count": 3,
     "metadata": {},
     "output_type": "execute_result"
    }
   ],
   "source": [
    "df.columns"
   ]
  },
  {
   "cell_type": "code",
   "execution_count": 4,
   "id": "10afc9c5",
   "metadata": {
    "execution": {
     "iopub.execute_input": "2023-09-05T10:50:57.185858Z",
     "iopub.status.busy": "2023-09-05T10:50:57.185215Z",
     "iopub.status.idle": "2023-09-05T10:50:57.190838Z",
     "shell.execute_reply": "2023-09-05T10:50:57.189849Z"
    },
    "papermill": {
     "duration": 0.023098,
     "end_time": "2023-09-05T10:50:57.192578",
     "exception": false,
     "start_time": "2023-09-05T10:50:57.169480",
     "status": "completed"
    },
    "tags": []
   },
   "outputs": [
    {
     "data": {
      "text/plain": [
       "(704, 21)"
      ]
     },
     "execution_count": 4,
     "metadata": {},
     "output_type": "execute_result"
    }
   ],
   "source": [
    "df.shape"
   ]
  },
  {
   "cell_type": "code",
   "execution_count": 5,
   "id": "bbdf0102",
   "metadata": {
    "execution": {
     "iopub.execute_input": "2023-09-05T10:50:57.225339Z",
     "iopub.status.busy": "2023-09-05T10:50:57.224890Z",
     "iopub.status.idle": "2023-09-05T10:50:57.266706Z",
     "shell.execute_reply": "2023-09-05T10:50:57.264736Z"
    },
    "papermill": {
     "duration": 0.061796,
     "end_time": "2023-09-05T10:50:57.269023",
     "exception": false,
     "start_time": "2023-09-05T10:50:57.207227",
     "status": "completed"
    },
    "tags": []
   },
   "outputs": [
    {
     "data": {
      "text/html": [
       "<div>\n",
       "<style scoped>\n",
       "    .dataframe tbody tr th:only-of-type {\n",
       "        vertical-align: middle;\n",
       "    }\n",
       "\n",
       "    .dataframe tbody tr th {\n",
       "        vertical-align: top;\n",
       "    }\n",
       "\n",
       "    .dataframe thead th {\n",
       "        text-align: right;\n",
       "    }\n",
       "</style>\n",
       "<table border=\"1\" class=\"dataframe\">\n",
       "  <thead>\n",
       "    <tr style=\"text-align: right;\">\n",
       "      <th></th>\n",
       "      <th>A1_Score</th>\n",
       "      <th>A2_Score</th>\n",
       "      <th>A3_Score</th>\n",
       "      <th>A4_Score</th>\n",
       "      <th>A5_Score</th>\n",
       "      <th>A6_Score</th>\n",
       "      <th>A7_Score</th>\n",
       "      <th>A8_Score</th>\n",
       "      <th>A9_Score</th>\n",
       "      <th>A10_Score</th>\n",
       "      <th>age</th>\n",
       "      <th>result</th>\n",
       "    </tr>\n",
       "  </thead>\n",
       "  <tbody>\n",
       "    <tr>\n",
       "      <th>count</th>\n",
       "      <td>704.000000</td>\n",
       "      <td>704.000000</td>\n",
       "      <td>704.000000</td>\n",
       "      <td>704.000000</td>\n",
       "      <td>704.000000</td>\n",
       "      <td>704.000000</td>\n",
       "      <td>704.000000</td>\n",
       "      <td>704.000000</td>\n",
       "      <td>704.000000</td>\n",
       "      <td>704.000000</td>\n",
       "      <td>702.000000</td>\n",
       "      <td>704.000000</td>\n",
       "    </tr>\n",
       "    <tr>\n",
       "      <th>mean</th>\n",
       "      <td>0.721591</td>\n",
       "      <td>0.453125</td>\n",
       "      <td>0.457386</td>\n",
       "      <td>0.495739</td>\n",
       "      <td>0.498580</td>\n",
       "      <td>0.284091</td>\n",
       "      <td>0.417614</td>\n",
       "      <td>0.649148</td>\n",
       "      <td>0.323864</td>\n",
       "      <td>0.573864</td>\n",
       "      <td>29.698006</td>\n",
       "      <td>4.875000</td>\n",
       "    </tr>\n",
       "    <tr>\n",
       "      <th>std</th>\n",
       "      <td>0.448535</td>\n",
       "      <td>0.498152</td>\n",
       "      <td>0.498535</td>\n",
       "      <td>0.500337</td>\n",
       "      <td>0.500353</td>\n",
       "      <td>0.451301</td>\n",
       "      <td>0.493516</td>\n",
       "      <td>0.477576</td>\n",
       "      <td>0.468281</td>\n",
       "      <td>0.494866</td>\n",
       "      <td>16.507465</td>\n",
       "      <td>2.501493</td>\n",
       "    </tr>\n",
       "    <tr>\n",
       "      <th>min</th>\n",
       "      <td>0.000000</td>\n",
       "      <td>0.000000</td>\n",
       "      <td>0.000000</td>\n",
       "      <td>0.000000</td>\n",
       "      <td>0.000000</td>\n",
       "      <td>0.000000</td>\n",
       "      <td>0.000000</td>\n",
       "      <td>0.000000</td>\n",
       "      <td>0.000000</td>\n",
       "      <td>0.000000</td>\n",
       "      <td>17.000000</td>\n",
       "      <td>0.000000</td>\n",
       "    </tr>\n",
       "    <tr>\n",
       "      <th>25%</th>\n",
       "      <td>0.000000</td>\n",
       "      <td>0.000000</td>\n",
       "      <td>0.000000</td>\n",
       "      <td>0.000000</td>\n",
       "      <td>0.000000</td>\n",
       "      <td>0.000000</td>\n",
       "      <td>0.000000</td>\n",
       "      <td>0.000000</td>\n",
       "      <td>0.000000</td>\n",
       "      <td>0.000000</td>\n",
       "      <td>21.000000</td>\n",
       "      <td>3.000000</td>\n",
       "    </tr>\n",
       "    <tr>\n",
       "      <th>50%</th>\n",
       "      <td>1.000000</td>\n",
       "      <td>0.000000</td>\n",
       "      <td>0.000000</td>\n",
       "      <td>0.000000</td>\n",
       "      <td>0.000000</td>\n",
       "      <td>0.000000</td>\n",
       "      <td>0.000000</td>\n",
       "      <td>1.000000</td>\n",
       "      <td>0.000000</td>\n",
       "      <td>1.000000</td>\n",
       "      <td>27.000000</td>\n",
       "      <td>4.000000</td>\n",
       "    </tr>\n",
       "    <tr>\n",
       "      <th>75%</th>\n",
       "      <td>1.000000</td>\n",
       "      <td>1.000000</td>\n",
       "      <td>1.000000</td>\n",
       "      <td>1.000000</td>\n",
       "      <td>1.000000</td>\n",
       "      <td>1.000000</td>\n",
       "      <td>1.000000</td>\n",
       "      <td>1.000000</td>\n",
       "      <td>1.000000</td>\n",
       "      <td>1.000000</td>\n",
       "      <td>35.000000</td>\n",
       "      <td>7.000000</td>\n",
       "    </tr>\n",
       "    <tr>\n",
       "      <th>max</th>\n",
       "      <td>1.000000</td>\n",
       "      <td>1.000000</td>\n",
       "      <td>1.000000</td>\n",
       "      <td>1.000000</td>\n",
       "      <td>1.000000</td>\n",
       "      <td>1.000000</td>\n",
       "      <td>1.000000</td>\n",
       "      <td>1.000000</td>\n",
       "      <td>1.000000</td>\n",
       "      <td>1.000000</td>\n",
       "      <td>383.000000</td>\n",
       "      <td>10.000000</td>\n",
       "    </tr>\n",
       "  </tbody>\n",
       "</table>\n",
       "</div>"
      ],
      "text/plain": [
       "         A1_Score    A2_Score    A3_Score    A4_Score    A5_Score    A6_Score  \\\n",
       "count  704.000000  704.000000  704.000000  704.000000  704.000000  704.000000   \n",
       "mean     0.721591    0.453125    0.457386    0.495739    0.498580    0.284091   \n",
       "std      0.448535    0.498152    0.498535    0.500337    0.500353    0.451301   \n",
       "min      0.000000    0.000000    0.000000    0.000000    0.000000    0.000000   \n",
       "25%      0.000000    0.000000    0.000000    0.000000    0.000000    0.000000   \n",
       "50%      1.000000    0.000000    0.000000    0.000000    0.000000    0.000000   \n",
       "75%      1.000000    1.000000    1.000000    1.000000    1.000000    1.000000   \n",
       "max      1.000000    1.000000    1.000000    1.000000    1.000000    1.000000   \n",
       "\n",
       "         A7_Score    A8_Score    A9_Score   A10_Score         age      result  \n",
       "count  704.000000  704.000000  704.000000  704.000000  702.000000  704.000000  \n",
       "mean     0.417614    0.649148    0.323864    0.573864   29.698006    4.875000  \n",
       "std      0.493516    0.477576    0.468281    0.494866   16.507465    2.501493  \n",
       "min      0.000000    0.000000    0.000000    0.000000   17.000000    0.000000  \n",
       "25%      0.000000    0.000000    0.000000    0.000000   21.000000    3.000000  \n",
       "50%      0.000000    1.000000    0.000000    1.000000   27.000000    4.000000  \n",
       "75%      1.000000    1.000000    1.000000    1.000000   35.000000    7.000000  \n",
       "max      1.000000    1.000000    1.000000    1.000000  383.000000   10.000000  "
      ]
     },
     "execution_count": 5,
     "metadata": {},
     "output_type": "execute_result"
    }
   ],
   "source": [
    "df.describe()"
   ]
  },
  {
   "cell_type": "markdown",
   "id": "59f61e01",
   "metadata": {
    "papermill": {
     "duration": 0.014003,
     "end_time": "2023-09-05T10:50:57.297597",
     "exception": false,
     "start_time": "2023-09-05T10:50:57.283594",
     "status": "completed"
    },
    "tags": []
   },
   "source": [
    "The describe method returns a statistical summary for all the statistical data (excludes any categorical variables).\n",
    "\n",
    "A1 to A10 Score is a binary scoring system with only 0 and 1's. \n",
    "\n",
    "If we look at the **'age'** column, the max number for age is showing 383, which is most unlikely. I suspect this may be due to a typo error, but this is an outlier. \n",
    "\n",
    "Looking at the **count** row, we can see that age is missing 2 values. This gives us an indication that we need to either replace or remove the 2 missing values. "
   ]
  },
  {
   "cell_type": "code",
   "execution_count": 6,
   "id": "29243d85",
   "metadata": {
    "execution": {
     "iopub.execute_input": "2023-09-05T10:50:57.328066Z",
     "iopub.status.busy": "2023-09-05T10:50:57.327724Z",
     "iopub.status.idle": "2023-09-05T10:50:57.346375Z",
     "shell.execute_reply": "2023-09-05T10:50:57.344985Z"
    },
    "papermill": {
     "duration": 0.037173,
     "end_time": "2023-09-05T10:50:57.349269",
     "exception": false,
     "start_time": "2023-09-05T10:50:57.312096",
     "status": "completed"
    },
    "tags": []
   },
   "outputs": [
    {
     "data": {
      "text/html": [
       "<div>\n",
       "<style scoped>\n",
       "    .dataframe tbody tr th:only-of-type {\n",
       "        vertical-align: middle;\n",
       "    }\n",
       "\n",
       "    .dataframe tbody tr th {\n",
       "        vertical-align: top;\n",
       "    }\n",
       "\n",
       "    .dataframe thead th {\n",
       "        text-align: right;\n",
       "    }\n",
       "</style>\n",
       "<table border=\"1\" class=\"dataframe\">\n",
       "  <thead>\n",
       "    <tr style=\"text-align: right;\">\n",
       "      <th></th>\n",
       "      <th>A1_Score</th>\n",
       "      <th>A2_Score</th>\n",
       "      <th>A3_Score</th>\n",
       "      <th>A4_Score</th>\n",
       "      <th>A5_Score</th>\n",
       "      <th>A6_Score</th>\n",
       "      <th>A7_Score</th>\n",
       "      <th>A8_Score</th>\n",
       "      <th>A9_Score</th>\n",
       "      <th>A10_Score</th>\n",
       "      <th>...</th>\n",
       "      <th>gender</th>\n",
       "      <th>ethnicity</th>\n",
       "      <th>jundice</th>\n",
       "      <th>austim</th>\n",
       "      <th>contry_of_res</th>\n",
       "      <th>used_app_before</th>\n",
       "      <th>result</th>\n",
       "      <th>age_desc</th>\n",
       "      <th>relation</th>\n",
       "      <th>Class/ASD</th>\n",
       "    </tr>\n",
       "  </thead>\n",
       "  <tbody>\n",
       "    <tr>\n",
       "      <th>52</th>\n",
       "      <td>1</td>\n",
       "      <td>0</td>\n",
       "      <td>0</td>\n",
       "      <td>0</td>\n",
       "      <td>0</td>\n",
       "      <td>0</td>\n",
       "      <td>0</td>\n",
       "      <td>0</td>\n",
       "      <td>0</td>\n",
       "      <td>0</td>\n",
       "      <td>...</td>\n",
       "      <td>f</td>\n",
       "      <td>Pasifika</td>\n",
       "      <td>no</td>\n",
       "      <td>no</td>\n",
       "      <td>New Zealand</td>\n",
       "      <td>no</td>\n",
       "      <td>1.0</td>\n",
       "      <td>18 and more</td>\n",
       "      <td>Self</td>\n",
       "      <td>NO</td>\n",
       "    </tr>\n",
       "  </tbody>\n",
       "</table>\n",
       "<p>1 rows × 21 columns</p>\n",
       "</div>"
      ],
      "text/plain": [
       "    A1_Score  A2_Score  A3_Score  A4_Score  A5_Score  A6_Score  A7_Score  \\\n",
       "52         1         0         0         0         0         0         0   \n",
       "\n",
       "    A8_Score  A9_Score  A10_Score  ...  gender ethnicity jundice austim  \\\n",
       "52         0         0          0  ...       f  Pasifika      no     no   \n",
       "\n",
       "   contry_of_res used_app_before result     age_desc relation Class/ASD  \n",
       "52   New Zealand              no    1.0  18 and more     Self        NO  \n",
       "\n",
       "[1 rows x 21 columns]"
      ]
     },
     "execution_count": 6,
     "metadata": {},
     "output_type": "execute_result"
    }
   ],
   "source": [
    "#Let's view the row that has age of 383\n",
    "df[df.age==383]\n"
   ]
  },
  {
   "cell_type": "code",
   "execution_count": 7,
   "id": "80d91e47",
   "metadata": {
    "execution": {
     "iopub.execute_input": "2023-09-05T10:50:57.443134Z",
     "iopub.status.busy": "2023-09-05T10:50:57.441634Z",
     "iopub.status.idle": "2023-09-05T10:50:57.449422Z",
     "shell.execute_reply": "2023-09-05T10:50:57.447874Z"
    },
    "papermill": {
     "duration": 0.026717,
     "end_time": "2023-09-05T10:50:57.452043",
     "exception": false,
     "start_time": "2023-09-05T10:50:57.425326",
     "status": "completed"
    },
    "tags": []
   },
   "outputs": [],
   "source": [
    "df.drop(index=52, inplace = True)\n",
    "\n",
    "# resetting index\n",
    "df.reset_index(inplace = True)"
   ]
  },
  {
   "cell_type": "code",
   "execution_count": 8,
   "id": "59b9deed",
   "metadata": {
    "execution": {
     "iopub.execute_input": "2023-09-05T10:50:57.483805Z",
     "iopub.status.busy": "2023-09-05T10:50:57.483449Z",
     "iopub.status.idle": "2023-09-05T10:50:57.494573Z",
     "shell.execute_reply": "2023-09-05T10:50:57.493527Z"
    },
    "papermill": {
     "duration": 0.02967,
     "end_time": "2023-09-05T10:50:57.496937",
     "exception": false,
     "start_time": "2023-09-05T10:50:57.467267",
     "status": "completed"
    },
    "tags": []
   },
   "outputs": [
    {
     "data": {
      "text/html": [
       "<div>\n",
       "<style scoped>\n",
       "    .dataframe tbody tr th:only-of-type {\n",
       "        vertical-align: middle;\n",
       "    }\n",
       "\n",
       "    .dataframe tbody tr th {\n",
       "        vertical-align: top;\n",
       "    }\n",
       "\n",
       "    .dataframe thead th {\n",
       "        text-align: right;\n",
       "    }\n",
       "</style>\n",
       "<table border=\"1\" class=\"dataframe\">\n",
       "  <thead>\n",
       "    <tr style=\"text-align: right;\">\n",
       "      <th></th>\n",
       "      <th>Missing Values</th>\n",
       "    </tr>\n",
       "  </thead>\n",
       "  <tbody>\n",
       "    <tr>\n",
       "      <th>index</th>\n",
       "      <td>0</td>\n",
       "    </tr>\n",
       "    <tr>\n",
       "      <th>A1_Score</th>\n",
       "      <td>0</td>\n",
       "    </tr>\n",
       "    <tr>\n",
       "      <th>A2_Score</th>\n",
       "      <td>0</td>\n",
       "    </tr>\n",
       "    <tr>\n",
       "      <th>A3_Score</th>\n",
       "      <td>0</td>\n",
       "    </tr>\n",
       "    <tr>\n",
       "      <th>A4_Score</th>\n",
       "      <td>0</td>\n",
       "    </tr>\n",
       "    <tr>\n",
       "      <th>A5_Score</th>\n",
       "      <td>0</td>\n",
       "    </tr>\n",
       "    <tr>\n",
       "      <th>A6_Score</th>\n",
       "      <td>0</td>\n",
       "    </tr>\n",
       "    <tr>\n",
       "      <th>A7_Score</th>\n",
       "      <td>0</td>\n",
       "    </tr>\n",
       "    <tr>\n",
       "      <th>A8_Score</th>\n",
       "      <td>0</td>\n",
       "    </tr>\n",
       "    <tr>\n",
       "      <th>A9_Score</th>\n",
       "      <td>0</td>\n",
       "    </tr>\n",
       "    <tr>\n",
       "      <th>A10_Score</th>\n",
       "      <td>0</td>\n",
       "    </tr>\n",
       "    <tr>\n",
       "      <th>age</th>\n",
       "      <td>2</td>\n",
       "    </tr>\n",
       "    <tr>\n",
       "      <th>gender</th>\n",
       "      <td>0</td>\n",
       "    </tr>\n",
       "    <tr>\n",
       "      <th>ethnicity</th>\n",
       "      <td>0</td>\n",
       "    </tr>\n",
       "    <tr>\n",
       "      <th>jundice</th>\n",
       "      <td>0</td>\n",
       "    </tr>\n",
       "    <tr>\n",
       "      <th>austim</th>\n",
       "      <td>0</td>\n",
       "    </tr>\n",
       "    <tr>\n",
       "      <th>contry_of_res</th>\n",
       "      <td>0</td>\n",
       "    </tr>\n",
       "    <tr>\n",
       "      <th>used_app_before</th>\n",
       "      <td>0</td>\n",
       "    </tr>\n",
       "    <tr>\n",
       "      <th>result</th>\n",
       "      <td>0</td>\n",
       "    </tr>\n",
       "    <tr>\n",
       "      <th>age_desc</th>\n",
       "      <td>0</td>\n",
       "    </tr>\n",
       "    <tr>\n",
       "      <th>relation</th>\n",
       "      <td>0</td>\n",
       "    </tr>\n",
       "    <tr>\n",
       "      <th>Class/ASD</th>\n",
       "      <td>0</td>\n",
       "    </tr>\n",
       "  </tbody>\n",
       "</table>\n",
       "</div>"
      ],
      "text/plain": [
       "                 Missing Values\n",
       "index                         0\n",
       "A1_Score                      0\n",
       "A2_Score                      0\n",
       "A3_Score                      0\n",
       "A4_Score                      0\n",
       "A5_Score                      0\n",
       "A6_Score                      0\n",
       "A7_Score                      0\n",
       "A8_Score                      0\n",
       "A9_Score                      0\n",
       "A10_Score                     0\n",
       "age                           2\n",
       "gender                        0\n",
       "ethnicity                     0\n",
       "jundice                       0\n",
       "austim                        0\n",
       "contry_of_res                 0\n",
       "used_app_before               0\n",
       "result                        0\n",
       "age_desc                      0\n",
       "relation                      0\n",
       "Class/ASD                     0"
      ]
     },
     "execution_count": 8,
     "metadata": {},
     "output_type": "execute_result"
    }
   ],
   "source": [
    "pd.DataFrame(df.isnull().sum(), columns=[\"Missing Values\"])"
   ]
  },
  {
   "cell_type": "code",
   "execution_count": 9,
   "id": "557ea807",
   "metadata": {
    "execution": {
     "iopub.execute_input": "2023-09-05T10:50:57.529436Z",
     "iopub.status.busy": "2023-09-05T10:50:57.529070Z",
     "iopub.status.idle": "2023-09-05T10:50:57.535184Z",
     "shell.execute_reply": "2023-09-05T10:50:57.534297Z"
    },
    "papermill": {
     "duration": 0.024854,
     "end_time": "2023-09-05T10:50:57.537342",
     "exception": false,
     "start_time": "2023-09-05T10:50:57.512488",
     "status": "completed"
    },
    "tags": []
   },
   "outputs": [],
   "source": [
    "df['age'] = df['age'].fillna(np.round(df['age'].mean(), 0))"
   ]
  },
  {
   "cell_type": "code",
   "execution_count": 10,
   "id": "cdab4e57",
   "metadata": {
    "execution": {
     "iopub.execute_input": "2023-09-05T10:50:57.571889Z",
     "iopub.status.busy": "2023-09-05T10:50:57.571280Z",
     "iopub.status.idle": "2023-09-05T10:50:57.581099Z",
     "shell.execute_reply": "2023-09-05T10:50:57.580238Z"
    },
    "papermill": {
     "duration": 0.029751,
     "end_time": "2023-09-05T10:50:57.583098",
     "exception": false,
     "start_time": "2023-09-05T10:50:57.553347",
     "status": "completed"
    },
    "tags": []
   },
   "outputs": [
    {
     "data": {
      "text/html": [
       "<div>\n",
       "<style scoped>\n",
       "    .dataframe tbody tr th:only-of-type {\n",
       "        vertical-align: middle;\n",
       "    }\n",
       "\n",
       "    .dataframe tbody tr th {\n",
       "        vertical-align: top;\n",
       "    }\n",
       "\n",
       "    .dataframe thead th {\n",
       "        text-align: right;\n",
       "    }\n",
       "</style>\n",
       "<table border=\"1\" class=\"dataframe\">\n",
       "  <thead>\n",
       "    <tr style=\"text-align: right;\">\n",
       "      <th></th>\n",
       "      <th>Missing Values</th>\n",
       "    </tr>\n",
       "  </thead>\n",
       "  <tbody>\n",
       "    <tr>\n",
       "      <th>index</th>\n",
       "      <td>0</td>\n",
       "    </tr>\n",
       "    <tr>\n",
       "      <th>A1_Score</th>\n",
       "      <td>0</td>\n",
       "    </tr>\n",
       "    <tr>\n",
       "      <th>A2_Score</th>\n",
       "      <td>0</td>\n",
       "    </tr>\n",
       "    <tr>\n",
       "      <th>A3_Score</th>\n",
       "      <td>0</td>\n",
       "    </tr>\n",
       "    <tr>\n",
       "      <th>A4_Score</th>\n",
       "      <td>0</td>\n",
       "    </tr>\n",
       "    <tr>\n",
       "      <th>A5_Score</th>\n",
       "      <td>0</td>\n",
       "    </tr>\n",
       "    <tr>\n",
       "      <th>A6_Score</th>\n",
       "      <td>0</td>\n",
       "    </tr>\n",
       "    <tr>\n",
       "      <th>A7_Score</th>\n",
       "      <td>0</td>\n",
       "    </tr>\n",
       "    <tr>\n",
       "      <th>A8_Score</th>\n",
       "      <td>0</td>\n",
       "    </tr>\n",
       "    <tr>\n",
       "      <th>A9_Score</th>\n",
       "      <td>0</td>\n",
       "    </tr>\n",
       "    <tr>\n",
       "      <th>A10_Score</th>\n",
       "      <td>0</td>\n",
       "    </tr>\n",
       "    <tr>\n",
       "      <th>age</th>\n",
       "      <td>0</td>\n",
       "    </tr>\n",
       "    <tr>\n",
       "      <th>gender</th>\n",
       "      <td>0</td>\n",
       "    </tr>\n",
       "    <tr>\n",
       "      <th>ethnicity</th>\n",
       "      <td>0</td>\n",
       "    </tr>\n",
       "    <tr>\n",
       "      <th>jundice</th>\n",
       "      <td>0</td>\n",
       "    </tr>\n",
       "    <tr>\n",
       "      <th>austim</th>\n",
       "      <td>0</td>\n",
       "    </tr>\n",
       "    <tr>\n",
       "      <th>contry_of_res</th>\n",
       "      <td>0</td>\n",
       "    </tr>\n",
       "    <tr>\n",
       "      <th>used_app_before</th>\n",
       "      <td>0</td>\n",
       "    </tr>\n",
       "    <tr>\n",
       "      <th>result</th>\n",
       "      <td>0</td>\n",
       "    </tr>\n",
       "    <tr>\n",
       "      <th>age_desc</th>\n",
       "      <td>0</td>\n",
       "    </tr>\n",
       "    <tr>\n",
       "      <th>relation</th>\n",
       "      <td>0</td>\n",
       "    </tr>\n",
       "    <tr>\n",
       "      <th>Class/ASD</th>\n",
       "      <td>0</td>\n",
       "    </tr>\n",
       "  </tbody>\n",
       "</table>\n",
       "</div>"
      ],
      "text/plain": [
       "                 Missing Values\n",
       "index                         0\n",
       "A1_Score                      0\n",
       "A2_Score                      0\n",
       "A3_Score                      0\n",
       "A4_Score                      0\n",
       "A5_Score                      0\n",
       "A6_Score                      0\n",
       "A7_Score                      0\n",
       "A8_Score                      0\n",
       "A9_Score                      0\n",
       "A10_Score                     0\n",
       "age                           0\n",
       "gender                        0\n",
       "ethnicity                     0\n",
       "jundice                       0\n",
       "austim                        0\n",
       "contry_of_res                 0\n",
       "used_app_before               0\n",
       "result                        0\n",
       "age_desc                      0\n",
       "relation                      0\n",
       "Class/ASD                     0"
      ]
     },
     "execution_count": 10,
     "metadata": {},
     "output_type": "execute_result"
    }
   ],
   "source": [
    "pd.DataFrame(df.isnull().sum(), columns=[\"Missing Values\"])"
   ]
  },
  {
   "cell_type": "code",
   "execution_count": 11,
   "id": "4e05b5fb",
   "metadata": {
    "execution": {
     "iopub.execute_input": "2023-09-05T10:50:57.616032Z",
     "iopub.status.busy": "2023-09-05T10:50:57.615282Z",
     "iopub.status.idle": "2023-09-05T10:50:57.622152Z",
     "shell.execute_reply": "2023-09-05T10:50:57.621084Z"
    },
    "papermill": {
     "duration": 0.02593,
     "end_time": "2023-09-05T10:50:57.624497",
     "exception": false,
     "start_time": "2023-09-05T10:50:57.598567",
     "status": "completed"
    },
    "tags": []
   },
   "outputs": [
    {
     "data": {
      "text/plain": [
       "(703, 22)"
      ]
     },
     "execution_count": 11,
     "metadata": {},
     "output_type": "execute_result"
    }
   ],
   "source": [
    "#now we will have 703 samples after dropping the outlier row\n",
    "df.shape"
   ]
  },
  {
   "cell_type": "code",
   "execution_count": 12,
   "id": "d34095c6",
   "metadata": {
    "execution": {
     "iopub.execute_input": "2023-09-05T10:50:57.659025Z",
     "iopub.status.busy": "2023-09-05T10:50:57.658383Z",
     "iopub.status.idle": "2023-09-05T10:50:57.664686Z",
     "shell.execute_reply": "2023-09-05T10:50:57.664090Z"
    },
    "papermill": {
     "duration": 0.026347,
     "end_time": "2023-09-05T10:50:57.666945",
     "exception": false,
     "start_time": "2023-09-05T10:50:57.640598",
     "status": "completed"
    },
    "tags": []
   },
   "outputs": [
    {
     "data": {
      "text/plain": [
       "index                int64\n",
       "A1_Score             int64\n",
       "A2_Score             int64\n",
       "A3_Score             int64\n",
       "A4_Score             int64\n",
       "A5_Score             int64\n",
       "A6_Score             int64\n",
       "A7_Score             int64\n",
       "A8_Score             int64\n",
       "A9_Score             int64\n",
       "A10_Score            int64\n",
       "age                float64\n",
       "gender              object\n",
       "ethnicity           object\n",
       "jundice             object\n",
       "austim              object\n",
       "contry_of_res       object\n",
       "used_app_before     object\n",
       "result             float64\n",
       "age_desc            object\n",
       "relation            object\n",
       "Class/ASD           object\n",
       "dtype: object"
      ]
     },
     "execution_count": 12,
     "metadata": {},
     "output_type": "execute_result"
    }
   ],
   "source": [
    "df.dtypes"
   ]
  },
  {
   "cell_type": "code",
   "execution_count": 13,
   "id": "b22893e1",
   "metadata": {
    "execution": {
     "iopub.execute_input": "2023-09-05T10:50:57.701024Z",
     "iopub.status.busy": "2023-09-05T10:50:57.700638Z",
     "iopub.status.idle": "2023-09-05T10:50:57.707615Z",
     "shell.execute_reply": "2023-09-05T10:50:57.706020Z"
    },
    "papermill": {
     "duration": 0.027248,
     "end_time": "2023-09-05T10:50:57.710341",
     "exception": false,
     "start_time": "2023-09-05T10:50:57.683093",
     "status": "completed"
    },
    "tags": []
   },
   "outputs": [
    {
     "name": "stdout",
     "output_type": "stream",
     "text": [
      "Categorical variables:\n",
      "['gender', 'ethnicity', 'jundice', 'austim', 'contry_of_res', 'used_app_before', 'age_desc', 'relation', 'Class/ASD']\n"
     ]
    }
   ],
   "source": [
    "# Get list of categorical variables\n",
    "s = (df.dtypes == 'object')\n",
    "object_cols = list(s[s].index)\n",
    "\n",
    "print(\"Categorical variables:\")\n",
    "print(object_cols)"
   ]
  },
  {
   "cell_type": "code",
   "execution_count": 14,
   "id": "4b6e9700",
   "metadata": {
    "execution": {
     "iopub.execute_input": "2023-09-05T10:50:57.743299Z",
     "iopub.status.busy": "2023-09-05T10:50:57.742903Z",
     "iopub.status.idle": "2023-09-05T10:50:57.775068Z",
     "shell.execute_reply": "2023-09-05T10:50:57.774294Z"
    },
    "papermill": {
     "duration": 0.050797,
     "end_time": "2023-09-05T10:50:57.776873",
     "exception": false,
     "start_time": "2023-09-05T10:50:57.726076",
     "status": "completed"
    },
    "tags": []
   },
   "outputs": [
    {
     "data": {
      "text/html": [
       "<div>\n",
       "<style scoped>\n",
       "    .dataframe tbody tr th:only-of-type {\n",
       "        vertical-align: middle;\n",
       "    }\n",
       "\n",
       "    .dataframe tbody tr th {\n",
       "        vertical-align: top;\n",
       "    }\n",
       "\n",
       "    .dataframe thead th {\n",
       "        text-align: right;\n",
       "    }\n",
       "</style>\n",
       "<table border=\"1\" class=\"dataframe\">\n",
       "  <thead>\n",
       "    <tr style=\"text-align: right;\">\n",
       "      <th></th>\n",
       "      <th>gender</th>\n",
       "      <th>ethnicity</th>\n",
       "      <th>jundice</th>\n",
       "      <th>austim</th>\n",
       "      <th>contry_of_res</th>\n",
       "      <th>used_app_before</th>\n",
       "      <th>age_desc</th>\n",
       "      <th>relation</th>\n",
       "      <th>Class/ASD</th>\n",
       "    </tr>\n",
       "  </thead>\n",
       "  <tbody>\n",
       "    <tr>\n",
       "      <th>count</th>\n",
       "      <td>703</td>\n",
       "      <td>703</td>\n",
       "      <td>703</td>\n",
       "      <td>703</td>\n",
       "      <td>703</td>\n",
       "      <td>703</td>\n",
       "      <td>703</td>\n",
       "      <td>703</td>\n",
       "      <td>703</td>\n",
       "    </tr>\n",
       "    <tr>\n",
       "      <th>unique</th>\n",
       "      <td>2</td>\n",
       "      <td>12</td>\n",
       "      <td>2</td>\n",
       "      <td>2</td>\n",
       "      <td>67</td>\n",
       "      <td>2</td>\n",
       "      <td>1</td>\n",
       "      <td>6</td>\n",
       "      <td>2</td>\n",
       "    </tr>\n",
       "    <tr>\n",
       "      <th>top</th>\n",
       "      <td>m</td>\n",
       "      <td>White-European</td>\n",
       "      <td>no</td>\n",
       "      <td>no</td>\n",
       "      <td>United States</td>\n",
       "      <td>no</td>\n",
       "      <td>18 and more</td>\n",
       "      <td>Self</td>\n",
       "      <td>NO</td>\n",
       "    </tr>\n",
       "    <tr>\n",
       "      <th>freq</th>\n",
       "      <td>367</td>\n",
       "      <td>233</td>\n",
       "      <td>634</td>\n",
       "      <td>612</td>\n",
       "      <td>113</td>\n",
       "      <td>691</td>\n",
       "      <td>703</td>\n",
       "      <td>521</td>\n",
       "      <td>514</td>\n",
       "    </tr>\n",
       "  </tbody>\n",
       "</table>\n",
       "</div>"
      ],
      "text/plain": [
       "       gender       ethnicity jundice austim  contry_of_res used_app_before  \\\n",
       "count     703             703     703    703            703             703   \n",
       "unique      2              12       2      2             67               2   \n",
       "top         m  White-European      no     no  United States              no   \n",
       "freq      367             233     634    612            113             691   \n",
       "\n",
       "           age_desc relation Class/ASD  \n",
       "count           703      703       703  \n",
       "unique            1        6         2  \n",
       "top     18 and more     Self        NO  \n",
       "freq            703      521       514  "
      ]
     },
     "execution_count": 14,
     "metadata": {},
     "output_type": "execute_result"
    }
   ],
   "source": [
    "df[object_cols].describe()"
   ]
  },
  {
   "cell_type": "code",
   "execution_count": 15,
   "id": "89379c48",
   "metadata": {
    "execution": {
     "iopub.execute_input": "2023-09-05T10:50:57.809838Z",
     "iopub.status.busy": "2023-09-05T10:50:57.808705Z",
     "iopub.status.idle": "2023-09-05T10:50:57.823232Z",
     "shell.execute_reply": "2023-09-05T10:50:57.821685Z"
    },
    "papermill": {
     "duration": 0.033072,
     "end_time": "2023-09-05T10:50:57.825283",
     "exception": false,
     "start_time": "2023-09-05T10:50:57.792211",
     "status": "completed"
    },
    "tags": []
   },
   "outputs": [
    {
     "name": "stdout",
     "output_type": "stream",
     "text": [
      "gender\n",
      "m    367\n",
      "f    336\n",
      "Name: count, dtype: int64\n",
      "************************************************************\n",
      "ethnicity\n",
      "White-European     233\n",
      "Asian              123\n",
      "?                   95\n",
      "Middle Eastern      92\n",
      "Black               43\n",
      "South Asian         36\n",
      "Others              30\n",
      "Latino              20\n",
      "Hispanic            13\n",
      "Pasifika            11\n",
      "Turkish              6\n",
      "others               1\n",
      "Name: count, dtype: int64\n",
      "************************************************************\n",
      "jundice\n",
      "no     634\n",
      "yes     69\n",
      "Name: count, dtype: int64\n",
      "************************************************************\n",
      "austim\n",
      "no     612\n",
      "yes     91\n",
      "Name: count, dtype: int64\n",
      "************************************************************\n",
      "contry_of_res\n",
      "United States           113\n",
      "United Arab Emirates     82\n",
      "India                    81\n",
      "New Zealand              80\n",
      "United Kingdom           77\n",
      "                       ... \n",
      "China                     1\n",
      "Chile                     1\n",
      "Lebanon                   1\n",
      "Burundi                   1\n",
      "Cyprus                    1\n",
      "Name: count, Length: 67, dtype: int64\n",
      "************************************************************\n",
      "used_app_before\n",
      "no     691\n",
      "yes     12\n",
      "Name: count, dtype: int64\n",
      "************************************************************\n",
      "age_desc\n",
      "18 and more    703\n",
      "Name: count, dtype: int64\n",
      "************************************************************\n",
      "relation\n",
      "Self                        521\n",
      "?                            95\n",
      "Parent                       50\n",
      "Relative                     28\n",
      "Others                        5\n",
      "Health care professional      4\n",
      "Name: count, dtype: int64\n",
      "************************************************************\n",
      "Class/ASD\n",
      "NO     514\n",
      "YES    189\n",
      "Name: count, dtype: int64\n",
      "************************************************************\n"
     ]
    }
   ],
   "source": [
    "#More detailed information on categorical variables\n",
    "for i in object_cols:\n",
    "    print(df[i].value_counts())\n",
    "    print('***'* 20)\n"
   ]
  },
  {
   "cell_type": "markdown",
   "id": "15b6521e",
   "metadata": {
    "papermill": {
     "duration": 0.016663,
     "end_time": "2023-09-05T10:50:57.858027",
     "exception": false,
     "start_time": "2023-09-05T10:50:57.841364",
     "status": "completed"
    },
    "tags": []
   },
   "source": [
    "Already we are able to pick up some unknown categorical values. There are unknown values in **ethnicity** as well as **relation**. The country of residence list is too long, so let us check through that specific column to make sure it doesn't contain any unknown country."
   ]
  },
  {
   "cell_type": "code",
   "execution_count": 16,
   "id": "49a30709",
   "metadata": {
    "execution": {
     "iopub.execute_input": "2023-09-05T10:50:57.893113Z",
     "iopub.status.busy": "2023-09-05T10:50:57.892769Z",
     "iopub.status.idle": "2023-09-05T10:50:57.903469Z",
     "shell.execute_reply": "2023-09-05T10:50:57.902212Z"
    },
    "papermill": {
     "duration": 0.031905,
     "end_time": "2023-09-05T10:50:57.906002",
     "exception": false,
     "start_time": "2023-09-05T10:50:57.874097",
     "status": "completed"
    },
    "tags": []
   },
   "outputs": [
    {
     "data": {
      "text/plain": [
       "array(['United States', 'Brazil', 'Spain', 'Egypt', 'New Zealand',\n",
       "       'Bahamas', 'Burundi', 'Austria', 'Argentina', 'Jordan', 'Ireland',\n",
       "       'United Arab Emirates', 'Afghanistan', 'Lebanon', 'United Kingdom',\n",
       "       'South Africa', 'Italy', 'Pakistan', 'Bangladesh', 'Chile',\n",
       "       'France', 'China', 'Australia', 'Canada', 'Saudi Arabia',\n",
       "       'Netherlands', 'Romania', 'Sweden', 'Tonga', 'Oman', 'India',\n",
       "       'Philippines', 'Sri Lanka', 'Sierra Leone', 'Ethiopia', 'Viet Nam',\n",
       "       'Iran', 'Costa Rica', 'Germany', 'Mexico', 'Russia', 'Armenia',\n",
       "       'Iceland', 'Nicaragua', 'Hong Kong', 'Japan', 'Ukraine',\n",
       "       'Kazakhstan', 'AmericanSamoa', 'Uruguay', 'Serbia', 'Portugal',\n",
       "       'Malaysia', 'Ecuador', 'Niger', 'Belgium', 'Bolivia', 'Aruba',\n",
       "       'Finland', 'Turkey', 'Nepal', 'Indonesia', 'Angola', 'Azerbaijan',\n",
       "       'Iraq', 'Czech Republic', 'Cyprus'], dtype=object)"
      ]
     },
     "execution_count": 16,
     "metadata": {},
     "output_type": "execute_result"
    }
   ],
   "source": [
    "#Check if there are any abnormalities in country of residence column\n",
    "df['contry_of_res'].unique()"
   ]
  },
  {
   "cell_type": "markdown",
   "id": "8945dcf9",
   "metadata": {
    "papermill": {
     "duration": 0.017156,
     "end_time": "2023-09-05T10:50:57.939612",
     "exception": false,
     "start_time": "2023-09-05T10:50:57.922456",
     "status": "completed"
    },
    "tags": []
   },
   "source": [
    "Country column looks like they all have proper country names.\n",
    "\n",
    "However, we will have to deal with the unknown values in the relations and ethnicity columns.\n"
   ]
  },
  {
   "cell_type": "code",
   "execution_count": 17,
   "id": "7a555410",
   "metadata": {
    "execution": {
     "iopub.execute_input": "2023-09-05T10:50:57.973755Z",
     "iopub.status.busy": "2023-09-05T10:50:57.973419Z",
     "iopub.status.idle": "2023-09-05T10:50:57.979826Z",
     "shell.execute_reply": "2023-09-05T10:50:57.978749Z"
    },
    "papermill": {
     "duration": 0.025893,
     "end_time": "2023-09-05T10:50:57.981923",
     "exception": false,
     "start_time": "2023-09-05T10:50:57.956030",
     "status": "completed"
    },
    "tags": []
   },
   "outputs": [],
   "source": [
    "#Replace ? with Others and change the lower caps other category to the same \n",
    "df['ethnicity'] = df['ethnicity'].replace('?', 'Others')\n",
    "df['ethnicity'] = df['ethnicity'].replace('others', 'Others')"
   ]
  },
  {
   "cell_type": "code",
   "execution_count": 18,
   "id": "f6a6086a",
   "metadata": {
    "execution": {
     "iopub.execute_input": "2023-09-05T10:50:58.017521Z",
     "iopub.status.busy": "2023-09-05T10:50:58.017104Z",
     "iopub.status.idle": "2023-09-05T10:50:58.024887Z",
     "shell.execute_reply": "2023-09-05T10:50:58.023893Z"
    },
    "papermill": {
     "duration": 0.028401,
     "end_time": "2023-09-05T10:50:58.027547",
     "exception": false,
     "start_time": "2023-09-05T10:50:57.999146",
     "status": "completed"
    },
    "tags": []
   },
   "outputs": [
    {
     "data": {
      "text/plain": [
       "array(['White-European', 'Latino', 'Others', 'Black', 'Asian',\n",
       "       'Middle Eastern ', 'Pasifika', 'South Asian', 'Hispanic',\n",
       "       'Turkish'], dtype=object)"
      ]
     },
     "execution_count": 18,
     "metadata": {},
     "output_type": "execute_result"
    }
   ],
   "source": [
    "#check that the unknown ethnicity is replaced correctly\n",
    "df['ethnicity'].unique()"
   ]
  },
  {
   "cell_type": "code",
   "execution_count": 19,
   "id": "a7eb2451",
   "metadata": {
    "execution": {
     "iopub.execute_input": "2023-09-05T10:50:58.063041Z",
     "iopub.status.busy": "2023-09-05T10:50:58.062620Z",
     "iopub.status.idle": "2023-09-05T10:50:58.070305Z",
     "shell.execute_reply": "2023-09-05T10:50:58.068495Z"
    },
    "papermill": {
     "duration": 0.028048,
     "end_time": "2023-09-05T10:50:58.072954",
     "exception": false,
     "start_time": "2023-09-05T10:50:58.044906",
     "status": "completed"
    },
    "tags": []
   },
   "outputs": [],
   "source": [
    "#replace relation with the most frequent occuring value \n",
    "df['relation'] = df['relation'].replace('?', df['relation'].mode()[0])"
   ]
  },
  {
   "cell_type": "code",
   "execution_count": 20,
   "id": "55688587",
   "metadata": {
    "execution": {
     "iopub.execute_input": "2023-09-05T10:50:58.108160Z",
     "iopub.status.busy": "2023-09-05T10:50:58.107767Z",
     "iopub.status.idle": "2023-09-05T10:50:58.115515Z",
     "shell.execute_reply": "2023-09-05T10:50:58.114420Z"
    },
    "papermill": {
     "duration": 0.027618,
     "end_time": "2023-09-05T10:50:58.117557",
     "exception": false,
     "start_time": "2023-09-05T10:50:58.089939",
     "status": "completed"
    },
    "tags": []
   },
   "outputs": [
    {
     "data": {
      "text/plain": [
       "array(['Self', 'Parent', 'Health care professional', 'Relative', 'Others'],\n",
       "      dtype=object)"
      ]
     },
     "execution_count": 20,
     "metadata": {},
     "output_type": "execute_result"
    }
   ],
   "source": [
    "#check that the unknown relation is replaced with the mode\n",
    "df['relation'].unique()"
   ]
  },
  {
   "cell_type": "code",
   "execution_count": 21,
   "id": "9cd50ef4",
   "metadata": {
    "execution": {
     "iopub.execute_input": "2023-09-05T10:50:58.152182Z",
     "iopub.status.busy": "2023-09-05T10:50:58.151792Z",
     "iopub.status.idle": "2023-09-05T10:50:58.156761Z",
     "shell.execute_reply": "2023-09-05T10:50:58.155285Z"
    },
    "papermill": {
     "duration": 0.02533,
     "end_time": "2023-09-05T10:50:58.159426",
     "exception": false,
     "start_time": "2023-09-05T10:50:58.134096",
     "status": "completed"
    },
    "tags": []
   },
   "outputs": [],
   "source": [
    "#I like to double-check categorical variables again \n",
    "#for i in object_cols:\n",
    "    #print(df[i].value_counts())\n",
    "    #print('*****'* 10)\n"
   ]
  },
  {
   "cell_type": "code",
   "execution_count": 22,
   "id": "4bd9b674",
   "metadata": {
    "execution": {
     "iopub.execute_input": "2023-09-05T10:50:58.193844Z",
     "iopub.status.busy": "2023-09-05T10:50:58.193481Z",
     "iopub.status.idle": "2023-09-05T10:50:58.217784Z",
     "shell.execute_reply": "2023-09-05T10:50:58.216412Z"
    },
    "papermill": {
     "duration": 0.04436,
     "end_time": "2023-09-05T10:50:58.220353",
     "exception": false,
     "start_time": "2023-09-05T10:50:58.175993",
     "status": "completed"
    },
    "tags": []
   },
   "outputs": [
    {
     "data": {
      "text/html": [
       "<div>\n",
       "<style scoped>\n",
       "    .dataframe tbody tr th:only-of-type {\n",
       "        vertical-align: middle;\n",
       "    }\n",
       "\n",
       "    .dataframe tbody tr th {\n",
       "        vertical-align: top;\n",
       "    }\n",
       "\n",
       "    .dataframe thead th {\n",
       "        text-align: right;\n",
       "    }\n",
       "</style>\n",
       "<table border=\"1\" class=\"dataframe\">\n",
       "  <thead>\n",
       "    <tr style=\"text-align: right;\">\n",
       "      <th></th>\n",
       "      <th>A1_Score</th>\n",
       "      <th>A2_Score</th>\n",
       "      <th>A3_Score</th>\n",
       "      <th>A4_Score</th>\n",
       "      <th>A5_Score</th>\n",
       "      <th>A6_Score</th>\n",
       "      <th>A7_Score</th>\n",
       "      <th>A8_Score</th>\n",
       "      <th>A9_Score</th>\n",
       "      <th>A10_Score</th>\n",
       "      <th>age</th>\n",
       "      <th>gender</th>\n",
       "      <th>ethnicity</th>\n",
       "      <th>jundice</th>\n",
       "      <th>austim</th>\n",
       "      <th>contry_of_res</th>\n",
       "      <th>result</th>\n",
       "      <th>relation</th>\n",
       "      <th>Class/ASD</th>\n",
       "    </tr>\n",
       "  </thead>\n",
       "  <tbody>\n",
       "    <tr>\n",
       "      <th>0</th>\n",
       "      <td>1</td>\n",
       "      <td>1</td>\n",
       "      <td>1</td>\n",
       "      <td>1</td>\n",
       "      <td>0</td>\n",
       "      <td>0</td>\n",
       "      <td>1</td>\n",
       "      <td>1</td>\n",
       "      <td>0</td>\n",
       "      <td>0</td>\n",
       "      <td>26.0</td>\n",
       "      <td>f</td>\n",
       "      <td>White-European</td>\n",
       "      <td>no</td>\n",
       "      <td>no</td>\n",
       "      <td>United States</td>\n",
       "      <td>6.0</td>\n",
       "      <td>Self</td>\n",
       "      <td>NO</td>\n",
       "    </tr>\n",
       "    <tr>\n",
       "      <th>1</th>\n",
       "      <td>1</td>\n",
       "      <td>1</td>\n",
       "      <td>0</td>\n",
       "      <td>1</td>\n",
       "      <td>0</td>\n",
       "      <td>0</td>\n",
       "      <td>0</td>\n",
       "      <td>1</td>\n",
       "      <td>0</td>\n",
       "      <td>1</td>\n",
       "      <td>24.0</td>\n",
       "      <td>m</td>\n",
       "      <td>Latino</td>\n",
       "      <td>no</td>\n",
       "      <td>yes</td>\n",
       "      <td>Brazil</td>\n",
       "      <td>5.0</td>\n",
       "      <td>Self</td>\n",
       "      <td>NO</td>\n",
       "    </tr>\n",
       "    <tr>\n",
       "      <th>2</th>\n",
       "      <td>1</td>\n",
       "      <td>1</td>\n",
       "      <td>0</td>\n",
       "      <td>1</td>\n",
       "      <td>1</td>\n",
       "      <td>0</td>\n",
       "      <td>1</td>\n",
       "      <td>1</td>\n",
       "      <td>1</td>\n",
       "      <td>1</td>\n",
       "      <td>27.0</td>\n",
       "      <td>m</td>\n",
       "      <td>Latino</td>\n",
       "      <td>yes</td>\n",
       "      <td>yes</td>\n",
       "      <td>Spain</td>\n",
       "      <td>8.0</td>\n",
       "      <td>Parent</td>\n",
       "      <td>YES</td>\n",
       "    </tr>\n",
       "    <tr>\n",
       "      <th>3</th>\n",
       "      <td>1</td>\n",
       "      <td>1</td>\n",
       "      <td>0</td>\n",
       "      <td>1</td>\n",
       "      <td>0</td>\n",
       "      <td>0</td>\n",
       "      <td>1</td>\n",
       "      <td>1</td>\n",
       "      <td>0</td>\n",
       "      <td>1</td>\n",
       "      <td>35.0</td>\n",
       "      <td>f</td>\n",
       "      <td>White-European</td>\n",
       "      <td>no</td>\n",
       "      <td>yes</td>\n",
       "      <td>United States</td>\n",
       "      <td>6.0</td>\n",
       "      <td>Self</td>\n",
       "      <td>NO</td>\n",
       "    </tr>\n",
       "    <tr>\n",
       "      <th>4</th>\n",
       "      <td>1</td>\n",
       "      <td>0</td>\n",
       "      <td>0</td>\n",
       "      <td>0</td>\n",
       "      <td>0</td>\n",
       "      <td>0</td>\n",
       "      <td>0</td>\n",
       "      <td>1</td>\n",
       "      <td>0</td>\n",
       "      <td>0</td>\n",
       "      <td>40.0</td>\n",
       "      <td>f</td>\n",
       "      <td>Others</td>\n",
       "      <td>no</td>\n",
       "      <td>no</td>\n",
       "      <td>Egypt</td>\n",
       "      <td>2.0</td>\n",
       "      <td>Self</td>\n",
       "      <td>NO</td>\n",
       "    </tr>\n",
       "    <tr>\n",
       "      <th>...</th>\n",
       "      <td>...</td>\n",
       "      <td>...</td>\n",
       "      <td>...</td>\n",
       "      <td>...</td>\n",
       "      <td>...</td>\n",
       "      <td>...</td>\n",
       "      <td>...</td>\n",
       "      <td>...</td>\n",
       "      <td>...</td>\n",
       "      <td>...</td>\n",
       "      <td>...</td>\n",
       "      <td>...</td>\n",
       "      <td>...</td>\n",
       "      <td>...</td>\n",
       "      <td>...</td>\n",
       "      <td>...</td>\n",
       "      <td>...</td>\n",
       "      <td>...</td>\n",
       "      <td>...</td>\n",
       "    </tr>\n",
       "    <tr>\n",
       "      <th>698</th>\n",
       "      <td>0</td>\n",
       "      <td>1</td>\n",
       "      <td>0</td>\n",
       "      <td>1</td>\n",
       "      <td>1</td>\n",
       "      <td>0</td>\n",
       "      <td>1</td>\n",
       "      <td>1</td>\n",
       "      <td>1</td>\n",
       "      <td>1</td>\n",
       "      <td>25.0</td>\n",
       "      <td>f</td>\n",
       "      <td>White-European</td>\n",
       "      <td>no</td>\n",
       "      <td>no</td>\n",
       "      <td>Russia</td>\n",
       "      <td>7.0</td>\n",
       "      <td>Self</td>\n",
       "      <td>YES</td>\n",
       "    </tr>\n",
       "    <tr>\n",
       "      <th>699</th>\n",
       "      <td>1</td>\n",
       "      <td>0</td>\n",
       "      <td>0</td>\n",
       "      <td>0</td>\n",
       "      <td>0</td>\n",
       "      <td>0</td>\n",
       "      <td>0</td>\n",
       "      <td>1</td>\n",
       "      <td>0</td>\n",
       "      <td>1</td>\n",
       "      <td>34.0</td>\n",
       "      <td>m</td>\n",
       "      <td>Hispanic</td>\n",
       "      <td>no</td>\n",
       "      <td>no</td>\n",
       "      <td>Mexico</td>\n",
       "      <td>3.0</td>\n",
       "      <td>Parent</td>\n",
       "      <td>NO</td>\n",
       "    </tr>\n",
       "    <tr>\n",
       "      <th>700</th>\n",
       "      <td>1</td>\n",
       "      <td>0</td>\n",
       "      <td>1</td>\n",
       "      <td>1</td>\n",
       "      <td>1</td>\n",
       "      <td>0</td>\n",
       "      <td>1</td>\n",
       "      <td>1</td>\n",
       "      <td>0</td>\n",
       "      <td>1</td>\n",
       "      <td>24.0</td>\n",
       "      <td>f</td>\n",
       "      <td>Others</td>\n",
       "      <td>no</td>\n",
       "      <td>no</td>\n",
       "      <td>Russia</td>\n",
       "      <td>7.0</td>\n",
       "      <td>Self</td>\n",
       "      <td>YES</td>\n",
       "    </tr>\n",
       "    <tr>\n",
       "      <th>701</th>\n",
       "      <td>1</td>\n",
       "      <td>0</td>\n",
       "      <td>0</td>\n",
       "      <td>1</td>\n",
       "      <td>1</td>\n",
       "      <td>0</td>\n",
       "      <td>1</td>\n",
       "      <td>0</td>\n",
       "      <td>1</td>\n",
       "      <td>1</td>\n",
       "      <td>35.0</td>\n",
       "      <td>m</td>\n",
       "      <td>South Asian</td>\n",
       "      <td>no</td>\n",
       "      <td>no</td>\n",
       "      <td>Pakistan</td>\n",
       "      <td>6.0</td>\n",
       "      <td>Self</td>\n",
       "      <td>NO</td>\n",
       "    </tr>\n",
       "    <tr>\n",
       "      <th>702</th>\n",
       "      <td>1</td>\n",
       "      <td>0</td>\n",
       "      <td>1</td>\n",
       "      <td>1</td>\n",
       "      <td>1</td>\n",
       "      <td>0</td>\n",
       "      <td>1</td>\n",
       "      <td>1</td>\n",
       "      <td>1</td>\n",
       "      <td>1</td>\n",
       "      <td>26.0</td>\n",
       "      <td>f</td>\n",
       "      <td>White-European</td>\n",
       "      <td>no</td>\n",
       "      <td>no</td>\n",
       "      <td>Cyprus</td>\n",
       "      <td>8.0</td>\n",
       "      <td>Self</td>\n",
       "      <td>YES</td>\n",
       "    </tr>\n",
       "  </tbody>\n",
       "</table>\n",
       "<p>703 rows × 19 columns</p>\n",
       "</div>"
      ],
      "text/plain": [
       "     A1_Score  A2_Score  A3_Score  A4_Score  A5_Score  A6_Score  A7_Score  \\\n",
       "0           1         1         1         1         0         0         1   \n",
       "1           1         1         0         1         0         0         0   \n",
       "2           1         1         0         1         1         0         1   \n",
       "3           1         1         0         1         0         0         1   \n",
       "4           1         0         0         0         0         0         0   \n",
       "..        ...       ...       ...       ...       ...       ...       ...   \n",
       "698         0         1         0         1         1         0         1   \n",
       "699         1         0         0         0         0         0         0   \n",
       "700         1         0         1         1         1         0         1   \n",
       "701         1         0         0         1         1         0         1   \n",
       "702         1         0         1         1         1         0         1   \n",
       "\n",
       "     A8_Score  A9_Score  A10_Score   age gender       ethnicity jundice  \\\n",
       "0           1         0          0  26.0      f  White-European      no   \n",
       "1           1         0          1  24.0      m          Latino      no   \n",
       "2           1         1          1  27.0      m          Latino     yes   \n",
       "3           1         0          1  35.0      f  White-European      no   \n",
       "4           1         0          0  40.0      f          Others      no   \n",
       "..        ...       ...        ...   ...    ...             ...     ...   \n",
       "698         1         1          1  25.0      f  White-European      no   \n",
       "699         1         0          1  34.0      m        Hispanic      no   \n",
       "700         1         0          1  24.0      f          Others      no   \n",
       "701         0         1          1  35.0      m     South Asian      no   \n",
       "702         1         1          1  26.0      f  White-European      no   \n",
       "\n",
       "    austim  contry_of_res  result relation Class/ASD  \n",
       "0       no  United States     6.0     Self        NO  \n",
       "1      yes         Brazil     5.0     Self        NO  \n",
       "2      yes          Spain     8.0   Parent       YES  \n",
       "3      yes  United States     6.0     Self        NO  \n",
       "4       no          Egypt     2.0     Self        NO  \n",
       "..     ...            ...     ...      ...       ...  \n",
       "698     no         Russia     7.0     Self       YES  \n",
       "699     no         Mexico     3.0   Parent        NO  \n",
       "700     no         Russia     7.0     Self       YES  \n",
       "701     no       Pakistan     6.0     Self        NO  \n",
       "702     no         Cyprus     8.0     Self       YES  \n",
       "\n",
       "[703 rows x 19 columns]"
      ]
     },
     "execution_count": 22,
     "metadata": {},
     "output_type": "execute_result"
    }
   ],
   "source": [
    "#Dropping unnecessary columns\n",
    "df1 = df.drop(['age_desc', 'used_app_before','index'], axis=1)\n",
    "df1"
   ]
  },
  {
   "cell_type": "markdown",
   "id": "48cf5853",
   "metadata": {
    "papermill": {
     "duration": 0.017783,
     "end_time": "2023-09-05T10:50:58.255697",
     "exception": false,
     "start_time": "2023-09-05T10:50:58.237914",
     "status": "completed"
    },
    "tags": []
   },
   "source": [
    "I'm also dropping a few other columns (age_desc, used_app_before) because these variables will not serve a purpose in training the model. "
   ]
  },
  {
   "cell_type": "code",
   "execution_count": 23,
   "id": "7cb5d291",
   "metadata": {
    "execution": {
     "iopub.execute_input": "2023-09-05T10:50:58.291738Z",
     "iopub.status.busy": "2023-09-05T10:50:58.291402Z",
     "iopub.status.idle": "2023-09-05T10:50:58.297672Z",
     "shell.execute_reply": "2023-09-05T10:50:58.297000Z"
    },
    "papermill": {
     "duration": 0.026419,
     "end_time": "2023-09-05T10:50:58.299605",
     "exception": false,
     "start_time": "2023-09-05T10:50:58.273186",
     "status": "completed"
    },
    "tags": []
   },
   "outputs": [],
   "source": [
    "#Changing the column names to more appropriate names\n",
    "df1 = df1.rename(columns={\"austim\": \"family_hx\", \"contry_of_res\": \"country_of_res\",\"Class/ASD\": \"Autism\"})"
   ]
  },
  {
   "cell_type": "markdown",
   "id": "71146feb",
   "metadata": {
    "papermill": {
     "duration": 0.016272,
     "end_time": "2023-09-05T10:50:58.333031",
     "exception": false,
     "start_time": "2023-09-05T10:50:58.316759",
     "status": "completed"
    },
    "tags": []
   },
   "source": [
    "## 3. Exploratory Data Analysis\n",
    "\n",
    "Now let us analyze and investigate the dataset and summarize the main characteristics by using data visualisations.\n"
   ]
  },
  {
   "cell_type": "code",
   "execution_count": 24,
   "id": "8c787ef9",
   "metadata": {
    "execution": {
     "iopub.execute_input": "2023-09-05T10:50:58.368546Z",
     "iopub.status.busy": "2023-09-05T10:50:58.368204Z",
     "iopub.status.idle": "2023-09-05T10:50:58.375025Z",
     "shell.execute_reply": "2023-09-05T10:50:58.374343Z"
    },
    "papermill": {
     "duration": 0.027074,
     "end_time": "2023-09-05T10:50:58.376642",
     "exception": false,
     "start_time": "2023-09-05T10:50:58.349568",
     "status": "completed"
    },
    "tags": []
   },
   "outputs": [
    {
     "data": {
      "text/plain": [
       "Autism\n",
       "NO     514\n",
       "YES    189\n",
       "Name: count, dtype: int64"
      ]
     },
     "execution_count": 24,
     "metadata": {},
     "output_type": "execute_result"
    }
   ],
   "source": [
    "df1['Autism'].value_counts()"
   ]
  },
  {
   "cell_type": "markdown",
   "id": "06c96480",
   "metadata": {
    "papermill": {
     "duration": 0.016681,
     "end_time": "2023-09-05T10:50:58.409947",
     "exception": false,
     "start_time": "2023-09-05T10:50:58.393266",
     "status": "completed"
    },
    "tags": []
   },
   "source": [
    "This shows that the data is slightly imbalanced as there are only 189 positive samples (patients with ACD) and 514 negative samples (patients without ACD). \n",
    "\n",
    "I learned that there is no fixed threshold as to when the data is imbalanced. Only when the imbalanced datasets of machine learning are extreme (i.e.90% for one class and 10% for the other) would typical optimization parameters or performance metrics be ineffective and require adjustment. So, it depends on you to determine the ratio, while of course a slight imbalance, such as 60:40, should not case noticeable performance reduction on a model.\n",
    "\n",
    "For this case, since the ratio of our classes are 70:30, I wouldn't consider this as an imbalance that needs to be fixed. (We will also find out how our models perform once we make the predictions and make a comparison)"
   ]
  },
  {
   "cell_type": "code",
   "execution_count": 25,
   "id": "cb19d4e7",
   "metadata": {
    "execution": {
     "iopub.execute_input": "2023-09-05T10:50:58.444749Z",
     "iopub.status.busy": "2023-09-05T10:50:58.443436Z",
     "iopub.status.idle": "2023-09-05T10:50:58.450950Z",
     "shell.execute_reply": "2023-09-05T10:50:58.449668Z"
    },
    "papermill": {
     "duration": 0.026774,
     "end_time": "2023-09-05T10:50:58.453005",
     "exception": false,
     "start_time": "2023-09-05T10:50:58.426231",
     "status": "completed"
    },
    "tags": []
   },
   "outputs": [],
   "source": [
    "autism = df1[df1['Autism'] == 'YES']\n",
    "no_autism = df1[df1['Autism'] == 'NO']"
   ]
  },
  {
   "cell_type": "code",
   "execution_count": 26,
   "id": "a2af9a53",
   "metadata": {
    "execution": {
     "iopub.execute_input": "2023-09-05T10:50:58.487111Z",
     "iopub.status.busy": "2023-09-05T10:50:58.486693Z",
     "iopub.status.idle": "2023-09-05T10:50:58.768669Z",
     "shell.execute_reply": "2023-09-05T10:50:58.767227Z"
    },
    "papermill": {
     "duration": 0.301494,
     "end_time": "2023-09-05T10:50:58.770908",
     "exception": false,
     "start_time": "2023-09-05T10:50:58.469414",
     "status": "completed"
    },
    "tags": []
   },
   "outputs": [
    {
     "data": {
      "image/png": "[encoded data removed]",
      "text/plain": [
       "<Figure size 1200x800 with 1 Axes>"
      ]
     },
     "metadata": {},
     "output_type": "display_data"
    }
   ],
   "source": [
    "#set color and figure size\n",
    "background_color = \"#fafafa\"\n",
    "colors = \"#0f4c81\", \"#9bb7d4\"\n",
    "fig = plt.figure(figsize=(12, 8), facecolor=background_color)\n",
    "gs = fig.add_gridspec(1, 1)\n",
    "\n",
    "#add subplots and customizations\n",
    "ax0 = fig.add_subplot(gs[0, 0])\n",
    "ax0.set_facecolor(background_color)\n",
    "ax0.grid(color='gray', linestyle=':', axis='y', zorder=0,  dashes=(1,5))\n",
    "\n",
    "#plot\n",
    "sns.countplot(data=df1, x='gender', hue='Autism', palette=colors, ax=ax0)\n",
    "\n",
    "plt.title('Gender Proportion for Autism vs No Autism', fontsize=15, fontweight='bold', fontfamily='serif')\n",
    "\n",
    "#inserting labels \n",
    "for i in ax0.containers:\n",
    "    ax0.bar_label(i, label_type='edge')\n",
    "\n",
    "plt.show()"
   ]
  },
  {
   "cell_type": "code",
   "execution_count": 27,
   "id": "96d945da",
   "metadata": {
    "execution": {
     "iopub.execute_input": "2023-09-05T10:50:58.808153Z",
     "iopub.status.busy": "2023-09-05T10:50:58.807758Z",
     "iopub.status.idle": "2023-09-05T10:50:59.091945Z",
     "shell.execute_reply": "2023-09-05T10:50:59.091017Z"
    },
    "papermill": {
     "duration": 0.304727,
     "end_time": "2023-09-05T10:50:59.094279",
     "exception": false,
     "start_time": "2023-09-05T10:50:58.789552",
     "status": "completed"
    },
    "tags": []
   },
   "outputs": [
    {
     "data": {
      "image/png": "[encoded data removed]",
      "text/plain": [
       "<Figure size 800x500 with 1 Axes>"
      ]
     },
     "metadata": {},
     "output_type": "display_data"
    }
   ],
   "source": [
    "fig = plt.figure(figsize=(8, 5), facecolor=background_color)\n",
    "gs = fig.add_gridspec(1, 1)\n",
    "\n",
    "#add subplots and customizations\n",
    "ax0 = fig.add_subplot(gs[0, 0])\n",
    "ax0.set_facecolor(background_color)\n",
    "ax0.grid(color='gray', linestyle=':', axis='y', zorder=0,  dashes=(1,5))\n",
    "\n",
    "\n",
    "sns.histplot(data=df1, x=\"result\", hue=\"Autism\", bins=10, ax=ax0, palette=colors)\n",
    "\n",
    "plt.title('Distribution of patients with Autism vs Non-Autism', fontsize=15, fontweight='bold', fontfamily='serif')\n",
    "\n",
    "plt.show()"
   ]
  },
  {
   "cell_type": "markdown",
   "id": "aebda410",
   "metadata": {
    "papermill": {
     "duration": 0.017075,
     "end_time": "2023-09-05T10:50:59.128778",
     "exception": false,
     "start_time": "2023-09-05T10:50:59.111703",
     "status": "completed"
    },
    "tags": []
   },
   "source": [
    "Using the histogram to find the distribution of results in our dataset, we can see that people who have scores of >= 7 are diagnosed with austism, while scores <7 are not diagnosed with autism. This will act as a significant feature when training the model."
   ]
  },
  {
   "cell_type": "code",
   "execution_count": 28,
   "id": "58c3bbef",
   "metadata": {
    "execution": {
     "iopub.execute_input": "2023-09-05T10:50:59.166647Z",
     "iopub.status.busy": "2023-09-05T10:50:59.165918Z",
     "iopub.status.idle": "2023-09-05T10:50:59.178135Z",
     "shell.execute_reply": "2023-09-05T10:50:59.177099Z"
    },
    "papermill": {
     "duration": 0.033573,
     "end_time": "2023-09-05T10:50:59.179881",
     "exception": false,
     "start_time": "2023-09-05T10:50:59.146308",
     "status": "completed"
    },
    "tags": []
   },
   "outputs": [
    {
     "data": {
      "text/html": [
       "<div>\n",
       "<style scoped>\n",
       "    .dataframe tbody tr th:only-of-type {\n",
       "        vertical-align: middle;\n",
       "    }\n",
       "\n",
       "    .dataframe tbody tr th {\n",
       "        vertical-align: top;\n",
       "    }\n",
       "\n",
       "    .dataframe thead th {\n",
       "        text-align: right;\n",
       "    }\n",
       "</style>\n",
       "<table border=\"1\" class=\"dataframe\">\n",
       "  <thead>\n",
       "    <tr style=\"text-align: right;\">\n",
       "      <th></th>\n",
       "      <th>country_of_res</th>\n",
       "      <th>count</th>\n",
       "    </tr>\n",
       "  </thead>\n",
       "  <tbody>\n",
       "    <tr>\n",
       "      <th>0</th>\n",
       "      <td>United States</td>\n",
       "      <td>53</td>\n",
       "    </tr>\n",
       "    <tr>\n",
       "      <th>1</th>\n",
       "      <td>United Kingdom</td>\n",
       "      <td>29</td>\n",
       "    </tr>\n",
       "    <tr>\n",
       "      <th>2</th>\n",
       "      <td>New Zealand</td>\n",
       "      <td>15</td>\n",
       "    </tr>\n",
       "    <tr>\n",
       "      <th>3</th>\n",
       "      <td>Australia</td>\n",
       "      <td>12</td>\n",
       "    </tr>\n",
       "    <tr>\n",
       "      <th>4</th>\n",
       "      <td>Canada</td>\n",
       "      <td>10</td>\n",
       "    </tr>\n",
       "    <tr>\n",
       "      <th>5</th>\n",
       "      <td>India</td>\n",
       "      <td>6</td>\n",
       "    </tr>\n",
       "    <tr>\n",
       "      <th>6</th>\n",
       "      <td>France</td>\n",
       "      <td>5</td>\n",
       "    </tr>\n",
       "    <tr>\n",
       "      <th>7</th>\n",
       "      <td>Brazil</td>\n",
       "      <td>5</td>\n",
       "    </tr>\n",
       "    <tr>\n",
       "      <th>8</th>\n",
       "      <td>Italy</td>\n",
       "      <td>4</td>\n",
       "    </tr>\n",
       "    <tr>\n",
       "      <th>9</th>\n",
       "      <td>Netherlands</td>\n",
       "      <td>4</td>\n",
       "    </tr>\n",
       "    <tr>\n",
       "      <th>10</th>\n",
       "      <td>Mexico</td>\n",
       "      <td>4</td>\n",
       "    </tr>\n",
       "    <tr>\n",
       "      <th>11</th>\n",
       "      <td>Malaysia</td>\n",
       "      <td>4</td>\n",
       "    </tr>\n",
       "    <tr>\n",
       "      <th>12</th>\n",
       "      <td>Austria</td>\n",
       "      <td>3</td>\n",
       "    </tr>\n",
       "    <tr>\n",
       "      <th>13</th>\n",
       "      <td>Russia</td>\n",
       "      <td>3</td>\n",
       "    </tr>\n",
       "    <tr>\n",
       "      <th>14</th>\n",
       "      <td>United Arab Emirates</td>\n",
       "      <td>3</td>\n",
       "    </tr>\n",
       "    <tr>\n",
       "      <th>15</th>\n",
       "      <td>Spain</td>\n",
       "      <td>2</td>\n",
       "    </tr>\n",
       "    <tr>\n",
       "      <th>16</th>\n",
       "      <td>Jordan</td>\n",
       "      <td>2</td>\n",
       "    </tr>\n",
       "    <tr>\n",
       "      <th>17</th>\n",
       "      <td>South Africa</td>\n",
       "      <td>2</td>\n",
       "    </tr>\n",
       "    <tr>\n",
       "      <th>18</th>\n",
       "      <td>Ireland</td>\n",
       "      <td>2</td>\n",
       "    </tr>\n",
       "    <tr>\n",
       "      <th>19</th>\n",
       "      <td>Germany</td>\n",
       "      <td>2</td>\n",
       "    </tr>\n",
       "    <tr>\n",
       "      <th>20</th>\n",
       "      <td>Sweden</td>\n",
       "      <td>2</td>\n",
       "    </tr>\n",
       "    <tr>\n",
       "      <th>21</th>\n",
       "      <td>Afghanistan</td>\n",
       "      <td>2</td>\n",
       "    </tr>\n",
       "    <tr>\n",
       "      <th>22</th>\n",
       "      <td>Argentina</td>\n",
       "      <td>1</td>\n",
       "    </tr>\n",
       "    <tr>\n",
       "      <th>23</th>\n",
       "      <td>Bahamas</td>\n",
       "      <td>1</td>\n",
       "    </tr>\n",
       "    <tr>\n",
       "      <th>24</th>\n",
       "      <td>China</td>\n",
       "      <td>1</td>\n",
       "    </tr>\n",
       "    <tr>\n",
       "      <th>25</th>\n",
       "      <td>Sierra Leone</td>\n",
       "      <td>1</td>\n",
       "    </tr>\n",
       "    <tr>\n",
       "      <th>26</th>\n",
       "      <td>Romania</td>\n",
       "      <td>1</td>\n",
       "    </tr>\n",
       "    <tr>\n",
       "      <th>27</th>\n",
       "      <td>Bangladesh</td>\n",
       "      <td>1</td>\n",
       "    </tr>\n",
       "    <tr>\n",
       "      <th>28</th>\n",
       "      <td>Saudi Arabia</td>\n",
       "      <td>1</td>\n",
       "    </tr>\n",
       "    <tr>\n",
       "      <th>29</th>\n",
       "      <td>Viet Nam</td>\n",
       "      <td>1</td>\n",
       "    </tr>\n",
       "    <tr>\n",
       "      <th>30</th>\n",
       "      <td>Belgium</td>\n",
       "      <td>1</td>\n",
       "    </tr>\n",
       "    <tr>\n",
       "      <th>31</th>\n",
       "      <td>Pakistan</td>\n",
       "      <td>1</td>\n",
       "    </tr>\n",
       "    <tr>\n",
       "      <th>32</th>\n",
       "      <td>AmericanSamoa</td>\n",
       "      <td>1</td>\n",
       "    </tr>\n",
       "    <tr>\n",
       "      <th>33</th>\n",
       "      <td>Finland</td>\n",
       "      <td>1</td>\n",
       "    </tr>\n",
       "    <tr>\n",
       "      <th>34</th>\n",
       "      <td>Nepal</td>\n",
       "      <td>1</td>\n",
       "    </tr>\n",
       "    <tr>\n",
       "      <th>35</th>\n",
       "      <td>Uruguay</td>\n",
       "      <td>1</td>\n",
       "    </tr>\n",
       "    <tr>\n",
       "      <th>36</th>\n",
       "      <td>Cyprus</td>\n",
       "      <td>1</td>\n",
       "    </tr>\n",
       "  </tbody>\n",
       "</table>\n",
       "</div>"
      ],
      "text/plain": [
       "          country_of_res  count\n",
       "0          United States     53\n",
       "1         United Kingdom     29\n",
       "2            New Zealand     15\n",
       "3              Australia     12\n",
       "4                 Canada     10\n",
       "5                  India      6\n",
       "6                 France      5\n",
       "7                 Brazil      5\n",
       "8                  Italy      4\n",
       "9            Netherlands      4\n",
       "10                Mexico      4\n",
       "11              Malaysia      4\n",
       "12               Austria      3\n",
       "13                Russia      3\n",
       "14  United Arab Emirates      3\n",
       "15                 Spain      2\n",
       "16                Jordan      2\n",
       "17          South Africa      2\n",
       "18               Ireland      2\n",
       "19               Germany      2\n",
       "20                Sweden      2\n",
       "21           Afghanistan      2\n",
       "22             Argentina      1\n",
       "23               Bahamas      1\n",
       "24                 China      1\n",
       "25          Sierra Leone      1\n",
       "26               Romania      1\n",
       "27            Bangladesh      1\n",
       "28          Saudi Arabia      1\n",
       "29              Viet Nam      1\n",
       "30               Belgium      1\n",
       "31              Pakistan      1\n",
       "32         AmericanSamoa      1\n",
       "33               Finland      1\n",
       "34                 Nepal      1\n",
       "35               Uruguay      1\n",
       "36                Cyprus      1"
      ]
     },
     "execution_count": 28,
     "metadata": {},
     "output_type": "execute_result"
    }
   ],
   "source": [
    "county_sort = pd.DataFrame(autism['country_of_res'].value_counts())\n",
    "country_sort =county_sort.sort_values(['count'], ascending=False).reset_index()\n",
    "country_sort"
   ]
  },
  {
   "cell_type": "code",
   "execution_count": 29,
   "id": "e54a3343",
   "metadata": {
    "execution": {
     "iopub.execute_input": "2023-09-05T10:50:59.218189Z",
     "iopub.status.busy": "2023-09-05T10:50:59.217429Z",
     "iopub.status.idle": "2023-09-05T10:50:59.772333Z",
     "shell.execute_reply": "2023-09-05T10:50:59.771099Z"
    },
    "papermill": {
     "duration": 0.576445,
     "end_time": "2023-09-05T10:50:59.774771",
     "exception": false,
     "start_time": "2023-09-05T10:50:59.198326",
     "status": "completed"
    },
    "tags": []
   },
   "outputs": [
    {
     "data": {
      "image/png": "[encoded data removed]",
      "text/plain": [
       "<Figure size 2000x1000 with 1 Axes>"
      ]
     },
     "metadata": {},
     "output_type": "display_data"
    }
   ],
   "source": [
    "fig = plt.figure(figsize=(20, 10), dpi=100, facecolor=background_color)\n",
    "gs = fig.add_gridspec(1, 1)\n",
    "\n",
    "#add subplots and customizations\n",
    "ax0 = fig.add_subplot(gs[0, 0])\n",
    "ax0.set_facecolor(background_color)\n",
    "ax0.grid(color='gray', linestyle=':', axis='x', zorder=0,  dashes=(1,5))\n",
    "\n",
    "sns.barplot(data=country_sort, x='count', y='country_of_res', color = '#0f4c81', ax=ax0 )\n",
    "\n",
    "#for i in ax0.containers:\n",
    "#    ax0.bar_label(i, label_type='edge')\n",
    "plt.title('Autistic Patients by Country ', fontsize=15, fontweight='bold', fontfamily='serif')\n",
    "\n",
    "plt.show()"
   ]
  },
  {
   "cell_type": "markdown",
   "id": "087de2d5",
   "metadata": {
    "papermill": {
     "duration": 0.019406,
     "end_time": "2023-09-05T10:50:59.813055",
     "exception": false,
     "start_time": "2023-09-05T10:50:59.793649",
     "status": "completed"
    },
    "tags": []
   },
   "source": [
    "## 4. Data Pre-Processing"
   ]
  },
  {
   "cell_type": "code",
   "execution_count": 30,
   "id": "24f70b7f",
   "metadata": {
    "execution": {
     "iopub.execute_input": "2023-09-05T10:50:59.853108Z",
     "iopub.status.busy": "2023-09-05T10:50:59.852113Z",
     "iopub.status.idle": "2023-09-05T10:50:59.861378Z",
     "shell.execute_reply": "2023-09-05T10:50:59.859657Z"
    },
    "papermill": {
     "duration": 0.031919,
     "end_time": "2023-09-05T10:50:59.864117",
     "exception": false,
     "start_time": "2023-09-05T10:50:59.832198",
     "status": "completed"
    },
    "tags": []
   },
   "outputs": [],
   "source": [
    "#splitting the data\n",
    "X = df1.drop(\"Autism\", axis = 1)    # select all other feature except \"Class/ASD\" for training\n",
    "y = df1[['Autism']]"
   ]
  },
  {
   "cell_type": "code",
   "execution_count": 31,
   "id": "a9ae6f42",
   "metadata": {
    "execution": {
     "iopub.execute_input": "2023-09-05T10:50:59.905674Z",
     "iopub.status.busy": "2023-09-05T10:50:59.905359Z",
     "iopub.status.idle": "2023-09-05T10:50:59.927563Z",
     "shell.execute_reply": "2023-09-05T10:50:59.926840Z"
    },
    "papermill": {
     "duration": 0.046162,
     "end_time": "2023-09-05T10:50:59.929398",
     "exception": false,
     "start_time": "2023-09-05T10:50:59.883236",
     "status": "completed"
    },
    "tags": []
   },
   "outputs": [
    {
     "data": {
      "text/html": [
       "<div>\n",
       "<style scoped>\n",
       "    .dataframe tbody tr th:only-of-type {\n",
       "        vertical-align: middle;\n",
       "    }\n",
       "\n",
       "    .dataframe tbody tr th {\n",
       "        vertical-align: top;\n",
       "    }\n",
       "\n",
       "    .dataframe thead th {\n",
       "        text-align: right;\n",
       "    }\n",
       "</style>\n",
       "<table border=\"1\" class=\"dataframe\">\n",
       "  <thead>\n",
       "    <tr style=\"text-align: right;\">\n",
       "      <th></th>\n",
       "      <th>A1_Score</th>\n",
       "      <th>A2_Score</th>\n",
       "      <th>A3_Score</th>\n",
       "      <th>A4_Score</th>\n",
       "      <th>A5_Score</th>\n",
       "      <th>A6_Score</th>\n",
       "      <th>A7_Score</th>\n",
       "      <th>A8_Score</th>\n",
       "      <th>A9_Score</th>\n",
       "      <th>A10_Score</th>\n",
       "      <th>age</th>\n",
       "      <th>gender</th>\n",
       "      <th>ethnicity</th>\n",
       "      <th>jundice</th>\n",
       "      <th>family_hx</th>\n",
       "      <th>country_of_res</th>\n",
       "      <th>result</th>\n",
       "      <th>relation</th>\n",
       "    </tr>\n",
       "  </thead>\n",
       "  <tbody>\n",
       "    <tr>\n",
       "      <th>0</th>\n",
       "      <td>1</td>\n",
       "      <td>1</td>\n",
       "      <td>1</td>\n",
       "      <td>1</td>\n",
       "      <td>0</td>\n",
       "      <td>0</td>\n",
       "      <td>1</td>\n",
       "      <td>1</td>\n",
       "      <td>0</td>\n",
       "      <td>0</td>\n",
       "      <td>26.0</td>\n",
       "      <td>f</td>\n",
       "      <td>White-European</td>\n",
       "      <td>no</td>\n",
       "      <td>no</td>\n",
       "      <td>United States</td>\n",
       "      <td>6.0</td>\n",
       "      <td>Self</td>\n",
       "    </tr>\n",
       "    <tr>\n",
       "      <th>1</th>\n",
       "      <td>1</td>\n",
       "      <td>1</td>\n",
       "      <td>0</td>\n",
       "      <td>1</td>\n",
       "      <td>0</td>\n",
       "      <td>0</td>\n",
       "      <td>0</td>\n",
       "      <td>1</td>\n",
       "      <td>0</td>\n",
       "      <td>1</td>\n",
       "      <td>24.0</td>\n",
       "      <td>m</td>\n",
       "      <td>Latino</td>\n",
       "      <td>no</td>\n",
       "      <td>yes</td>\n",
       "      <td>Brazil</td>\n",
       "      <td>5.0</td>\n",
       "      <td>Self</td>\n",
       "    </tr>\n",
       "    <tr>\n",
       "      <th>2</th>\n",
       "      <td>1</td>\n",
       "      <td>1</td>\n",
       "      <td>0</td>\n",
       "      <td>1</td>\n",
       "      <td>1</td>\n",
       "      <td>0</td>\n",
       "      <td>1</td>\n",
       "      <td>1</td>\n",
       "      <td>1</td>\n",
       "      <td>1</td>\n",
       "      <td>27.0</td>\n",
       "      <td>m</td>\n",
       "      <td>Latino</td>\n",
       "      <td>yes</td>\n",
       "      <td>yes</td>\n",
       "      <td>Spain</td>\n",
       "      <td>8.0</td>\n",
       "      <td>Parent</td>\n",
       "    </tr>\n",
       "    <tr>\n",
       "      <th>3</th>\n",
       "      <td>1</td>\n",
       "      <td>1</td>\n",
       "      <td>0</td>\n",
       "      <td>1</td>\n",
       "      <td>0</td>\n",
       "      <td>0</td>\n",
       "      <td>1</td>\n",
       "      <td>1</td>\n",
       "      <td>0</td>\n",
       "      <td>1</td>\n",
       "      <td>35.0</td>\n",
       "      <td>f</td>\n",
       "      <td>White-European</td>\n",
       "      <td>no</td>\n",
       "      <td>yes</td>\n",
       "      <td>United States</td>\n",
       "      <td>6.0</td>\n",
       "      <td>Self</td>\n",
       "    </tr>\n",
       "    <tr>\n",
       "      <th>4</th>\n",
       "      <td>1</td>\n",
       "      <td>0</td>\n",
       "      <td>0</td>\n",
       "      <td>0</td>\n",
       "      <td>0</td>\n",
       "      <td>0</td>\n",
       "      <td>0</td>\n",
       "      <td>1</td>\n",
       "      <td>0</td>\n",
       "      <td>0</td>\n",
       "      <td>40.0</td>\n",
       "      <td>f</td>\n",
       "      <td>Others</td>\n",
       "      <td>no</td>\n",
       "      <td>no</td>\n",
       "      <td>Egypt</td>\n",
       "      <td>2.0</td>\n",
       "      <td>Self</td>\n",
       "    </tr>\n",
       "    <tr>\n",
       "      <th>...</th>\n",
       "      <td>...</td>\n",
       "      <td>...</td>\n",
       "      <td>...</td>\n",
       "      <td>...</td>\n",
       "      <td>...</td>\n",
       "      <td>...</td>\n",
       "      <td>...</td>\n",
       "      <td>...</td>\n",
       "      <td>...</td>\n",
       "      <td>...</td>\n",
       "      <td>...</td>\n",
       "      <td>...</td>\n",
       "      <td>...</td>\n",
       "      <td>...</td>\n",
       "      <td>...</td>\n",
       "      <td>...</td>\n",
       "      <td>...</td>\n",
       "      <td>...</td>\n",
       "    </tr>\n",
       "    <tr>\n",
       "      <th>698</th>\n",
       "      <td>0</td>\n",
       "      <td>1</td>\n",
       "      <td>0</td>\n",
       "      <td>1</td>\n",
       "      <td>1</td>\n",
       "      <td>0</td>\n",
       "      <td>1</td>\n",
       "      <td>1</td>\n",
       "      <td>1</td>\n",
       "      <td>1</td>\n",
       "      <td>25.0</td>\n",
       "      <td>f</td>\n",
       "      <td>White-European</td>\n",
       "      <td>no</td>\n",
       "      <td>no</td>\n",
       "      <td>Russia</td>\n",
       "      <td>7.0</td>\n",
       "      <td>Self</td>\n",
       "    </tr>\n",
       "    <tr>\n",
       "      <th>699</th>\n",
       "      <td>1</td>\n",
       "      <td>0</td>\n",
       "      <td>0</td>\n",
       "      <td>0</td>\n",
       "      <td>0</td>\n",
       "      <td>0</td>\n",
       "      <td>0</td>\n",
       "      <td>1</td>\n",
       "      <td>0</td>\n",
       "      <td>1</td>\n",
       "      <td>34.0</td>\n",
       "      <td>m</td>\n",
       "      <td>Hispanic</td>\n",
       "      <td>no</td>\n",
       "      <td>no</td>\n",
       "      <td>Mexico</td>\n",
       "      <td>3.0</td>\n",
       "      <td>Parent</td>\n",
       "    </tr>\n",
       "    <tr>\n",
       "      <th>700</th>\n",
       "      <td>1</td>\n",
       "      <td>0</td>\n",
       "      <td>1</td>\n",
       "      <td>1</td>\n",
       "      <td>1</td>\n",
       "      <td>0</td>\n",
       "      <td>1</td>\n",
       "      <td>1</td>\n",
       "      <td>0</td>\n",
       "      <td>1</td>\n",
       "      <td>24.0</td>\n",
       "      <td>f</td>\n",
       "      <td>Others</td>\n",
       "      <td>no</td>\n",
       "      <td>no</td>\n",
       "      <td>Russia</td>\n",
       "      <td>7.0</td>\n",
       "      <td>Self</td>\n",
       "    </tr>\n",
       "    <tr>\n",
       "      <th>701</th>\n",
       "      <td>1</td>\n",
       "      <td>0</td>\n",
       "      <td>0</td>\n",
       "      <td>1</td>\n",
       "      <td>1</td>\n",
       "      <td>0</td>\n",
       "      <td>1</td>\n",
       "      <td>0</td>\n",
       "      <td>1</td>\n",
       "      <td>1</td>\n",
       "      <td>35.0</td>\n",
       "      <td>m</td>\n",
       "      <td>South Asian</td>\n",
       "      <td>no</td>\n",
       "      <td>no</td>\n",
       "      <td>Pakistan</td>\n",
       "      <td>6.0</td>\n",
       "      <td>Self</td>\n",
       "    </tr>\n",
       "    <tr>\n",
       "      <th>702</th>\n",
       "      <td>1</td>\n",
       "      <td>0</td>\n",
       "      <td>1</td>\n",
       "      <td>1</td>\n",
       "      <td>1</td>\n",
       "      <td>0</td>\n",
       "      <td>1</td>\n",
       "      <td>1</td>\n",
       "      <td>1</td>\n",
       "      <td>1</td>\n",
       "      <td>26.0</td>\n",
       "      <td>f</td>\n",
       "      <td>White-European</td>\n",
       "      <td>no</td>\n",
       "      <td>no</td>\n",
       "      <td>Cyprus</td>\n",
       "      <td>8.0</td>\n",
       "      <td>Self</td>\n",
       "    </tr>\n",
       "  </tbody>\n",
       "</table>\n",
       "<p>703 rows × 18 columns</p>\n",
       "</div>"
      ],
      "text/plain": [
       "     A1_Score  A2_Score  A3_Score  A4_Score  A5_Score  A6_Score  A7_Score  \\\n",
       "0           1         1         1         1         0         0         1   \n",
       "1           1         1         0         1         0         0         0   \n",
       "2           1         1         0         1         1         0         1   \n",
       "3           1         1         0         1         0         0         1   \n",
       "4           1         0         0         0         0         0         0   \n",
       "..        ...       ...       ...       ...       ...       ...       ...   \n",
       "698         0         1         0         1         1         0         1   \n",
       "699         1         0         0         0         0         0         0   \n",
       "700         1         0         1         1         1         0         1   \n",
       "701         1         0         0         1         1         0         1   \n",
       "702         1         0         1         1         1         0         1   \n",
       "\n",
       "     A8_Score  A9_Score  A10_Score   age gender       ethnicity jundice  \\\n",
       "0           1         0          0  26.0      f  White-European      no   \n",
       "1           1         0          1  24.0      m          Latino      no   \n",
       "2           1         1          1  27.0      m          Latino     yes   \n",
       "3           1         0          1  35.0      f  White-European      no   \n",
       "4           1         0          0  40.0      f          Others      no   \n",
       "..        ...       ...        ...   ...    ...             ...     ...   \n",
       "698         1         1          1  25.0      f  White-European      no   \n",
       "699         1         0          1  34.0      m        Hispanic      no   \n",
       "700         1         0          1  24.0      f          Others      no   \n",
       "701         0         1          1  35.0      m     South Asian      no   \n",
       "702         1         1          1  26.0      f  White-European      no   \n",
       "\n",
       "    family_hx country_of_res  result relation  \n",
       "0          no  United States     6.0     Self  \n",
       "1         yes         Brazil     5.0     Self  \n",
       "2         yes          Spain     8.0   Parent  \n",
       "3         yes  United States     6.0     Self  \n",
       "4          no          Egypt     2.0     Self  \n",
       "..        ...            ...     ...      ...  \n",
       "698        no         Russia     7.0     Self  \n",
       "699        no         Mexico     3.0   Parent  \n",
       "700        no         Russia     7.0     Self  \n",
       "701        no       Pakistan     6.0     Self  \n",
       "702        no         Cyprus     8.0     Self  \n",
       "\n",
       "[703 rows x 18 columns]"
      ]
     },
     "execution_count": 31,
     "metadata": {},
     "output_type": "execute_result"
    }
   ],
   "source": [
    "X"
   ]
  },
  {
   "cell_type": "code",
   "execution_count": 32,
   "id": "97d6bf9b",
   "metadata": {
    "execution": {
     "iopub.execute_input": "2023-09-05T10:50:59.969040Z",
     "iopub.status.busy": "2023-09-05T10:50:59.967994Z",
     "iopub.status.idle": "2023-09-05T10:50:59.975626Z",
     "shell.execute_reply": "2023-09-05T10:50:59.974110Z"
    },
    "papermill": {
     "duration": 0.030208,
     "end_time": "2023-09-05T10:50:59.978129",
     "exception": false,
     "start_time": "2023-09-05T10:50:59.947921",
     "status": "completed"
    },
    "tags": []
   },
   "outputs": [],
   "source": [
    "X_train, X_test, y_train, y_test = train_test_split(X, y, test_size = 0.25)"
   ]
  },
  {
   "cell_type": "code",
   "execution_count": 33,
   "id": "cccb9fed",
   "metadata": {
    "execution": {
     "iopub.execute_input": "2023-09-05T10:51:00.018923Z",
     "iopub.status.busy": "2023-09-05T10:51:00.018251Z",
     "iopub.status.idle": "2023-09-05T10:51:00.023460Z",
     "shell.execute_reply": "2023-09-05T10:51:00.022520Z"
    },
    "papermill": {
     "duration": 0.027667,
     "end_time": "2023-09-05T10:51:00.025181",
     "exception": false,
     "start_time": "2023-09-05T10:50:59.997514",
     "status": "completed"
    },
    "tags": []
   },
   "outputs": [
    {
     "name": "stdout",
     "output_type": "stream",
     "text": [
      "Number of samples in X_train dataset: (527, 18)\n",
      "Number of samples in y_train dataset:(527, 1)\n",
      "Number of samples in y_test dataset: (176, 1)\n",
      "Number of samples in X_test dataset: (176, 18)\n"
     ]
    }
   ],
   "source": [
    "print(f\"Number of samples in X_train dataset: {X_train.shape}\")\n",
    "print(f\"Number of samples in y_train dataset:{y_train.shape}\")\n",
    "print(f\"Number of samples in y_test dataset: {y_test.shape}\")\n",
    "print(f\"Number of samples in X_test dataset: {X_test.shape}\")\n"
   ]
  },
  {
   "cell_type": "code",
   "execution_count": 34,
   "id": "17a09973",
   "metadata": {
    "execution": {
     "iopub.execute_input": "2023-09-05T10:51:00.064956Z",
     "iopub.status.busy": "2023-09-05T10:51:00.064417Z",
     "iopub.status.idle": "2023-09-05T10:51:00.083242Z",
     "shell.execute_reply": "2023-09-05T10:51:00.081855Z"
    },
    "papermill": {
     "duration": 0.041565,
     "end_time": "2023-09-05T10:51:00.085943",
     "exception": false,
     "start_time": "2023-09-05T10:51:00.044378",
     "status": "completed"
    },
    "tags": []
   },
   "outputs": [
    {
     "data": {
      "text/html": [
       "<div>\n",
       "<style scoped>\n",
       "    .dataframe tbody tr th:only-of-type {\n",
       "        vertical-align: middle;\n",
       "    }\n",
       "\n",
       "    .dataframe tbody tr th {\n",
       "        vertical-align: top;\n",
       "    }\n",
       "\n",
       "    .dataframe thead th {\n",
       "        text-align: right;\n",
       "    }\n",
       "</style>\n",
       "<table border=\"1\" class=\"dataframe\">\n",
       "  <thead>\n",
       "    <tr style=\"text-align: right;\">\n",
       "      <th></th>\n",
       "      <th>A1_Score</th>\n",
       "      <th>A2_Score</th>\n",
       "      <th>A3_Score</th>\n",
       "      <th>A4_Score</th>\n",
       "      <th>A5_Score</th>\n",
       "      <th>A6_Score</th>\n",
       "      <th>A7_Score</th>\n",
       "      <th>A8_Score</th>\n",
       "      <th>A9_Score</th>\n",
       "      <th>A10_Score</th>\n",
       "      <th>age</th>\n",
       "      <th>gender</th>\n",
       "      <th>ethnicity</th>\n",
       "      <th>jundice</th>\n",
       "      <th>family_hx</th>\n",
       "      <th>country_of_res</th>\n",
       "      <th>result</th>\n",
       "      <th>relation</th>\n",
       "    </tr>\n",
       "  </thead>\n",
       "  <tbody>\n",
       "    <tr>\n",
       "      <th>182</th>\n",
       "      <td>0</td>\n",
       "      <td>0</td>\n",
       "      <td>1</td>\n",
       "      <td>1</td>\n",
       "      <td>1</td>\n",
       "      <td>0</td>\n",
       "      <td>0</td>\n",
       "      <td>0</td>\n",
       "      <td>0</td>\n",
       "      <td>1</td>\n",
       "      <td>34.0</td>\n",
       "      <td>m</td>\n",
       "      <td>Asian</td>\n",
       "      <td>no</td>\n",
       "      <td>no</td>\n",
       "      <td>New Zealand</td>\n",
       "      <td>4.0</td>\n",
       "      <td>Self</td>\n",
       "    </tr>\n",
       "    <tr>\n",
       "      <th>646</th>\n",
       "      <td>1</td>\n",
       "      <td>0</td>\n",
       "      <td>1</td>\n",
       "      <td>0</td>\n",
       "      <td>0</td>\n",
       "      <td>1</td>\n",
       "      <td>0</td>\n",
       "      <td>1</td>\n",
       "      <td>0</td>\n",
       "      <td>1</td>\n",
       "      <td>18.0</td>\n",
       "      <td>m</td>\n",
       "      <td>White-European</td>\n",
       "      <td>yes</td>\n",
       "      <td>no</td>\n",
       "      <td>Angola</td>\n",
       "      <td>5.0</td>\n",
       "      <td>Parent</td>\n",
       "    </tr>\n",
       "    <tr>\n",
       "      <th>253</th>\n",
       "      <td>1</td>\n",
       "      <td>0</td>\n",
       "      <td>1</td>\n",
       "      <td>0</td>\n",
       "      <td>0</td>\n",
       "      <td>0</td>\n",
       "      <td>1</td>\n",
       "      <td>0</td>\n",
       "      <td>0</td>\n",
       "      <td>0</td>\n",
       "      <td>36.0</td>\n",
       "      <td>m</td>\n",
       "      <td>White-European</td>\n",
       "      <td>no</td>\n",
       "      <td>no</td>\n",
       "      <td>New Zealand</td>\n",
       "      <td>3.0</td>\n",
       "      <td>Self</td>\n",
       "    </tr>\n",
       "    <tr>\n",
       "      <th>293</th>\n",
       "      <td>0</td>\n",
       "      <td>0</td>\n",
       "      <td>0</td>\n",
       "      <td>0</td>\n",
       "      <td>0</td>\n",
       "      <td>0</td>\n",
       "      <td>0</td>\n",
       "      <td>0</td>\n",
       "      <td>0</td>\n",
       "      <td>0</td>\n",
       "      <td>40.0</td>\n",
       "      <td>f</td>\n",
       "      <td>Middle Eastern</td>\n",
       "      <td>no</td>\n",
       "      <td>no</td>\n",
       "      <td>Afghanistan</td>\n",
       "      <td>0.0</td>\n",
       "      <td>Parent</td>\n",
       "    </tr>\n",
       "    <tr>\n",
       "      <th>566</th>\n",
       "      <td>1</td>\n",
       "      <td>1</td>\n",
       "      <td>0</td>\n",
       "      <td>0</td>\n",
       "      <td>0</td>\n",
       "      <td>0</td>\n",
       "      <td>1</td>\n",
       "      <td>1</td>\n",
       "      <td>0</td>\n",
       "      <td>0</td>\n",
       "      <td>48.0</td>\n",
       "      <td>m</td>\n",
       "      <td>White-European</td>\n",
       "      <td>no</td>\n",
       "      <td>no</td>\n",
       "      <td>Australia</td>\n",
       "      <td>4.0</td>\n",
       "      <td>Self</td>\n",
       "    </tr>\n",
       "    <tr>\n",
       "      <th>568</th>\n",
       "      <td>1</td>\n",
       "      <td>0</td>\n",
       "      <td>1</td>\n",
       "      <td>1</td>\n",
       "      <td>0</td>\n",
       "      <td>0</td>\n",
       "      <td>0</td>\n",
       "      <td>0</td>\n",
       "      <td>0</td>\n",
       "      <td>0</td>\n",
       "      <td>34.0</td>\n",
       "      <td>f</td>\n",
       "      <td>White-European</td>\n",
       "      <td>no</td>\n",
       "      <td>no</td>\n",
       "      <td>United Kingdom</td>\n",
       "      <td>3.0</td>\n",
       "      <td>Self</td>\n",
       "    </tr>\n",
       "    <tr>\n",
       "      <th>261</th>\n",
       "      <td>1</td>\n",
       "      <td>0</td>\n",
       "      <td>0</td>\n",
       "      <td>0</td>\n",
       "      <td>0</td>\n",
       "      <td>0</td>\n",
       "      <td>1</td>\n",
       "      <td>1</td>\n",
       "      <td>0</td>\n",
       "      <td>0</td>\n",
       "      <td>26.0</td>\n",
       "      <td>m</td>\n",
       "      <td>Asian</td>\n",
       "      <td>no</td>\n",
       "      <td>no</td>\n",
       "      <td>India</td>\n",
       "      <td>3.0</td>\n",
       "      <td>Self</td>\n",
       "    </tr>\n",
       "    <tr>\n",
       "      <th>274</th>\n",
       "      <td>0</td>\n",
       "      <td>1</td>\n",
       "      <td>1</td>\n",
       "      <td>1</td>\n",
       "      <td>0</td>\n",
       "      <td>0</td>\n",
       "      <td>0</td>\n",
       "      <td>0</td>\n",
       "      <td>1</td>\n",
       "      <td>0</td>\n",
       "      <td>26.0</td>\n",
       "      <td>m</td>\n",
       "      <td>Asian</td>\n",
       "      <td>no</td>\n",
       "      <td>no</td>\n",
       "      <td>India</td>\n",
       "      <td>4.0</td>\n",
       "      <td>Others</td>\n",
       "    </tr>\n",
       "    <tr>\n",
       "      <th>197</th>\n",
       "      <td>1</td>\n",
       "      <td>1</td>\n",
       "      <td>1</td>\n",
       "      <td>0</td>\n",
       "      <td>1</td>\n",
       "      <td>1</td>\n",
       "      <td>0</td>\n",
       "      <td>1</td>\n",
       "      <td>1</td>\n",
       "      <td>0</td>\n",
       "      <td>31.0</td>\n",
       "      <td>m</td>\n",
       "      <td>White-European</td>\n",
       "      <td>no</td>\n",
       "      <td>no</td>\n",
       "      <td>United States</td>\n",
       "      <td>7.0</td>\n",
       "      <td>Self</td>\n",
       "    </tr>\n",
       "    <tr>\n",
       "      <th>501</th>\n",
       "      <td>0</td>\n",
       "      <td>1</td>\n",
       "      <td>0</td>\n",
       "      <td>0</td>\n",
       "      <td>1</td>\n",
       "      <td>0</td>\n",
       "      <td>1</td>\n",
       "      <td>1</td>\n",
       "      <td>0</td>\n",
       "      <td>0</td>\n",
       "      <td>37.0</td>\n",
       "      <td>m</td>\n",
       "      <td>White-European</td>\n",
       "      <td>no</td>\n",
       "      <td>no</td>\n",
       "      <td>Belgium</td>\n",
       "      <td>4.0</td>\n",
       "      <td>Self</td>\n",
       "    </tr>\n",
       "  </tbody>\n",
       "</table>\n",
       "</div>"
      ],
      "text/plain": [
       "     A1_Score  A2_Score  A3_Score  A4_Score  A5_Score  A6_Score  A7_Score  \\\n",
       "182         0         0         1         1         1         0         0   \n",
       "646         1         0         1         0         0         1         0   \n",
       "253         1         0         1         0         0         0         1   \n",
       "293         0         0         0         0         0         0         0   \n",
       "566         1         1         0         0         0         0         1   \n",
       "568         1         0         1         1         0         0         0   \n",
       "261         1         0         0         0         0         0         1   \n",
       "274         0         1         1         1         0         0         0   \n",
       "197         1         1         1         0         1         1         0   \n",
       "501         0         1         0         0         1         0         1   \n",
       "\n",
       "     A8_Score  A9_Score  A10_Score   age gender        ethnicity jundice  \\\n",
       "182         0         0          1  34.0      m            Asian      no   \n",
       "646         1         0          1  18.0      m   White-European     yes   \n",
       "253         0         0          0  36.0      m   White-European      no   \n",
       "293         0         0          0  40.0      f  Middle Eastern       no   \n",
       "566         1         0          0  48.0      m   White-European      no   \n",
       "568         0         0          0  34.0      f   White-European      no   \n",
       "261         1         0          0  26.0      m            Asian      no   \n",
       "274         0         1          0  26.0      m            Asian      no   \n",
       "197         1         1          0  31.0      m   White-European      no   \n",
       "501         1         0          0  37.0      m   White-European      no   \n",
       "\n",
       "    family_hx  country_of_res  result relation  \n",
       "182        no     New Zealand     4.0     Self  \n",
       "646        no          Angola     5.0   Parent  \n",
       "253        no     New Zealand     3.0     Self  \n",
       "293        no     Afghanistan     0.0   Parent  \n",
       "566        no       Australia     4.0     Self  \n",
       "568        no  United Kingdom     3.0     Self  \n",
       "261        no           India     3.0     Self  \n",
       "274        no           India     4.0   Others  \n",
       "197        no   United States     7.0     Self  \n",
       "501        no         Belgium     4.0     Self  "
      ]
     },
     "execution_count": 34,
     "metadata": {},
     "output_type": "execute_result"
    }
   ],
   "source": [
    "X_train.head(10)"
   ]
  },
  {
   "cell_type": "code",
   "execution_count": 35,
   "id": "95fdf5c9",
   "metadata": {
    "execution": {
     "iopub.execute_input": "2023-09-05T10:51:00.127651Z",
     "iopub.status.busy": "2023-09-05T10:51:00.127320Z",
     "iopub.status.idle": "2023-09-05T10:51:00.138021Z",
     "shell.execute_reply": "2023-09-05T10:51:00.136549Z"
    },
    "papermill": {
     "duration": 0.033795,
     "end_time": "2023-09-05T10:51:00.140433",
     "exception": false,
     "start_time": "2023-09-05T10:51:00.106638",
     "status": "completed"
    },
    "tags": []
   },
   "outputs": [
    {
     "data": {
      "text/html": [
       "<div>\n",
       "<style scoped>\n",
       "    .dataframe tbody tr th:only-of-type {\n",
       "        vertical-align: middle;\n",
       "    }\n",
       "\n",
       "    .dataframe tbody tr th {\n",
       "        vertical-align: top;\n",
       "    }\n",
       "\n",
       "    .dataframe thead th {\n",
       "        text-align: right;\n",
       "    }\n",
       "</style>\n",
       "<table border=\"1\" class=\"dataframe\">\n",
       "  <thead>\n",
       "    <tr style=\"text-align: right;\">\n",
       "      <th></th>\n",
       "      <th>Autism</th>\n",
       "    </tr>\n",
       "  </thead>\n",
       "  <tbody>\n",
       "    <tr>\n",
       "      <th>182</th>\n",
       "      <td>NO</td>\n",
       "    </tr>\n",
       "    <tr>\n",
       "      <th>646</th>\n",
       "      <td>NO</td>\n",
       "    </tr>\n",
       "    <tr>\n",
       "      <th>253</th>\n",
       "      <td>NO</td>\n",
       "    </tr>\n",
       "    <tr>\n",
       "      <th>293</th>\n",
       "      <td>NO</td>\n",
       "    </tr>\n",
       "    <tr>\n",
       "      <th>566</th>\n",
       "      <td>NO</td>\n",
       "    </tr>\n",
       "    <tr>\n",
       "      <th>568</th>\n",
       "      <td>NO</td>\n",
       "    </tr>\n",
       "    <tr>\n",
       "      <th>261</th>\n",
       "      <td>NO</td>\n",
       "    </tr>\n",
       "    <tr>\n",
       "      <th>274</th>\n",
       "      <td>NO</td>\n",
       "    </tr>\n",
       "    <tr>\n",
       "      <th>197</th>\n",
       "      <td>YES</td>\n",
       "    </tr>\n",
       "    <tr>\n",
       "      <th>501</th>\n",
       "      <td>NO</td>\n",
       "    </tr>\n",
       "  </tbody>\n",
       "</table>\n",
       "</div>"
      ],
      "text/plain": [
       "    Autism\n",
       "182     NO\n",
       "646     NO\n",
       "253     NO\n",
       "293     NO\n",
       "566     NO\n",
       "568     NO\n",
       "261     NO\n",
       "274     NO\n",
       "197    YES\n",
       "501     NO"
      ]
     },
     "execution_count": 35,
     "metadata": {},
     "output_type": "execute_result"
    }
   ],
   "source": [
    "y_train.head(10)"
   ]
  },
  {
   "cell_type": "code",
   "execution_count": 36,
   "id": "2445ff61",
   "metadata": {
    "execution": {
     "iopub.execute_input": "2023-09-05T10:51:00.182999Z",
     "iopub.status.busy": "2023-09-05T10:51:00.182431Z",
     "iopub.status.idle": "2023-09-05T10:51:00.187794Z",
     "shell.execute_reply": "2023-09-05T10:51:00.186290Z"
    },
    "papermill": {
     "duration": 0.030437,
     "end_time": "2023-09-05T10:51:00.190485",
     "exception": false,
     "start_time": "2023-09-05T10:51:00.160048",
     "status": "completed"
    },
    "tags": []
   },
   "outputs": [],
   "source": [
    "# Instead of writing out the full list above, we could use these pandas methods:\n",
    "numeric_features = X_train.select_dtypes('float64').columns\n",
    "categorical_features = X_train.select_dtypes('object').columns"
   ]
  },
  {
   "cell_type": "code",
   "execution_count": 37,
   "id": "b87b5300",
   "metadata": {
    "execution": {
     "iopub.execute_input": "2023-09-05T10:51:00.233067Z",
     "iopub.status.busy": "2023-09-05T10:51:00.232011Z",
     "iopub.status.idle": "2023-09-05T10:51:00.239149Z",
     "shell.execute_reply": "2023-09-05T10:51:00.237722Z"
    },
    "papermill": {
     "duration": 0.030809,
     "end_time": "2023-09-05T10:51:00.241294",
     "exception": false,
     "start_time": "2023-09-05T10:51:00.210485",
     "status": "completed"
    },
    "tags": []
   },
   "outputs": [
    {
     "data": {
      "text/plain": [
       "Index(['age', 'result'], dtype='object')"
      ]
     },
     "execution_count": 37,
     "metadata": {},
     "output_type": "execute_result"
    }
   ],
   "source": [
    "numeric_features"
   ]
  },
  {
   "cell_type": "code",
   "execution_count": 38,
   "id": "1df4dcdf",
   "metadata": {
    "execution": {
     "iopub.execute_input": "2023-09-05T10:51:00.283687Z",
     "iopub.status.busy": "2023-09-05T10:51:00.283135Z",
     "iopub.status.idle": "2023-09-05T10:51:00.291678Z",
     "shell.execute_reply": "2023-09-05T10:51:00.290246Z"
    },
    "papermill": {
     "duration": 0.033003,
     "end_time": "2023-09-05T10:51:00.294213",
     "exception": false,
     "start_time": "2023-09-05T10:51:00.261210",
     "status": "completed"
    },
    "tags": []
   },
   "outputs": [
    {
     "data": {
      "text/plain": [
       "Index(['gender', 'ethnicity', 'jundice', 'family_hx', 'country_of_res',\n",
       "       'relation'],\n",
       "      dtype='object')"
      ]
     },
     "execution_count": 38,
     "metadata": {},
     "output_type": "execute_result"
    }
   ],
   "source": [
    "categorical_features"
   ]
  },
  {
   "cell_type": "code",
   "execution_count": 39,
   "id": "c6fd5d0d",
   "metadata": {
    "execution": {
     "iopub.execute_input": "2023-09-05T10:51:00.337189Z",
     "iopub.status.busy": "2023-09-05T10:51:00.336825Z",
     "iopub.status.idle": "2023-09-05T10:51:00.342773Z",
     "shell.execute_reply": "2023-09-05T10:51:00.341025Z"
    },
    "papermill": {
     "duration": 0.030727,
     "end_time": "2023-09-05T10:51:00.345306",
     "exception": false,
     "start_time": "2023-09-05T10:51:00.314579",
     "status": "completed"
    },
    "tags": []
   },
   "outputs": [],
   "source": [
    "from sklearn.pipeline import Pipeline\n",
    "from sklearn.preprocessing import OneHotEncoder\n",
    "\n",
    "categorical_transformer = Pipeline(steps=[\n",
    "    ('onehot', OneHotEncoder(handle_unknown='ignore')),\n",
    "])"
   ]
  },
  {
   "cell_type": "code",
   "execution_count": 40,
   "id": "4e172d07",
   "metadata": {
    "execution": {
     "iopub.execute_input": "2023-09-05T10:51:00.388032Z",
     "iopub.status.busy": "2023-09-05T10:51:00.387616Z",
     "iopub.status.idle": "2023-09-05T10:51:00.393858Z",
     "shell.execute_reply": "2023-09-05T10:51:00.392057Z"
    },
    "papermill": {
     "duration": 0.030484,
     "end_time": "2023-09-05T10:51:00.395995",
     "exception": false,
     "start_time": "2023-09-05T10:51:00.365511",
     "status": "completed"
    },
    "tags": []
   },
   "outputs": [],
   "source": [
    "from sklearn.preprocessing import StandardScaler\n",
    "\n",
    "numeric_transformer = Pipeline(steps=[('scaler', StandardScaler())])"
   ]
  },
  {
   "cell_type": "code",
   "execution_count": 41,
   "id": "64b5920c",
   "metadata": {
    "execution": {
     "iopub.execute_input": "2023-09-05T10:51:00.438192Z",
     "iopub.status.busy": "2023-09-05T10:51:00.437821Z",
     "iopub.status.idle": "2023-09-05T10:51:00.454944Z",
     "shell.execute_reply": "2023-09-05T10:51:00.453630Z"
    },
    "papermill": {
     "duration": 0.040917,
     "end_time": "2023-09-05T10:51:00.457391",
     "exception": false,
     "start_time": "2023-09-05T10:51:00.416474",
     "status": "completed"
    },
    "tags": []
   },
   "outputs": [],
   "source": [
    "#We'll be using a ColumnTransformer for this bit. Let's combine these transformation pipelines.\n",
    "from sklearn.compose import ColumnTransformer\n",
    "\n",
    "preprocessor = ColumnTransformer(\n",
    "    transformers=[\n",
    "        ('numeric', numeric_transformer, numeric_features),\n",
    "        ('categorical', categorical_transformer, categorical_features)\n",
    "    ], remainder=\"passthrough\"\n",
    ")"
   ]
  },
  {
   "cell_type": "code",
   "execution_count": 42,
   "id": "90ae6cdc",
   "metadata": {
    "execution": {
     "iopub.execute_input": "2023-09-05T10:51:00.500035Z",
     "iopub.status.busy": "2023-09-05T10:51:00.499665Z",
     "iopub.status.idle": "2023-09-05T10:51:00.541330Z",
     "shell.execute_reply": "2023-09-05T10:51:00.540153Z"
    },
    "papermill": {
     "duration": 0.065607,
     "end_time": "2023-09-05T10:51:00.543832",
     "exception": false,
     "start_time": "2023-09-05T10:51:00.478225",
     "status": "completed"
    },
    "tags": []
   },
   "outputs": [
    {
     "data": {
      "text/html": [
       "<style>#sk-container-id-1 {color: black;background-color: white;}#sk-container-id-1 pre{padding: 0;}#sk-container-id-1 div.sk-toggleable {background-color: white;}#sk-container-id-1 label.sk-toggleable__label {cursor: pointer;display: block;width: 100%;margin-bottom: 0;padding: 0.3em;box-sizing: border-box;text-align: center;}#sk-container-id-1 label.sk-toggleable__label-arrow:before {content: \"▸\";float: left;margin-right: 0.25em;color: #696969;}#sk-container-id-1 label.sk-toggleable__label-arrow:hover:before {color: black;}#sk-container-id-1 div.sk-estimator:hover label.sk-toggleable__label-arrow:before {color: black;}#sk-container-id-1 div.sk-toggleable__content {max-height: 0;max-width: 0;overflow: hidden;text-align: left;background-color: #f0f8ff;}#sk-container-id-1 div.sk-toggleable__content pre {margin: 0.2em;color: black;border-radius: 0.25em;background-color: #f0f8ff;}#sk-container-id-1 input.sk-toggleable__control:checked~div.sk-toggleable__content {max-height: 200px;max-width: 100%;overflow: auto;}#sk-container-id-1 input.sk-toggleable__control:checked~label.sk-toggleable__label-arrow:before {content: \"▾\";}#sk-container-id-1 div.sk-estimator input.sk-toggleable__control:checked~label.sk-toggleable__label {background-color: #d4ebff;}#sk-container-id-1 div.sk-label input.sk-toggleable__control:checked~label.sk-toggleable__label {background-color: #d4ebff;}#sk-container-id-1 input.sk-hidden--visually {border: 0;clip: rect(1px 1px 1px 1px);clip: rect(1px, 1px, 1px, 1px);height: 1px;margin: -1px;overflow: hidden;padding: 0;position: absolute;width: 1px;}#sk-container-id-1 div.sk-estimator {font-family: monospace;background-color: #f0f8ff;border: 1px dotted black;border-radius: 0.25em;box-sizing: border-box;margin-bottom: 0.5em;}#sk-container-id-1 div.sk-estimator:hover {background-color: #d4ebff;}#sk-container-id-1 div.sk-parallel-item::after {content: \"\";width: 100%;border-bottom: 1px solid gray;flex-grow: 1;}#sk-container-id-1 div.sk-label:hover label.sk-toggleable__label {background-color: #d4ebff;}#sk-container-id-1 div.sk-serial::before {content: \"\";position: absolute;border-left: 1px solid gray;box-sizing: border-box;top: 0;bottom: 0;left: 50%;z-index: 0;}#sk-container-id-1 div.sk-serial {display: flex;flex-direction: column;align-items: center;background-color: white;padding-right: 0.2em;padding-left: 0.2em;position: relative;}#sk-container-id-1 div.sk-item {position: relative;z-index: 1;}#sk-container-id-1 div.sk-parallel {display: flex;align-items: stretch;justify-content: center;background-color: white;position: relative;}#sk-container-id-1 div.sk-item::before, #sk-container-id-1 div.sk-parallel-item::before {content: \"\";position: absolute;border-left: 1px solid gray;box-sizing: border-box;top: 0;bottom: 0;left: 50%;z-index: -1;}#sk-container-id-1 div.sk-parallel-item {display: flex;flex-direction: column;z-index: 1;position: relative;background-color: white;}#sk-container-id-1 div.sk-parallel-item:first-child::after {align-self: flex-end;width: 50%;}#sk-container-id-1 div.sk-parallel-item:last-child::after {align-self: flex-start;width: 50%;}#sk-container-id-1 div.sk-parallel-item:only-child::after {width: 0;}#sk-container-id-1 div.sk-dashed-wrapped {border: 1px dashed gray;margin: 0 0.4em 0.5em 0.4em;box-sizing: border-box;padding-bottom: 0.4em;background-color: white;}#sk-container-id-1 div.sk-label label {font-family: monospace;font-weight: bold;display: inline-block;line-height: 1.2em;}#sk-container-id-1 div.sk-label-container {text-align: center;}#sk-container-id-1 div.sk-container {/* jupyter's `normalize.less` sets `[hidden] { display: none; }` but bootstrap.min.css set `[hidden] { display: none !important; }` so we also need the `!important` here to be able to override the default hidden behavior on the sphinx rendered scikit-learn.org. See: https://github.com/scikit-learn/scikit-learn/issues/21755 */display: inline-block !important;position: relative;}#sk-container-id-1 div.sk-text-repr-fallback {display: none;}</style><div id=\"sk-container-id-1\" class=\"sk-top-container\"><div class=\"sk-text-repr-fallback\"><pre>ColumnTransformer(remainder=&#x27;passthrough&#x27;,\n",
       "                  transformers=[(&#x27;numeric&#x27;,\n",
       "                                 Pipeline(steps=[(&#x27;scaler&#x27;, StandardScaler())]),\n",
       "                                 Index([&#x27;age&#x27;, &#x27;result&#x27;], dtype=&#x27;object&#x27;)),\n",
       "                                (&#x27;categorical&#x27;,\n",
       "                                 Pipeline(steps=[(&#x27;onehot&#x27;,\n",
       "                                                  OneHotEncoder(handle_unknown=&#x27;ignore&#x27;))]),\n",
       "                                 Index([&#x27;gender&#x27;, &#x27;ethnicity&#x27;, &#x27;jundice&#x27;, &#x27;family_hx&#x27;, &#x27;country_of_res&#x27;,\n",
       "       &#x27;relation&#x27;],\n",
       "      dtype=&#x27;object&#x27;))])</pre><b>In a Jupyter environment, please rerun this cell to show the HTML representation or trust the notebook. <br />On GitHub, the HTML representation is unable to render, please try loading this page with nbviewer.org.</b></div><div class=\"sk-container\" hidden><div class=\"sk-item sk-dashed-wrapped\"><div class=\"sk-label-container\"><div class=\"sk-label sk-toggleable\"><input class=\"sk-toggleable__control sk-hidden--visually\" id=\"sk-estimator-id-1\" type=\"checkbox\" ><label for=\"sk-estimator-id-1\" class=\"sk-toggleable__label sk-toggleable__label-arrow\">ColumnTransformer</label><div class=\"sk-toggleable__content\"><pre>ColumnTransformer(remainder=&#x27;passthrough&#x27;,\n",
       "                  transformers=[(&#x27;numeric&#x27;,\n",
       "                                 Pipeline(steps=[(&#x27;scaler&#x27;, StandardScaler())]),\n",
       "                                 Index([&#x27;age&#x27;, &#x27;result&#x27;], dtype=&#x27;object&#x27;)),\n",
       "                                (&#x27;categorical&#x27;,\n",
       "                                 Pipeline(steps=[(&#x27;onehot&#x27;,\n",
       "                                                  OneHotEncoder(handle_unknown=&#x27;ignore&#x27;))]),\n",
       "                                 Index([&#x27;gender&#x27;, &#x27;ethnicity&#x27;, &#x27;jundice&#x27;, &#x27;family_hx&#x27;, &#x27;country_of_res&#x27;,\n",
       "       &#x27;relation&#x27;],\n",
       "      dtype=&#x27;object&#x27;))])</pre></div></div></div><div class=\"sk-parallel\"><div class=\"sk-parallel-item\"><div class=\"sk-item\"><div class=\"sk-label-container\"><div class=\"sk-label sk-toggleable\"><input class=\"sk-toggleable__control sk-hidden--visually\" id=\"sk-estimator-id-2\" type=\"checkbox\" ><label for=\"sk-estimator-id-2\" class=\"sk-toggleable__label sk-toggleable__label-arrow\">numeric</label><div class=\"sk-toggleable__content\"><pre>Index([&#x27;age&#x27;, &#x27;result&#x27;], dtype=&#x27;object&#x27;)</pre></div></div></div><div class=\"sk-serial\"><div class=\"sk-item\"><div class=\"sk-serial\"><div class=\"sk-item\"><div class=\"sk-estimator sk-toggleable\"><input class=\"sk-toggleable__control sk-hidden--visually\" id=\"sk-estimator-id-3\" type=\"checkbox\" ><label for=\"sk-estimator-id-3\" class=\"sk-toggleable__label sk-toggleable__label-arrow\">StandardScaler</label><div class=\"sk-toggleable__content\"><pre>StandardScaler()</pre></div></div></div></div></div></div></div></div><div class=\"sk-parallel-item\"><div class=\"sk-item\"><div class=\"sk-label-container\"><div class=\"sk-label sk-toggleable\"><input class=\"sk-toggleable__control sk-hidden--visually\" id=\"sk-estimator-id-4\" type=\"checkbox\" ><label for=\"sk-estimator-id-4\" class=\"sk-toggleable__label sk-toggleable__label-arrow\">categorical</label><div class=\"sk-toggleable__content\"><pre>Index([&#x27;gender&#x27;, &#x27;ethnicity&#x27;, &#x27;jundice&#x27;, &#x27;family_hx&#x27;, &#x27;country_of_res&#x27;,\n",
       "       &#x27;relation&#x27;],\n",
       "      dtype=&#x27;object&#x27;)</pre></div></div></div><div class=\"sk-serial\"><div class=\"sk-item\"><div class=\"sk-serial\"><div class=\"sk-item\"><div class=\"sk-estimator sk-toggleable\"><input class=\"sk-toggleable__control sk-hidden--visually\" id=\"sk-estimator-id-5\" type=\"checkbox\" ><label for=\"sk-estimator-id-5\" class=\"sk-toggleable__label sk-toggleable__label-arrow\">OneHotEncoder</label><div class=\"sk-toggleable__content\"><pre>OneHotEncoder(handle_unknown=&#x27;ignore&#x27;)</pre></div></div></div></div></div></div></div></div><div class=\"sk-parallel-item\"><div class=\"sk-item\"><div class=\"sk-label-container\"><div class=\"sk-label sk-toggleable\"><input class=\"sk-toggleable__control sk-hidden--visually\" id=\"sk-estimator-id-6\" type=\"checkbox\" ><label for=\"sk-estimator-id-6\" class=\"sk-toggleable__label sk-toggleable__label-arrow\">remainder</label><div class=\"sk-toggleable__content\"><pre>[&#x27;A1_Score&#x27;, &#x27;A2_Score&#x27;, &#x27;A3_Score&#x27;, &#x27;A4_Score&#x27;, &#x27;A5_Score&#x27;, &#x27;A6_Score&#x27;, &#x27;A7_Score&#x27;, &#x27;A8_Score&#x27;, &#x27;A9_Score&#x27;, &#x27;A10_Score&#x27;]</pre></div></div></div><div class=\"sk-serial\"><div class=\"sk-item\"><div class=\"sk-estimator sk-toggleable\"><input class=\"sk-toggleable__control sk-hidden--visually\" id=\"sk-estimator-id-7\" type=\"checkbox\" ><label for=\"sk-estimator-id-7\" class=\"sk-toggleable__label sk-toggleable__label-arrow\">passthrough</label><div class=\"sk-toggleable__content\"><pre>passthrough</pre></div></div></div></div></div></div></div></div></div></div>"
      ],
      "text/plain": [
       "ColumnTransformer(remainder='passthrough',\n",
       "                  transformers=[('numeric',\n",
       "                                 Pipeline(steps=[('scaler', StandardScaler())]),\n",
       "                                 Index(['age', 'result'], dtype='object')),\n",
       "                                ('categorical',\n",
       "                                 Pipeline(steps=[('onehot',\n",
       "                                                  OneHotEncoder(handle_unknown='ignore'))]),\n",
       "                                 Index(['gender', 'ethnicity', 'jundice', 'family_hx', 'country_of_res',\n",
       "       'relation'],\n",
       "      dtype='object'))])"
      ]
     },
     "execution_count": 42,
     "metadata": {},
     "output_type": "execute_result"
    }
   ],
   "source": [
    "preprocessor.fit(X_train)"
   ]
  },
  {
   "cell_type": "markdown",
   "id": "2907f634",
   "metadata": {
    "papermill": {
     "duration": 0.019807,
     "end_time": "2023-09-05T10:51:00.583801",
     "exception": false,
     "start_time": "2023-09-05T10:51:00.563994",
     "status": "completed"
    },
    "tags": []
   },
   "source": [
    "When we fit with the column transformer(preprocessor), it calls fit on all the transformers.\n",
    "\n",
    "And when we transform with the preprocessor, it calls transform on all the transformers."
   ]
  },
  {
   "cell_type": "code",
   "execution_count": 43,
   "id": "c3a541dc",
   "metadata": {
    "execution": {
     "iopub.execute_input": "2023-09-05T10:51:00.626478Z",
     "iopub.status.busy": "2023-09-05T10:51:00.626116Z",
     "iopub.status.idle": "2023-09-05T10:51:00.634202Z",
     "shell.execute_reply": "2023-09-05T10:51:00.633195Z"
    },
    "papermill": {
     "duration": 0.03219,
     "end_time": "2023-09-05T10:51:00.636642",
     "exception": false,
     "start_time": "2023-09-05T10:51:00.604452",
     "status": "completed"
    },
    "tags": []
   },
   "outputs": [
    {
     "data": {
      "text/plain": [
       "array(['gender_f', 'gender_m', 'ethnicity_Asian', 'ethnicity_Black',\n",
       "       'ethnicity_Hispanic', 'ethnicity_Latino',\n",
       "       'ethnicity_Middle Eastern ', 'ethnicity_Others',\n",
       "       'ethnicity_Pasifika', 'ethnicity_South Asian', 'ethnicity_Turkish',\n",
       "       'ethnicity_White-European', 'jundice_no', 'jundice_yes',\n",
       "       'family_hx_no', 'family_hx_yes', 'country_of_res_Afghanistan',\n",
       "       'country_of_res_AmericanSamoa', 'country_of_res_Angola',\n",
       "       'country_of_res_Armenia', 'country_of_res_Aruba',\n",
       "       'country_of_res_Australia', 'country_of_res_Austria',\n",
       "       'country_of_res_Azerbaijan', 'country_of_res_Bahamas',\n",
       "       'country_of_res_Bangladesh', 'country_of_res_Belgium',\n",
       "       'country_of_res_Brazil', 'country_of_res_Burundi',\n",
       "       'country_of_res_Canada', 'country_of_res_China',\n",
       "       'country_of_res_Cyprus', 'country_of_res_Egypt',\n",
       "       'country_of_res_Ethiopia', 'country_of_res_France',\n",
       "       'country_of_res_Germany', 'country_of_res_Hong Kong',\n",
       "       'country_of_res_Iceland', 'country_of_res_India',\n",
       "       'country_of_res_Indonesia', 'country_of_res_Iran',\n",
       "       'country_of_res_Iraq', 'country_of_res_Ireland',\n",
       "       'country_of_res_Italy', 'country_of_res_Jordan',\n",
       "       'country_of_res_Kazakhstan', 'country_of_res_Lebanon',\n",
       "       'country_of_res_Malaysia', 'country_of_res_Mexico',\n",
       "       'country_of_res_Nepal', 'country_of_res_Netherlands',\n",
       "       'country_of_res_New Zealand', 'country_of_res_Nicaragua',\n",
       "       'country_of_res_Niger', 'country_of_res_Pakistan',\n",
       "       'country_of_res_Philippines', 'country_of_res_Romania',\n",
       "       'country_of_res_Russia', 'country_of_res_Saudi Arabia',\n",
       "       'country_of_res_Serbia', 'country_of_res_Sierra Leone',\n",
       "       'country_of_res_South Africa', 'country_of_res_Spain',\n",
       "       'country_of_res_Sri Lanka', 'country_of_res_Sweden',\n",
       "       'country_of_res_Tonga', 'country_of_res_Turkey',\n",
       "       'country_of_res_Ukraine', 'country_of_res_United Arab Emirates',\n",
       "       'country_of_res_United Kingdom', 'country_of_res_United States',\n",
       "       'country_of_res_Uruguay', 'country_of_res_Viet Nam',\n",
       "       'relation_Health care professional', 'relation_Others',\n",
       "       'relation_Parent', 'relation_Relative', 'relation_Self'],\n",
       "      dtype=object)"
      ]
     },
     "execution_count": 43,
     "metadata": {},
     "output_type": "execute_result"
    }
   ],
   "source": [
    "#To access the columns that were one hot encoded, Let’s say I wanted to see the newly created columns from One-hot-encoding\n",
    "\n",
    "onehot_cols = (\n",
    "    preprocessor\n",
    "    .named_transformers_[\"categorical\"]\n",
    "    .named_steps[\"onehot\"]\n",
    "    .get_feature_names_out(categorical_features)\n",
    ")\n",
    "onehot_cols"
   ]
  },
  {
   "cell_type": "code",
   "execution_count": 44,
   "id": "d86c9797",
   "metadata": {
    "execution": {
     "iopub.execute_input": "2023-09-05T10:51:00.679583Z",
     "iopub.status.busy": "2023-09-05T10:51:00.679155Z",
     "iopub.status.idle": "2023-09-05T10:51:00.687562Z",
     "shell.execute_reply": "2023-09-05T10:51:00.686366Z"
    },
    "papermill": {
     "duration": 0.032073,
     "end_time": "2023-09-05T10:51:00.689502",
     "exception": false,
     "start_time": "2023-09-05T10:51:00.657429",
     "status": "completed"
    },
    "tags": []
   },
   "outputs": [
    {
     "data": {
      "text/plain": [
       "['age',\n",
       " 'result',\n",
       " 'gender_f',\n",
       " 'gender_m',\n",
       " 'ethnicity_Asian',\n",
       " 'ethnicity_Black',\n",
       " 'ethnicity_Hispanic',\n",
       " 'ethnicity_Latino',\n",
       " 'ethnicity_Middle Eastern ',\n",
       " 'ethnicity_Others',\n",
       " 'ethnicity_Pasifika',\n",
       " 'ethnicity_South Asian',\n",
       " 'ethnicity_Turkish',\n",
       " 'ethnicity_White-European',\n",
       " 'jundice_no',\n",
       " 'jundice_yes',\n",
       " 'family_hx_no',\n",
       " 'family_hx_yes',\n",
       " 'country_of_res_Afghanistan',\n",
       " 'country_of_res_AmericanSamoa',\n",
       " 'country_of_res_Angola',\n",
       " 'country_of_res_Armenia',\n",
       " 'country_of_res_Aruba',\n",
       " 'country_of_res_Australia',\n",
       " 'country_of_res_Austria',\n",
       " 'country_of_res_Azerbaijan',\n",
       " 'country_of_res_Bahamas',\n",
       " 'country_of_res_Bangladesh',\n",
       " 'country_of_res_Belgium',\n",
       " 'country_of_res_Brazil',\n",
       " 'country_of_res_Burundi',\n",
       " 'country_of_res_Canada',\n",
       " 'country_of_res_China',\n",
       " 'country_of_res_Cyprus',\n",
       " 'country_of_res_Egypt',\n",
       " 'country_of_res_Ethiopia',\n",
       " 'country_of_res_France',\n",
       " 'country_of_res_Germany',\n",
       " 'country_of_res_Hong Kong',\n",
       " 'country_of_res_Iceland',\n",
       " 'country_of_res_India',\n",
       " 'country_of_res_Indonesia',\n",
       " 'country_of_res_Iran',\n",
       " 'country_of_res_Iraq',\n",
       " 'country_of_res_Ireland',\n",
       " 'country_of_res_Italy',\n",
       " 'country_of_res_Jordan',\n",
       " 'country_of_res_Kazakhstan',\n",
       " 'country_of_res_Lebanon',\n",
       " 'country_of_res_Malaysia',\n",
       " 'country_of_res_Mexico',\n",
       " 'country_of_res_Nepal',\n",
       " 'country_of_res_Netherlands',\n",
       " 'country_of_res_New Zealand',\n",
       " 'country_of_res_Nicaragua',\n",
       " 'country_of_res_Niger',\n",
       " 'country_of_res_Pakistan',\n",
       " 'country_of_res_Philippines',\n",
       " 'country_of_res_Romania',\n",
       " 'country_of_res_Russia',\n",
       " 'country_of_res_Saudi Arabia',\n",
       " 'country_of_res_Serbia',\n",
       " 'country_of_res_Sierra Leone',\n",
       " 'country_of_res_South Africa',\n",
       " 'country_of_res_Spain',\n",
       " 'country_of_res_Sri Lanka',\n",
       " 'country_of_res_Sweden',\n",
       " 'country_of_res_Tonga',\n",
       " 'country_of_res_Turkey',\n",
       " 'country_of_res_Ukraine',\n",
       " 'country_of_res_United Arab Emirates',\n",
       " 'country_of_res_United Kingdom',\n",
       " 'country_of_res_United States',\n",
       " 'country_of_res_Uruguay',\n",
       " 'country_of_res_Viet Nam',\n",
       " 'relation_Health care professional',\n",
       " 'relation_Others',\n",
       " 'relation_Parent',\n",
       " 'relation_Relative',\n",
       " 'relation_Self']"
      ]
     },
     "execution_count": 44,
     "metadata": {},
     "output_type": "execute_result"
    }
   ],
   "source": [
    "#Combining this with the numeric feature names gives us all the column names.\n",
    "\n",
    "columns = numeric_features.tolist() + onehot_cols.tolist()\n",
    "columns"
   ]
  },
  {
   "cell_type": "markdown",
   "id": "4dcd4d18",
   "metadata": {
    "papermill": {
     "duration": 0.019624,
     "end_time": "2023-09-05T10:51:00.729334",
     "exception": false,
     "start_time": "2023-09-05T10:51:00.709710",
     "status": "completed"
    },
    "tags": []
   },
   "source": [
    "## 4. Models\n",
    "There are a number of machine learning models commonly used for Binary Classification problems, such as Logistic Regression. K-Nearest Neighbours, Decision Trees, Support Vector Machine, and Naive Bayes. \n",
    "\n",
    "In this kernel, I will be using the following models:\n",
    "1. Logistic Regression (LR)\n",
    "2. Random Forest\n",
    "3. SVM\n",
    "\n",
    "It is important to note that ML models like LR and SVM do not support more than 2 classes as the target. We will also be using 10-fold cross validation method.\n",
    "\n"
   ]
  },
  {
   "cell_type": "code",
   "execution_count": 45,
   "id": "f9b965e8",
   "metadata": {
    "execution": {
     "iopub.execute_input": "2023-09-05T10:51:00.771115Z",
     "iopub.status.busy": "2023-09-05T10:51:00.770766Z",
     "iopub.status.idle": "2023-09-05T10:51:00.776052Z",
     "shell.execute_reply": "2023-09-05T10:51:00.775255Z"
    },
    "papermill": {
     "duration": 0.028955,
     "end_time": "2023-09-05T10:51:00.778341",
     "exception": false,
     "start_time": "2023-09-05T10:51:00.749386",
     "status": "completed"
    },
    "tags": []
   },
   "outputs": [],
   "source": [
    "logreg_pipe = Pipeline(\n",
    "    steps=[\n",
    "        (\"preprocessor\", preprocessor), # <-- this is the ColumnTransformer we just created\n",
    "        (\"logreg\", LogisticRegression())])\n",
    "\n",
    "rf_pipe = Pipeline(\n",
    "    steps=[\n",
    "        (\"preprocessor\", preprocessor), # <-- this is the ColumnTransformer we just created\n",
    "        (\"RF\", RandomForestClassifier())])\n",
    "\n",
    "svm_pipe = Pipeline(\n",
    "    steps=[\n",
    "        (\"preprocessor\", preprocessor), # <-- this is the ColumnTransformer we just created\n",
    "        (\"svm\", SVC())])"
   ]
  },
  {
   "cell_type": "code",
   "execution_count": 46,
   "id": "57fead4f",
   "metadata": {
    "execution": {
     "iopub.execute_input": "2023-09-05T10:51:00.821856Z",
     "iopub.status.busy": "2023-09-05T10:51:00.821404Z",
     "iopub.status.idle": "2023-09-05T10:51:02.263864Z",
     "shell.execute_reply": "2023-09-05T10:51:02.262239Z"
    },
    "papermill": {
     "duration": 1.466899,
     "end_time": "2023-09-05T10:51:02.266138",
     "exception": false,
     "start_time": "2023-09-05T10:51:00.799239",
     "status": "completed"
    },
    "tags": []
   },
   "outputs": [],
   "source": [
    "from sklearn.model_selection import cross_validate\n",
    "logreg_cv = cross_validate(logreg_pipe, X_train, y_train, return_train_score=True)\n",
    "rf_cv = cross_validate(rf_pipe, X_train, y_train, return_train_score=True)\n",
    "svm_cv = cross_validate(svm_pipe, X_train, y_train, return_train_score=True)\n"
   ]
  },
  {
   "cell_type": "code",
   "execution_count": 47,
   "id": "fa0bf863",
   "metadata": {
    "execution": {
     "iopub.execute_input": "2023-09-05T10:51:02.307999Z",
     "iopub.status.busy": "2023-09-05T10:51:02.307622Z",
     "iopub.status.idle": "2023-09-05T10:51:02.317409Z",
     "shell.execute_reply": "2023-09-05T10:51:02.316440Z"
    },
    "papermill": {
     "duration": 0.033173,
     "end_time": "2023-09-05T10:51:02.319463",
     "exception": false,
     "start_time": "2023-09-05T10:51:02.286290",
     "status": "completed"
    },
    "tags": []
   },
   "outputs": [
    {
     "name": "stdout",
     "output_type": "stream",
     "text": [
      "Logistic Regression mean:\n",
      "fit_time       0.025957\n",
      "score_time     0.010239\n",
      "test_score     0.996190\n",
      "train_score    1.000000\n",
      "dtype: float64\n",
      "*********************************************\n",
      "Random Forest mean: \n",
      "fit_time       0.156238\n",
      "score_time     0.016366\n",
      "test_score     1.000000\n",
      "train_score    1.000000\n",
      "dtype: float64\n",
      "*********************************************\n",
      "SVM mean:\n",
      " fit_time       0.017356\n",
      "score_time     0.010509\n",
      "test_score     0.982911\n",
      "train_score    0.997629\n",
      "dtype: float64\n"
     ]
    }
   ],
   "source": [
    "logreg_score = pd.DataFrame(logreg_cv)\n",
    "rf_score = pd.DataFrame(rf_cv)\n",
    "svm_score = pd.DataFrame(svm_cv)\n",
    "print(f\"Logistic Regression mean:\\n{logreg_score.mean()}\")\n",
    "print(\"***\"*15)\n",
    "print(f\"Random Forest mean: \\n{rf_score.mean()}\")\n",
    "print(\"***\"*15)\n",
    "print(f\"SVM mean:\\n {svm_score.mean()}\")"
   ]
  },
  {
   "cell_type": "markdown",
   "id": "a9f0ecb7",
   "metadata": {
    "papermill": {
     "duration": 0.020485,
     "end_time": "2023-09-05T10:51:02.360694",
     "exception": false,
     "start_time": "2023-09-05T10:51:02.340209",
     "status": "completed"
    },
    "tags": []
   },
   "source": [
    "There are a lot of steps happening in ColumnTransformer, we can use set_config from sklearn and it will display a diagram of what is going on in our pipeline."
   ]
  },
  {
   "cell_type": "code",
   "execution_count": 48,
   "id": "296933b7",
   "metadata": {
    "execution": {
     "iopub.execute_input": "2023-09-05T10:51:02.402829Z",
     "iopub.status.busy": "2023-09-05T10:51:02.402453Z",
     "iopub.status.idle": "2023-09-05T10:51:02.657780Z",
     "shell.execute_reply": "2023-09-05T10:51:02.656825Z"
    },
    "papermill": {
     "duration": 0.278761,
     "end_time": "2023-09-05T10:51:02.659762",
     "exception": false,
     "start_time": "2023-09-05T10:51:02.381001",
     "status": "completed"
    },
    "tags": []
   },
   "outputs": [
    {
     "data": {
      "text/html": [
       "<style>#sk-container-id-2 {color: black;background-color: white;}#sk-container-id-2 pre{padding: 0;}#sk-container-id-2 div.sk-toggleable {background-color: white;}#sk-container-id-2 label.sk-toggleable__label {cursor: pointer;display: block;width: 100%;margin-bottom: 0;padding: 0.3em;box-sizing: border-box;text-align: center;}#sk-container-id-2 label.sk-toggleable__label-arrow:before {content: \"▸\";float: left;margin-right: 0.25em;color: #696969;}#sk-container-id-2 label.sk-toggleable__label-arrow:hover:before {color: black;}#sk-container-id-2 div.sk-estimator:hover label.sk-toggleable__label-arrow:before {color: black;}#sk-container-id-2 div.sk-toggleable__content {max-height: 0;max-width: 0;overflow: hidden;text-align: left;background-color: #f0f8ff;}#sk-container-id-2 div.sk-toggleable__content pre {margin: 0.2em;color: black;border-radius: 0.25em;background-color: #f0f8ff;}#sk-container-id-2 input.sk-toggleable__control:checked~div.sk-toggleable__content {max-height: 200px;max-width: 100%;overflow: auto;}#sk-container-id-2 input.sk-toggleable__control:checked~label.sk-toggleable__label-arrow:before {content: \"▾\";}#sk-container-id-2 div.sk-estimator input.sk-toggleable__control:checked~label.sk-toggleable__label {background-color: #d4ebff;}#sk-container-id-2 div.sk-label input.sk-toggleable__control:checked~label.sk-toggleable__label {background-color: #d4ebff;}#sk-container-id-2 input.sk-hidden--visually {border: 0;clip: rect(1px 1px 1px 1px);clip: rect(1px, 1px, 1px, 1px);height: 1px;margin: -1px;overflow: hidden;padding: 0;position: absolute;width: 1px;}#sk-container-id-2 div.sk-estimator {font-family: monospace;background-color: #f0f8ff;border: 1px dotted black;border-radius: 0.25em;box-sizing: border-box;margin-bottom: 0.5em;}#sk-container-id-2 div.sk-estimator:hover {background-color: #d4ebff;}#sk-container-id-2 div.sk-parallel-item::after {content: \"\";width: 100%;border-bottom: 1px solid gray;flex-grow: 1;}#sk-container-id-2 div.sk-label:hover label.sk-toggleable__label {background-color: #d4ebff;}#sk-container-id-2 div.sk-serial::before {content: \"\";position: absolute;border-left: 1px solid gray;box-sizing: border-box;top: 0;bottom: 0;left: 50%;z-index: 0;}#sk-container-id-2 div.sk-serial {display: flex;flex-direction: column;align-items: center;background-color: white;padding-right: 0.2em;padding-left: 0.2em;position: relative;}#sk-container-id-2 div.sk-item {position: relative;z-index: 1;}#sk-container-id-2 div.sk-parallel {display: flex;align-items: stretch;justify-content: center;background-color: white;position: relative;}#sk-container-id-2 div.sk-item::before, #sk-container-id-2 div.sk-parallel-item::before {content: \"\";position: absolute;border-left: 1px solid gray;box-sizing: border-box;top: 0;bottom: 0;left: 50%;z-index: -1;}#sk-container-id-2 div.sk-parallel-item {display: flex;flex-direction: column;z-index: 1;position: relative;background-color: white;}#sk-container-id-2 div.sk-parallel-item:first-child::after {align-self: flex-end;width: 50%;}#sk-container-id-2 div.sk-parallel-item:last-child::after {align-self: flex-start;width: 50%;}#sk-container-id-2 div.sk-parallel-item:only-child::after {width: 0;}#sk-container-id-2 div.sk-dashed-wrapped {border: 1px dashed gray;margin: 0 0.4em 0.5em 0.4em;box-sizing: border-box;padding-bottom: 0.4em;background-color: white;}#sk-container-id-2 div.sk-label label {font-family: monospace;font-weight: bold;display: inline-block;line-height: 1.2em;}#sk-container-id-2 div.sk-label-container {text-align: center;}#sk-container-id-2 div.sk-container {/* jupyter's `normalize.less` sets `[hidden] { display: none; }` but bootstrap.min.css set `[hidden] { display: none !important; }` so we also need the `!important` here to be able to override the default hidden behavior on the sphinx rendered scikit-learn.org. See: https://github.com/scikit-learn/scikit-learn/issues/21755 */display: inline-block !important;position: relative;}#sk-container-id-2 div.sk-text-repr-fallback {display: none;}</style><div id=\"sk-container-id-2\" class=\"sk-top-container\"><div class=\"sk-text-repr-fallback\"><pre>Pipeline(steps=[(&#x27;preprocessor&#x27;,\n",
       "                 ColumnTransformer(remainder=&#x27;passthrough&#x27;,\n",
       "                                   transformers=[(&#x27;numeric&#x27;,\n",
       "                                                  Pipeline(steps=[(&#x27;scaler&#x27;,\n",
       "                                                                   StandardScaler())]),\n",
       "                                                  Index([&#x27;age&#x27;, &#x27;result&#x27;], dtype=&#x27;object&#x27;)),\n",
       "                                                 (&#x27;categorical&#x27;,\n",
       "                                                  Pipeline(steps=[(&#x27;onehot&#x27;,\n",
       "                                                                   OneHotEncoder(handle_unknown=&#x27;ignore&#x27;))]),\n",
       "                                                  Index([&#x27;gender&#x27;, &#x27;ethnicity&#x27;, &#x27;jundice&#x27;, &#x27;family_hx&#x27;, &#x27;country_of_res&#x27;,\n",
       "       &#x27;relation&#x27;],\n",
       "      dtype=&#x27;object&#x27;))])),\n",
       "                (&#x27;logreg&#x27;, LogisticRegression())])</pre><b>In a Jupyter environment, please rerun this cell to show the HTML representation or trust the notebook. <br />On GitHub, the HTML representation is unable to render, please try loading this page with nbviewer.org.</b></div><div class=\"sk-container\" hidden><div class=\"sk-item sk-dashed-wrapped\"><div class=\"sk-label-container\"><div class=\"sk-label sk-toggleable\"><input class=\"sk-toggleable__control sk-hidden--visually\" id=\"sk-estimator-id-8\" type=\"checkbox\" ><label for=\"sk-estimator-id-8\" class=\"sk-toggleable__label sk-toggleable__label-arrow\">Pipeline</label><div class=\"sk-toggleable__content\"><pre>Pipeline(steps=[(&#x27;preprocessor&#x27;,\n",
       "                 ColumnTransformer(remainder=&#x27;passthrough&#x27;,\n",
       "                                   transformers=[(&#x27;numeric&#x27;,\n",
       "                                                  Pipeline(steps=[(&#x27;scaler&#x27;,\n",
       "                                                                   StandardScaler())]),\n",
       "                                                  Index([&#x27;age&#x27;, &#x27;result&#x27;], dtype=&#x27;object&#x27;)),\n",
       "                                                 (&#x27;categorical&#x27;,\n",
       "                                                  Pipeline(steps=[(&#x27;onehot&#x27;,\n",
       "                                                                   OneHotEncoder(handle_unknown=&#x27;ignore&#x27;))]),\n",
       "                                                  Index([&#x27;gender&#x27;, &#x27;ethnicity&#x27;, &#x27;jundice&#x27;, &#x27;family_hx&#x27;, &#x27;country_of_res&#x27;,\n",
       "       &#x27;relation&#x27;],\n",
       "      dtype=&#x27;object&#x27;))])),\n",
       "                (&#x27;logreg&#x27;, LogisticRegression())])</pre></div></div></div><div class=\"sk-serial\"><div class=\"sk-item sk-dashed-wrapped\"><div class=\"sk-label-container\"><div class=\"sk-label sk-toggleable\"><input class=\"sk-toggleable__control sk-hidden--visually\" id=\"sk-estimator-id-9\" type=\"checkbox\" ><label for=\"sk-estimator-id-9\" class=\"sk-toggleable__label sk-toggleable__label-arrow\">preprocessor: ColumnTransformer</label><div class=\"sk-toggleable__content\"><pre>ColumnTransformer(remainder=&#x27;passthrough&#x27;,\n",
       "                  transformers=[(&#x27;numeric&#x27;,\n",
       "                                 Pipeline(steps=[(&#x27;scaler&#x27;, StandardScaler())]),\n",
       "                                 Index([&#x27;age&#x27;, &#x27;result&#x27;], dtype=&#x27;object&#x27;)),\n",
       "                                (&#x27;categorical&#x27;,\n",
       "                                 Pipeline(steps=[(&#x27;onehot&#x27;,\n",
       "                                                  OneHotEncoder(handle_unknown=&#x27;ignore&#x27;))]),\n",
       "                                 Index([&#x27;gender&#x27;, &#x27;ethnicity&#x27;, &#x27;jundice&#x27;, &#x27;family_hx&#x27;, &#x27;country_of_res&#x27;,\n",
       "       &#x27;relation&#x27;],\n",
       "      dtype=&#x27;object&#x27;))])</pre></div></div></div><div class=\"sk-parallel\"><div class=\"sk-parallel-item\"><div class=\"sk-item\"><div class=\"sk-label-container\"><div class=\"sk-label sk-toggleable\"><input class=\"sk-toggleable__control sk-hidden--visually\" id=\"sk-estimator-id-10\" type=\"checkbox\" ><label for=\"sk-estimator-id-10\" class=\"sk-toggleable__label sk-toggleable__label-arrow\">numeric</label><div class=\"sk-toggleable__content\"><pre>Index([&#x27;age&#x27;, &#x27;result&#x27;], dtype=&#x27;object&#x27;)</pre></div></div></div><div class=\"sk-serial\"><div class=\"sk-item\"><div class=\"sk-serial\"><div class=\"sk-item\"><div class=\"sk-estimator sk-toggleable\"><input class=\"sk-toggleable__control sk-hidden--visually\" id=\"sk-estimator-id-11\" type=\"checkbox\" ><label for=\"sk-estimator-id-11\" class=\"sk-toggleable__label sk-toggleable__label-arrow\">StandardScaler</label><div class=\"sk-toggleable__content\"><pre>StandardScaler()</pre></div></div></div></div></div></div></div></div><div class=\"sk-parallel-item\"><div class=\"sk-item\"><div class=\"sk-label-container\"><div class=\"sk-label sk-toggleable\"><input class=\"sk-toggleable__control sk-hidden--visually\" id=\"sk-estimator-id-12\" type=\"checkbox\" ><label for=\"sk-estimator-id-12\" class=\"sk-toggleable__label sk-toggleable__label-arrow\">categorical</label><div class=\"sk-toggleable__content\"><pre>Index([&#x27;gender&#x27;, &#x27;ethnicity&#x27;, &#x27;jundice&#x27;, &#x27;family_hx&#x27;, &#x27;country_of_res&#x27;,\n",
       "       &#x27;relation&#x27;],\n",
       "      dtype=&#x27;object&#x27;)</pre></div></div></div><div class=\"sk-serial\"><div class=\"sk-item\"><div class=\"sk-serial\"><div class=\"sk-item\"><div class=\"sk-estimator sk-toggleable\"><input class=\"sk-toggleable__control sk-hidden--visually\" id=\"sk-estimator-id-13\" type=\"checkbox\" ><label for=\"sk-estimator-id-13\" class=\"sk-toggleable__label sk-toggleable__label-arrow\">OneHotEncoder</label><div class=\"sk-toggleable__content\"><pre>OneHotEncoder(handle_unknown=&#x27;ignore&#x27;)</pre></div></div></div></div></div></div></div></div><div class=\"sk-parallel-item\"><div class=\"sk-item\"><div class=\"sk-label-container\"><div class=\"sk-label sk-toggleable\"><input class=\"sk-toggleable__control sk-hidden--visually\" id=\"sk-estimator-id-14\" type=\"checkbox\" ><label for=\"sk-estimator-id-14\" class=\"sk-toggleable__label sk-toggleable__label-arrow\">remainder</label><div class=\"sk-toggleable__content\"><pre>[&#x27;A1_Score&#x27;, &#x27;A2_Score&#x27;, &#x27;A3_Score&#x27;, &#x27;A4_Score&#x27;, &#x27;A5_Score&#x27;, &#x27;A6_Score&#x27;, &#x27;A7_Score&#x27;, &#x27;A8_Score&#x27;, &#x27;A9_Score&#x27;, &#x27;A10_Score&#x27;]</pre></div></div></div><div class=\"sk-serial\"><div class=\"sk-item\"><div class=\"sk-estimator sk-toggleable\"><input class=\"sk-toggleable__control sk-hidden--visually\" id=\"sk-estimator-id-15\" type=\"checkbox\" ><label for=\"sk-estimator-id-15\" class=\"sk-toggleable__label sk-toggleable__label-arrow\">passthrough</label><div class=\"sk-toggleable__content\"><pre>passthrough</pre></div></div></div></div></div></div></div></div><div class=\"sk-item\"><div class=\"sk-estimator sk-toggleable\"><input class=\"sk-toggleable__control sk-hidden--visually\" id=\"sk-estimator-id-16\" type=\"checkbox\" ><label for=\"sk-estimator-id-16\" class=\"sk-toggleable__label sk-toggleable__label-arrow\">LogisticRegression</label><div class=\"sk-toggleable__content\"><pre>LogisticRegression()</pre></div></div></div></div></div></div></div>"
      ],
      "text/plain": [
       "Pipeline(steps=[('preprocessor',\n",
       "                 ColumnTransformer(remainder='passthrough',\n",
       "                                   transformers=[('numeric',\n",
       "                                                  Pipeline(steps=[('scaler',\n",
       "                                                                   StandardScaler())]),\n",
       "                                                  Index(['age', 'result'], dtype='object')),\n",
       "                                                 ('categorical',\n",
       "                                                  Pipeline(steps=[('onehot',\n",
       "                                                                   OneHotEncoder(handle_unknown='ignore'))]),\n",
       "                                                  Index(['gender', 'ethnicity', 'jundice', 'family_hx', 'country_of_res',\n",
       "       'relation'],\n",
       "      dtype='object'))])),\n",
       "                ('logreg', LogisticRegression())])"
      ]
     },
     "execution_count": 48,
     "metadata": {},
     "output_type": "execute_result"
    }
   ],
   "source": [
    "rf_pipe.fit(X_train,y_train)\n",
    "svm_pipe.fit(X_train,y_train)\n",
    "logreg_pipe.fit(X_train,y_train)"
   ]
  },
  {
   "cell_type": "markdown",
   "id": "0de235fe",
   "metadata": {
    "papermill": {
     "duration": 0.021769,
     "end_time": "2023-09-05T10:51:02.702798",
     "exception": false,
     "start_time": "2023-09-05T10:51:02.681029",
     "status": "completed"
    },
    "tags": []
   },
   "source": [
    "## 5. Making predictions on test data"
   ]
  },
  {
   "cell_type": "code",
   "execution_count": 49,
   "id": "f1c864d0",
   "metadata": {
    "execution": {
     "iopub.execute_input": "2023-09-05T10:51:02.746002Z",
     "iopub.status.busy": "2023-09-05T10:51:02.745617Z",
     "iopub.status.idle": "2023-09-05T10:51:02.783260Z",
     "shell.execute_reply": "2023-09-05T10:51:02.782226Z"
    },
    "papermill": {
     "duration": 0.061712,
     "end_time": "2023-09-05T10:51:02.785445",
     "exception": false,
     "start_time": "2023-09-05T10:51:02.723733",
     "status": "completed"
    },
    "tags": []
   },
   "outputs": [],
   "source": [
    "rf_pred = rf_pipe.predict(X_test)\n",
    "svm_pred = svm_pipe.predict(X_test)\n",
    "logreg_pred = logreg_pipe.predict(X_test)"
   ]
  },
  {
   "cell_type": "code",
   "execution_count": 50,
   "id": "1fce9a47",
   "metadata": {
    "execution": {
     "iopub.execute_input": "2023-09-05T10:51:02.828134Z",
     "iopub.status.busy": "2023-09-05T10:51:02.827565Z",
     "iopub.status.idle": "2023-09-05T10:51:02.845642Z",
     "shell.execute_reply": "2023-09-05T10:51:02.844602Z"
    },
    "papermill": {
     "duration": 0.041401,
     "end_time": "2023-09-05T10:51:02.847346",
     "exception": false,
     "start_time": "2023-09-05T10:51:02.805945",
     "status": "completed"
    },
    "tags": []
   },
   "outputs": [],
   "source": [
    "rf_cm  = confusion_matrix(y_test,rf_pred )\n",
    "svm_cm = confusion_matrix(y_test,svm_pred)\n",
    "logreg_cm  = confusion_matrix(y_test,logreg_pred)"
   ]
  },
  {
   "cell_type": "code",
   "execution_count": 51,
   "id": "171af125",
   "metadata": {
    "execution": {
     "iopub.execute_input": "2023-09-05T10:51:02.890919Z",
     "iopub.status.busy": "2023-09-05T10:51:02.890540Z",
     "iopub.status.idle": "2023-09-05T10:51:02.942726Z",
     "shell.execute_reply": "2023-09-05T10:51:02.941106Z"
    },
    "papermill": {
     "duration": 0.076516,
     "end_time": "2023-09-05T10:51:02.944613",
     "exception": false,
     "start_time": "2023-09-05T10:51:02.868097",
     "status": "completed"
    },
    "tags": []
   },
   "outputs": [
    {
     "name": "stdout",
     "output_type": "stream",
     "text": [
      "Logistic Regression performance score: 1.0\n",
      "Random Forest performance score: 1.0\n",
      "SVM performance score: 0.9886363636363636\n"
     ]
    }
   ],
   "source": [
    "# Evaluate pipeline performance\n",
    "print(\"Logistic Regression performance score:\", logreg_pipe.score(X_test, y_test))\n",
    "print(\"Random Forest performance score:\", rf_pipe.score(X_test, y_test))\n",
    "print(\"SVM performance score:\", svm_pipe.score(X_test, y_test))"
   ]
  },
  {
   "cell_type": "code",
   "execution_count": 52,
   "id": "e556d220",
   "metadata": {
    "execution": {
     "iopub.execute_input": "2023-09-05T10:51:02.988105Z",
     "iopub.status.busy": "2023-09-05T10:51:02.987516Z",
     "iopub.status.idle": "2023-09-05T10:51:03.038305Z",
     "shell.execute_reply": "2023-09-05T10:51:03.036716Z"
    },
    "papermill": {
     "duration": 0.075274,
     "end_time": "2023-09-05T10:51:03.040544",
     "exception": false,
     "start_time": "2023-09-05T10:51:02.965270",
     "status": "completed"
    },
    "tags": []
   },
   "outputs": [
    {
     "name": "stdout",
     "output_type": "stream",
     "text": [
      "              precision    recall  f1-score   support\n",
      "\n",
      "          NO       1.00      1.00      1.00       127\n",
      "         YES       1.00      1.00      1.00        49\n",
      "\n",
      "    accuracy                           1.00       176\n",
      "   macro avg       1.00      1.00      1.00       176\n",
      "weighted avg       1.00      1.00      1.00       176\n",
      "\n",
      "************************************************************\n",
      "              precision    recall  f1-score   support\n",
      "\n",
      "          NO       1.00      1.00      1.00       127\n",
      "         YES       1.00      1.00      1.00        49\n",
      "\n",
      "    accuracy                           1.00       176\n",
      "   macro avg       1.00      1.00      1.00       176\n",
      "weighted avg       1.00      1.00      1.00       176\n",
      "\n",
      "************************************************************\n",
      "              precision    recall  f1-score   support\n",
      "\n",
      "          NO       1.00      0.98      0.99       127\n",
      "         YES       0.96      1.00      0.98        49\n",
      "\n",
      "    accuracy                           0.99       176\n",
      "   macro avg       0.98      0.99      0.99       176\n",
      "weighted avg       0.99      0.99      0.99       176\n",
      "\n"
     ]
    }
   ],
   "source": [
    "from sklearn.metrics import classification_report, confusion_matrix\n",
    "\n",
    "def draw():\n",
    "    print(\"***\"*20)\n",
    "\n",
    "print(classification_report(y_test,logreg_pred))\n",
    "draw()\n",
    "print(classification_report(y_test,rf_pred))\n",
    "draw()\n",
    "print(classification_report(y_test,svm_pred))"
   ]
  },
  {
   "cell_type": "code",
   "execution_count": 53,
   "id": "9ed1a7cb",
   "metadata": {
    "execution": {
     "iopub.execute_input": "2023-09-05T10:51:03.084835Z",
     "iopub.status.busy": "2023-09-05T10:51:03.084495Z",
     "iopub.status.idle": "2023-09-05T10:51:03.583621Z",
     "shell.execute_reply": "2023-09-05T10:51:03.582122Z"
    },
    "papermill": {
     "duration": 0.52529,
     "end_time": "2023-09-05T10:51:03.587002",
     "exception": false,
     "start_time": "2023-09-05T10:51:03.061712",
     "status": "completed"
    },
    "tags": []
   },
   "outputs": [
    {
     "data": {
      "image/png": "[encoded data removed]",
      "text/plain": [
       "<Figure size 1000x1400 with 3 Axes>"
      ]
     },
     "metadata": {},
     "output_type": "display_data"
    }
   ],
   "source": [
    "# Plotting our results\n",
    "import matplotlib\n",
    "\n",
    "colors = [\"lightgray\",\"#0f4c81\",\"#0f4c81\",\"#0f4c81\",\"#0f4c81\",\"#0f4c81\",\"#0f4c81\",\"#0f4c81\"]\n",
    "colormap = matplotlib.colors.LinearSegmentedColormap.from_list(\"\", colors)\n",
    "\n",
    "\n",
    "background_color = \"#fbfbfb\"\n",
    "\n",
    "fig = plt.figure(figsize=(10,14)) # create figure\n",
    "gs = fig.add_gridspec(4, 2)\n",
    "gs.update(wspace=0.1, hspace=0.8)\n",
    "ax0 = fig.add_subplot(gs[0, :])\n",
    "ax1 = fig.add_subplot(gs[1, :])\n",
    "ax2 = fig.add_subplot(gs[2, :])\n",
    "ax0.set_facecolor(background_color) # axes background color\n",
    "\n",
    "# Overall\n",
    "sns.heatmap(rf_cm, cmap=colormap,annot=True,fmt=\"d\", linewidths=5,cbar=False,ax=ax0,annot_kws={\"fontsize\":12},yticklabels=['Actual Non-ACD','Actual ACD'],xticklabels=['Predicted Non-ACD','Predicted ACD'])\n",
    "\n",
    "sns.heatmap(logreg_cm, cmap=colormap,annot=True,fmt=\"d\", linewidths=5,cbar=False,ax=ax1,annot_kws={\"fontsize\":12},yticklabels=['Actual Non-ACD','Actual ACD'],xticklabels=['Predicted Non-ACD','Predicted ACD'])\n",
    "\n",
    "sns.heatmap(svm_cm, cmap=colormap,annot=True,fmt=\"d\", linewidths=5,cbar=False,ax=ax2,annot_kws={\"fontsize\":12},yticklabels=['Actual Non-ACD','Actual ACD'],xticklabels=['Predicted Non-ACD','Predicted ACD'])\n",
    "\n",
    "ax0.tick_params(axis=u'both', which=u'both',length=0)\n",
    "background_color = \"#fbfbfb\"\n",
    "fig.patch.set_facecolor(background_color) # figure background color\n",
    "ax0.set_facecolor(background_color) \n",
    "ax1.tick_params(axis=u'both', which=u'both',length=0)\n",
    "ax1.set_facecolor(background_color) \n",
    "ax2.tick_params(axis=u'both', which=u'both',length=0)\n",
    "ax2.set_facecolor(background_color)\n",
    "\n",
    "\n",
    "\n",
    "ax1.text(0,-0.75,'Logistic Regression Performance',fontsize=18,fontweight='bold',fontfamily='serif')\n",
    "\n",
    "ax0.text(0,-0.75,'Random Forest Performance',fontsize=18,fontweight='bold',fontfamily='serif')\n",
    "\n",
    "ax2.text(0,-0.75,'Support Vector Machine Performance',fontsize=18,fontweight='bold',fontfamily='serif')\n",
    "\n",
    "plt.show()"
   ]
  },
  {
   "cell_type": "markdown",
   "id": "acdf63ba",
   "metadata": {
    "papermill": {
     "duration": 0.021371,
     "end_time": "2023-09-05T10:51:03.630587",
     "exception": false,
     "start_time": "2023-09-05T10:51:03.609216",
     "status": "completed"
    },
    "tags": []
   },
   "source": [
    "## 6. Conclusion\n",
    "\n",
    "The random forest model has the highest accuracy score (100%) while the LR and SVM model both had an accuracy score of (99%).\n",
    "\n",
    "This dataset is quite small and I have my suspicions on the 3 models we have test on have close to/ 100% accuracy score. Though it appears quite clear that by assesing the survey done, patients who have a result of more or equal than 7 would very much likely be an ACD patient. \n",
    "\n",
    "Please leave a comment if you have any insights or like my work. I will definitely come back to relook on the work that I've done as I gain more knowledge on machine learning and expand my skills. \n",
    "\n",
    "Thank you. :)\n"
   ]
  }
 ],
 "kernelspec": {
  "display_name": "Python 3",
  "language": "python",
  "name": "python3"
 },
 "language_info": {
  "codemirror_mode": {
   "name": "ipython",
   "version": 3
  },
  "file_extension": ".py",
  "mimetype": "text/x-python",
  "name": "python",
  "nbconvert_exporter": "python",
  "pygments_lexer": "ipython3",
  "version": "3.6.4"
 },
 "metadata": {
  "kernelspec": {
   "display_name": "Python 3",
   "language": "python",
   "name": "python3"
  },
  "language_info": {
   "codemirror_mode": {
    "name": "ipython",
    "version": 3
   },
   "file_extension": ".py",
   "mimetype": "text/x-python",
   "name": "python",
   "nbconvert_exporter": "python",
   "pygments_lexer": "ipython3",
   "version": "3.10.12"
  },
  "papermill": {
   "default_parameters": {},
   "duration": 14.50721,
   "end_time": "2023-09-05T10:51:04.274203",
   "environment_variables": {},
   "exception": null,
   "input_path": "__notebook__.ipynb",
   "output_path": "__notebook__.ipynb",
   "parameters": {},
   "start_time": "2023-09-05T10:50:49.766993",
   "version": "2.4.0"
  }
 },
 "nbformat": 4,
 "nbformat_minor": 5
}
