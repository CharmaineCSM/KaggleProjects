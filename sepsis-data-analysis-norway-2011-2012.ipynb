{
 "cells": [
  {
   "cell_type": "markdown",
   "id": "11eb95bf",
   "metadata": {
    "papermill": {
     "duration": 0.006464,
     "end_time": "2023-12-07T03:39:32.893307",
     "exception": false,
     "start_time": "2023-12-07T03:39:32.886843",
     "status": "completed"
    },
    "tags": []
   },
   "source": [
    "### Importing libraries and data"
   ]
  },
  {
   "cell_type": "code",
   "execution_count": 1,
   "id": "f588470d",
   "metadata": {
    "_cell_guid": "b1076dfc-b9ad-4769-8c92-a6c4dae69d19",
    "_uuid": "8f2839f25d086af736a60e9eeb907d3b93b6e0e5",
    "execution": {
     "iopub.execute_input": "2023-12-07T03:39:32.904513Z",
     "iopub.status.busy": "2023-12-07T03:39:32.903673Z",
     "iopub.status.idle": "2023-12-07T03:39:34.437002Z",
     "shell.execute_reply": "2023-12-07T03:39:34.436037Z"
    },
    "papermill": {
     "duration": 1.541025,
     "end_time": "2023-12-07T03:39:34.439007",
     "exception": false,
     "start_time": "2023-12-07T03:39:32.897982",
     "status": "completed"
    },
    "tags": []
   },
   "outputs": [],
   "source": [
    "import pandas as pd \n",
    "import numpy as np\n",
    "\n",
    "import matplotlib.pyplot as plt\n",
    "import seaborn as sns\n",
    "\n",
    "from sklearn.model_selection import train_test_split\n",
    "from sklearn.linear_model import LogisticRegression\n",
    "from sklearn.preprocessing import StandardScaler\n",
    "from sklearn.neighbors import KNeighborsClassifier\n",
    "from sklearn.tree import DecisionTreeClassifier,plot_tree\n",
    "\n",
    "from sklearn.metrics import accuracy_score"
   ]
  },
  {
   "cell_type": "code",
   "execution_count": 2,
   "id": "d1d4cb90",
   "metadata": {
    "execution": {
     "iopub.execute_input": "2023-12-07T03:39:34.451573Z",
     "iopub.status.busy": "2023-12-07T03:39:34.451186Z",
     "iopub.status.idle": "2023-12-07T03:39:34.511874Z",
     "shell.execute_reply": "2023-12-07T03:39:34.511071Z"
    },
    "papermill": {
     "duration": 0.06799,
     "end_time": "2023-12-07T03:39:34.513694",
     "exception": false,
     "start_time": "2023-12-07T03:39:34.445704",
     "status": "completed"
    },
    "tags": []
   },
   "outputs": [
    {
     "data": {
      "text/html": [
       "<div>\n",
       "<style scoped>\n",
       "    .dataframe tbody tr th:only-of-type {\n",
       "        vertical-align: middle;\n",
       "    }\n",
       "\n",
       "    .dataframe tbody tr th {\n",
       "        vertical-align: top;\n",
       "    }\n",
       "\n",
       "    .dataframe thead th {\n",
       "        text-align: right;\n",
       "    }\n",
       "</style>\n",
       "<table border=\"1\" class=\"dataframe\">\n",
       "  <thead>\n",
       "    <tr style=\"text-align: right;\">\n",
       "      <th></th>\n",
       "      <th>age_years</th>\n",
       "      <th>sex_0male_1female</th>\n",
       "      <th>episode_number</th>\n",
       "      <th>hospital_outcome_1alive_0dead</th>\n",
       "    </tr>\n",
       "  </thead>\n",
       "  <tbody>\n",
       "    <tr>\n",
       "      <th>0</th>\n",
       "      <td>21</td>\n",
       "      <td>1</td>\n",
       "      <td>1</td>\n",
       "      <td>1</td>\n",
       "    </tr>\n",
       "    <tr>\n",
       "      <th>1</th>\n",
       "      <td>20</td>\n",
       "      <td>1</td>\n",
       "      <td>1</td>\n",
       "      <td>1</td>\n",
       "    </tr>\n",
       "    <tr>\n",
       "      <th>2</th>\n",
       "      <td>21</td>\n",
       "      <td>1</td>\n",
       "      <td>1</td>\n",
       "      <td>1</td>\n",
       "    </tr>\n",
       "    <tr>\n",
       "      <th>3</th>\n",
       "      <td>77</td>\n",
       "      <td>0</td>\n",
       "      <td>1</td>\n",
       "      <td>1</td>\n",
       "    </tr>\n",
       "    <tr>\n",
       "      <th>4</th>\n",
       "      <td>72</td>\n",
       "      <td>0</td>\n",
       "      <td>1</td>\n",
       "      <td>1</td>\n",
       "    </tr>\n",
       "    <tr>\n",
       "      <th>5</th>\n",
       "      <td>83</td>\n",
       "      <td>0</td>\n",
       "      <td>1</td>\n",
       "      <td>1</td>\n",
       "    </tr>\n",
       "    <tr>\n",
       "      <th>6</th>\n",
       "      <td>74</td>\n",
       "      <td>0</td>\n",
       "      <td>1</td>\n",
       "      <td>1</td>\n",
       "    </tr>\n",
       "    <tr>\n",
       "      <th>7</th>\n",
       "      <td>74</td>\n",
       "      <td>1</td>\n",
       "      <td>1</td>\n",
       "      <td>1</td>\n",
       "    </tr>\n",
       "    <tr>\n",
       "      <th>8</th>\n",
       "      <td>69</td>\n",
       "      <td>0</td>\n",
       "      <td>1</td>\n",
       "      <td>1</td>\n",
       "    </tr>\n",
       "    <tr>\n",
       "      <th>9</th>\n",
       "      <td>53</td>\n",
       "      <td>1</td>\n",
       "      <td>1</td>\n",
       "      <td>1</td>\n",
       "    </tr>\n",
       "  </tbody>\n",
       "</table>\n",
       "</div>"
      ],
      "text/plain": [
       "   age_years  sex_0male_1female  episode_number  hospital_outcome_1alive_0dead\n",
       "0         21                  1               1                              1\n",
       "1         20                  1               1                              1\n",
       "2         21                  1               1                              1\n",
       "3         77                  0               1                              1\n",
       "4         72                  0               1                              1\n",
       "5         83                  0               1                              1\n",
       "6         74                  0               1                              1\n",
       "7         74                  1               1                              1\n",
       "8         69                  0               1                              1\n",
       "9         53                  1               1                              1"
      ]
     },
     "execution_count": 2,
     "metadata": {},
     "output_type": "execute_result"
    }
   ],
   "source": [
    "df1=pd.read_csv(\"/kaggle/input/sepsis-survival-minimal-clinical-records/s41598-020-73558-3_sepsis_survival_dataset/s41598-020-73558-3_sepsis_survival_primary_cohort.csv\")\n",
    "df1.head(10)"
   ]
  },
  {
   "cell_type": "markdown",
   "id": "0e5bc6da",
   "metadata": {
    "papermill": {
     "duration": 0.004588,
     "end_time": "2023-12-07T03:39:34.523329",
     "exception": false,
     "start_time": "2023-12-07T03:39:34.518741",
     "status": "completed"
    },
    "tags": []
   },
   "source": [
    "* episode_number: Number of prior Sepsis episodes\n",
    "* hospital_outcome: 1 alive, 0 dead\n",
    "* sex: 0 male, 1 female"
   ]
  },
  {
   "cell_type": "markdown",
   "id": "b32f2002",
   "metadata": {
    "papermill": {
     "duration": 0.004496,
     "end_time": "2023-12-07T03:39:34.532439",
     "exception": false,
     "start_time": "2023-12-07T03:39:34.527943",
     "status": "completed"
    },
    "tags": []
   },
   "source": [
    "### Exploring the Data"
   ]
  },
  {
   "cell_type": "code",
   "execution_count": 3,
   "id": "58c526d0",
   "metadata": {
    "execution": {
     "iopub.execute_input": "2023-12-07T03:39:34.543030Z",
     "iopub.status.busy": "2023-12-07T03:39:34.542773Z",
     "iopub.status.idle": "2023-12-07T03:39:34.547120Z",
     "shell.execute_reply": "2023-12-07T03:39:34.546558Z"
    },
    "papermill": {
     "duration": 0.011474,
     "end_time": "2023-12-07T03:39:34.548606",
     "exception": false,
     "start_time": "2023-12-07T03:39:34.537132",
     "status": "completed"
    },
    "tags": []
   },
   "outputs": [
    {
     "data": {
      "text/plain": [
       "(110204, 4)"
      ]
     },
     "execution_count": 3,
     "metadata": {},
     "output_type": "execute_result"
    }
   ],
   "source": [
    "df1.shape"
   ]
  },
  {
   "cell_type": "code",
   "execution_count": 4,
   "id": "e1122c8a",
   "metadata": {
    "execution": {
     "iopub.execute_input": "2023-12-07T03:39:34.559564Z",
     "iopub.status.busy": "2023-12-07T03:39:34.558989Z",
     "iopub.status.idle": "2023-12-07T03:39:34.588226Z",
     "shell.execute_reply": "2023-12-07T03:39:34.587675Z"
    },
    "papermill": {
     "duration": 0.036401,
     "end_time": "2023-12-07T03:39:34.589730",
     "exception": false,
     "start_time": "2023-12-07T03:39:34.553329",
     "status": "completed"
    },
    "tags": []
   },
   "outputs": [
    {
     "data": {
      "text/html": [
       "<div>\n",
       "<style scoped>\n",
       "    .dataframe tbody tr th:only-of-type {\n",
       "        vertical-align: middle;\n",
       "    }\n",
       "\n",
       "    .dataframe tbody tr th {\n",
       "        vertical-align: top;\n",
       "    }\n",
       "\n",
       "    .dataframe thead th {\n",
       "        text-align: right;\n",
       "    }\n",
       "</style>\n",
       "<table border=\"1\" class=\"dataframe\">\n",
       "  <thead>\n",
       "    <tr style=\"text-align: right;\">\n",
       "      <th></th>\n",
       "      <th>age_years</th>\n",
       "      <th>sex_0male_1female</th>\n",
       "      <th>episode_number</th>\n",
       "      <th>hospital_outcome_1alive_0dead</th>\n",
       "    </tr>\n",
       "  </thead>\n",
       "  <tbody>\n",
       "    <tr>\n",
       "      <th>count</th>\n",
       "      <td>110204.000000</td>\n",
       "      <td>110204.000000</td>\n",
       "      <td>110204.000000</td>\n",
       "      <td>110204.000000</td>\n",
       "    </tr>\n",
       "    <tr>\n",
       "      <th>mean</th>\n",
       "      <td>62.735255</td>\n",
       "      <td>0.473948</td>\n",
       "      <td>1.349379</td>\n",
       "      <td>0.926455</td>\n",
       "    </tr>\n",
       "    <tr>\n",
       "      <th>std</th>\n",
       "      <td>24.126806</td>\n",
       "      <td>0.499323</td>\n",
       "      <td>0.751799</td>\n",
       "      <td>0.261031</td>\n",
       "    </tr>\n",
       "    <tr>\n",
       "      <th>min</th>\n",
       "      <td>0.000000</td>\n",
       "      <td>0.000000</td>\n",
       "      <td>1.000000</td>\n",
       "      <td>0.000000</td>\n",
       "    </tr>\n",
       "    <tr>\n",
       "      <th>25%</th>\n",
       "      <td>51.000000</td>\n",
       "      <td>0.000000</td>\n",
       "      <td>1.000000</td>\n",
       "      <td>1.000000</td>\n",
       "    </tr>\n",
       "    <tr>\n",
       "      <th>50%</th>\n",
       "      <td>68.000000</td>\n",
       "      <td>0.000000</td>\n",
       "      <td>1.000000</td>\n",
       "      <td>1.000000</td>\n",
       "    </tr>\n",
       "    <tr>\n",
       "      <th>75%</th>\n",
       "      <td>81.000000</td>\n",
       "      <td>1.000000</td>\n",
       "      <td>1.000000</td>\n",
       "      <td>1.000000</td>\n",
       "    </tr>\n",
       "    <tr>\n",
       "      <th>max</th>\n",
       "      <td>100.000000</td>\n",
       "      <td>1.000000</td>\n",
       "      <td>5.000000</td>\n",
       "      <td>1.000000</td>\n",
       "    </tr>\n",
       "  </tbody>\n",
       "</table>\n",
       "</div>"
      ],
      "text/plain": [
       "           age_years  sex_0male_1female  episode_number  \\\n",
       "count  110204.000000      110204.000000   110204.000000   \n",
       "mean       62.735255           0.473948        1.349379   \n",
       "std        24.126806           0.499323        0.751799   \n",
       "min         0.000000           0.000000        1.000000   \n",
       "25%        51.000000           0.000000        1.000000   \n",
       "50%        68.000000           0.000000        1.000000   \n",
       "75%        81.000000           1.000000        1.000000   \n",
       "max       100.000000           1.000000        5.000000   \n",
       "\n",
       "       hospital_outcome_1alive_0dead  \n",
       "count                  110204.000000  \n",
       "mean                        0.926455  \n",
       "std                         0.261031  \n",
       "min                         0.000000  \n",
       "25%                         1.000000  \n",
       "50%                         1.000000  \n",
       "75%                         1.000000  \n",
       "max                         1.000000  "
      ]
     },
     "execution_count": 4,
     "metadata": {},
     "output_type": "execute_result"
    }
   ],
   "source": [
    "df1.describe()"
   ]
  },
  {
   "cell_type": "code",
   "execution_count": 5,
   "id": "9ceda94a",
   "metadata": {
    "execution": {
     "iopub.execute_input": "2023-12-07T03:39:34.601102Z",
     "iopub.status.busy": "2023-12-07T03:39:34.600841Z",
     "iopub.status.idle": "2023-12-07T03:39:34.617694Z",
     "shell.execute_reply": "2023-12-07T03:39:34.616889Z"
    },
    "papermill": {
     "duration": 0.024542,
     "end_time": "2023-12-07T03:39:34.619398",
     "exception": false,
     "start_time": "2023-12-07T03:39:34.594856",
     "status": "completed"
    },
    "tags": []
   },
   "outputs": [
    {
     "name": "stdout",
     "output_type": "stream",
     "text": [
      "<class 'pandas.core.frame.DataFrame'>\n",
      "RangeIndex: 110204 entries, 0 to 110203\n",
      "Data columns (total 4 columns):\n",
      " #   Column                         Non-Null Count   Dtype\n",
      "---  ------                         --------------   -----\n",
      " 0   age_years                      110204 non-null  int64\n",
      " 1   sex_0male_1female              110204 non-null  int64\n",
      " 2   episode_number                 110204 non-null  int64\n",
      " 3   hospital_outcome_1alive_0dead  110204 non-null  int64\n",
      "dtypes: int64(4)\n",
      "memory usage: 3.4 MB\n"
     ]
    }
   ],
   "source": [
    "df1.info()"
   ]
  },
  {
   "cell_type": "markdown",
   "id": "c8d5f6ef",
   "metadata": {
    "papermill": {
     "duration": 0.004801,
     "end_time": "2023-12-07T03:39:34.629709",
     "exception": false,
     "start_time": "2023-12-07T03:39:34.624908",
     "status": "completed"
    },
    "tags": []
   },
   "source": [
    "From the info method, we can see that there are no missing values. We can reconfirm that by writing the code below:"
   ]
  },
  {
   "cell_type": "code",
   "execution_count": 6,
   "id": "c634e17d",
   "metadata": {
    "execution": {
     "iopub.execute_input": "2023-12-07T03:39:34.641001Z",
     "iopub.status.busy": "2023-12-07T03:39:34.640727Z",
     "iopub.status.idle": "2023-12-07T03:39:34.646347Z",
     "shell.execute_reply": "2023-12-07T03:39:34.645603Z"
    },
    "papermill": {
     "duration": 0.013273,
     "end_time": "2023-12-07T03:39:34.647946",
     "exception": false,
     "start_time": "2023-12-07T03:39:34.634673",
     "status": "completed"
    },
    "tags": []
   },
   "outputs": [
    {
     "data": {
      "text/plain": [
       "age_years                        0\n",
       "sex_0male_1female                0\n",
       "episode_number                   0\n",
       "hospital_outcome_1alive_0dead    0\n",
       "dtype: int64"
      ]
     },
     "execution_count": 6,
     "metadata": {},
     "output_type": "execute_result"
    }
   ],
   "source": [
    "#check missing values\n",
    "df1.isnull().sum()"
   ]
  },
  {
   "cell_type": "code",
   "execution_count": 7,
   "id": "f973abef",
   "metadata": {
    "execution": {
     "iopub.execute_input": "2023-12-07T03:39:34.660095Z",
     "iopub.status.busy": "2023-12-07T03:39:34.659873Z",
     "iopub.status.idle": "2023-12-07T03:39:34.664574Z",
     "shell.execute_reply": "2023-12-07T03:39:34.663805Z"
    },
    "papermill": {
     "duration": 0.013075,
     "end_time": "2023-12-07T03:39:34.666197",
     "exception": false,
     "start_time": "2023-12-07T03:39:34.653122",
     "status": "completed"
    },
    "tags": []
   },
   "outputs": [],
   "source": [
    "#renaming the name of columns\n",
    "new_columns={\n",
    "    'age_years':'Age',\"sex_0male_1female\":'Sex','episode_number':'PrevSepsis Count'\n",
    "    ,'hospital_outcome_1alive_0dead':'Hospital Outcome'\n",
    "}\n",
    "df1=df1.rename(columns=new_columns)\n"
   ]
  },
  {
   "cell_type": "code",
   "execution_count": 8,
   "id": "18b885d2",
   "metadata": {
    "_kg_hide-input": true,
    "execution": {
     "iopub.execute_input": "2023-12-07T03:39:34.677696Z",
     "iopub.status.busy": "2023-12-07T03:39:34.677396Z",
     "iopub.status.idle": "2023-12-07T03:39:34.685086Z",
     "shell.execute_reply": "2023-12-07T03:39:34.684313Z"
    },
    "papermill": {
     "duration": 0.015037,
     "end_time": "2023-12-07T03:39:34.686568",
     "exception": false,
     "start_time": "2023-12-07T03:39:34.671531",
     "status": "completed"
    },
    "tags": []
   },
   "outputs": [
    {
     "data": {
      "text/html": [
       "<div>\n",
       "<style scoped>\n",
       "    .dataframe tbody tr th:only-of-type {\n",
       "        vertical-align: middle;\n",
       "    }\n",
       "\n",
       "    .dataframe tbody tr th {\n",
       "        vertical-align: top;\n",
       "    }\n",
       "\n",
       "    .dataframe thead th {\n",
       "        text-align: right;\n",
       "    }\n",
       "</style>\n",
       "<table border=\"1\" class=\"dataframe\">\n",
       "  <thead>\n",
       "    <tr style=\"text-align: right;\">\n",
       "      <th></th>\n",
       "      <th>Age</th>\n",
       "      <th>Sex</th>\n",
       "      <th>PrevSepsis Count</th>\n",
       "      <th>Hospital Outcome</th>\n",
       "    </tr>\n",
       "  </thead>\n",
       "  <tbody>\n",
       "    <tr>\n",
       "      <th>0</th>\n",
       "      <td>21</td>\n",
       "      <td>1</td>\n",
       "      <td>1</td>\n",
       "      <td>1</td>\n",
       "    </tr>\n",
       "    <tr>\n",
       "      <th>1</th>\n",
       "      <td>20</td>\n",
       "      <td>1</td>\n",
       "      <td>1</td>\n",
       "      <td>1</td>\n",
       "    </tr>\n",
       "    <tr>\n",
       "      <th>2</th>\n",
       "      <td>21</td>\n",
       "      <td>1</td>\n",
       "      <td>1</td>\n",
       "      <td>1</td>\n",
       "    </tr>\n",
       "    <tr>\n",
       "      <th>3</th>\n",
       "      <td>77</td>\n",
       "      <td>0</td>\n",
       "      <td>1</td>\n",
       "      <td>1</td>\n",
       "    </tr>\n",
       "    <tr>\n",
       "      <th>4</th>\n",
       "      <td>72</td>\n",
       "      <td>0</td>\n",
       "      <td>1</td>\n",
       "      <td>1</td>\n",
       "    </tr>\n",
       "    <tr>\n",
       "      <th>5</th>\n",
       "      <td>83</td>\n",
       "      <td>0</td>\n",
       "      <td>1</td>\n",
       "      <td>1</td>\n",
       "    </tr>\n",
       "    <tr>\n",
       "      <th>6</th>\n",
       "      <td>74</td>\n",
       "      <td>0</td>\n",
       "      <td>1</td>\n",
       "      <td>1</td>\n",
       "    </tr>\n",
       "    <tr>\n",
       "      <th>7</th>\n",
       "      <td>74</td>\n",
       "      <td>1</td>\n",
       "      <td>1</td>\n",
       "      <td>1</td>\n",
       "    </tr>\n",
       "    <tr>\n",
       "      <th>8</th>\n",
       "      <td>69</td>\n",
       "      <td>0</td>\n",
       "      <td>1</td>\n",
       "      <td>1</td>\n",
       "    </tr>\n",
       "    <tr>\n",
       "      <th>9</th>\n",
       "      <td>53</td>\n",
       "      <td>1</td>\n",
       "      <td>1</td>\n",
       "      <td>1</td>\n",
       "    </tr>\n",
       "  </tbody>\n",
       "</table>\n",
       "</div>"
      ],
      "text/plain": [
       "   Age  Sex  PrevSepsis Count  Hospital Outcome\n",
       "0   21    1                 1                 1\n",
       "1   20    1                 1                 1\n",
       "2   21    1                 1                 1\n",
       "3   77    0                 1                 1\n",
       "4   72    0                 1                 1\n",
       "5   83    0                 1                 1\n",
       "6   74    0                 1                 1\n",
       "7   74    1                 1                 1\n",
       "8   69    0                 1                 1\n",
       "9   53    1                 1                 1"
      ]
     },
     "execution_count": 8,
     "metadata": {},
     "output_type": "execute_result"
    }
   ],
   "source": [
    "df1.head(10)"
   ]
  },
  {
   "cell_type": "code",
   "execution_count": 9,
   "id": "c52ffc48",
   "metadata": {
    "execution": {
     "iopub.execute_input": "2023-12-07T03:39:34.698068Z",
     "iopub.status.busy": "2023-12-07T03:39:34.697847Z",
     "iopub.status.idle": "2023-12-07T03:39:34.701815Z",
     "shell.execute_reply": "2023-12-07T03:39:34.701075Z"
    },
    "papermill": {
     "duration": 0.011424,
     "end_time": "2023-12-07T03:39:34.703312",
     "exception": false,
     "start_time": "2023-12-07T03:39:34.691888",
     "status": "completed"
    },
    "tags": []
   },
   "outputs": [],
   "source": [
    "#set color theme\n",
    "color1 = \"#FA8072\" #salmon\n",
    "color2 = \"#e5c9b2\" #biege\n",
    "color3 = \"#F08080\" #coral\n",
    "color4 = \"#8aa192\" #sage\n",
    "\n",
    "color_set1 = [color1, color2]\n",
    "color_set2 = [color3, color4]"
   ]
  },
  {
   "cell_type": "code",
   "execution_count": 10,
   "id": "3780f9f6",
   "metadata": {
    "execution": {
     "iopub.execute_input": "2023-12-07T03:39:34.714831Z",
     "iopub.status.busy": "2023-12-07T03:39:34.714611Z",
     "iopub.status.idle": "2023-12-07T03:39:35.393436Z",
     "shell.execute_reply": "2023-12-07T03:39:35.392614Z"
    },
    "papermill": {
     "duration": 0.686889,
     "end_time": "2023-12-07T03:39:35.395488",
     "exception": false,
     "start_time": "2023-12-07T03:39:34.708599",
     "status": "completed"
    },
    "tags": []
   },
   "outputs": [
    {
     "data": {
      "text/plain": [
       "<Figure size 1000x600 with 0 Axes>"
      ]
     },
     "metadata": {},
     "output_type": "display_data"
    },
    {
     "data": {
      "image/png": "[encoded data removed]",
      "text/plain": [
       "<Figure size 500x500 with 1 Axes>"
      ]
     },
     "metadata": {},
     "output_type": "display_data"
    }
   ],
   "source": [
    "plt.figure(figsize=(10, 6))\n",
    "fig4=sns.displot(data=df1, x=\"Age\", hue=\"Sex\", kind=\"kde\", fill=True, palette=color_set2, legend=False)\n",
    "plt.legend(labels = [\"Female\", \"Male\"])\n",
    "\n",
    "plt.show()"
   ]
  },
  {
   "cell_type": "code",
   "execution_count": 11,
   "id": "6e5f5c14",
   "metadata": {
    "execution": {
     "iopub.execute_input": "2023-12-07T03:39:35.408802Z",
     "iopub.status.busy": "2023-12-07T03:39:35.408513Z",
     "iopub.status.idle": "2023-12-07T03:39:35.616769Z",
     "shell.execute_reply": "2023-12-07T03:39:35.615733Z"
    },
    "papermill": {
     "duration": 0.216924,
     "end_time": "2023-12-07T03:39:35.618683",
     "exception": false,
     "start_time": "2023-12-07T03:39:35.401759",
     "status": "completed"
    },
    "tags": []
   },
   "outputs": [
    {
     "data": {
      "image/png": "[encoded data removed]",
      "text/plain": [
       "<Figure size 500x500 with 1 Axes>"
      ]
     },
     "metadata": {},
     "output_type": "display_data"
    }
   ],
   "source": [
    "#countplot of Hospital Outcomes\n",
    "plt.figure(figsize=(5,5))\n",
    "sns.set_theme(style=\"whitegrid\")\n",
    "\n",
    "fig1=sns.countplot(data=df1, x='Hospital Outcome', hue=\"Sex\", palette=color_set1, alpha=.85)\n",
    "fig1.set_title(\"Male vs Female Admissions\")\n",
    "fig1.set_xlabel('Hospital Outcomes', fontsize=12)\n",
    "fig1.set_ylabel('Count', fontsize=12)\n",
    "plt.legend(labels = [\"Male\", \"Female\"])\n",
    "\n",
    "outcome= [\"Dead\",\"Alive\"]\n",
    "plt.xticks(ticks=[0,1], labels=outcome)\n",
    "\n",
    "plt.show()"
   ]
  },
  {
   "cell_type": "markdown",
   "id": "9e2f6ed2",
   "metadata": {
    "papermill": {
     "duration": 0.005996,
     "end_time": "2023-12-07T03:39:35.630947",
     "exception": false,
     "start_time": "2023-12-07T03:39:35.624951",
     "status": "completed"
    },
    "tags": []
   },
   "source": [
    "From the count plot, we can see that there are more patients who survived as compared to patients who have died due to sepsis. This is an indication of data imbalance. We will need to take this into account when training the model. "
   ]
  },
  {
   "cell_type": "code",
   "execution_count": 12,
   "id": "63ec614f",
   "metadata": {
    "execution": {
     "iopub.execute_input": "2023-12-07T03:39:35.644298Z",
     "iopub.status.busy": "2023-12-07T03:39:35.643899Z",
     "iopub.status.idle": "2023-12-07T03:39:35.910555Z",
     "shell.execute_reply": "2023-12-07T03:39:35.909596Z"
    },
    "papermill": {
     "duration": 0.275277,
     "end_time": "2023-12-07T03:39:35.912248",
     "exception": false,
     "start_time": "2023-12-07T03:39:35.636971",
     "status": "completed"
    },
    "tags": []
   },
   "outputs": [
    {
     "data": {
      "image/png": "[encoded data removed]",
      "text/plain": [
       "<Figure size 800x500 with 1 Axes>"
      ]
     },
     "metadata": {},
     "output_type": "display_data"
    }
   ],
   "source": [
    "plt.figure(figsize=(8, 5))\n",
    "fig2=sns.countplot(df1, x=\"PrevSepsis Count\", hue=\"Hospital Outcome\", palette=color_set2)\n",
    "fig2.set_title(\"Total Number of Prior Sepsis in Comparison to Hospital Outcome\")\n",
    "plt.legend(labels = [\"Dead\", \"Live\"])\n",
    "plt.show()"
   ]
  },
  {
   "cell_type": "markdown",
   "id": "24b8eee7",
   "metadata": {
    "papermill": {
     "duration": 0.006355,
     "end_time": "2023-12-07T03:39:35.925311",
     "exception": false,
     "start_time": "2023-12-07T03:39:35.918956",
     "status": "completed"
    },
    "tags": []
   },
   "source": [
    "It seems like the number of previous sepsis count does not increase the death risk in patients, but rather, more deaths occured on the first sepsis infection. "
   ]
  },
  {
   "cell_type": "code",
   "execution_count": 13,
   "id": "2431bf90",
   "metadata": {
    "execution": {
     "iopub.execute_input": "2023-12-07T03:39:35.939425Z",
     "iopub.status.busy": "2023-12-07T03:39:35.939143Z",
     "iopub.status.idle": "2023-12-07T03:39:36.222360Z",
     "shell.execute_reply": "2023-12-07T03:39:36.221537Z"
    },
    "papermill": {
     "duration": 0.292498,
     "end_time": "2023-12-07T03:39:36.224201",
     "exception": false,
     "start_time": "2023-12-07T03:39:35.931703",
     "status": "completed"
    },
    "tags": []
   },
   "outputs": [
    {
     "data": {
      "image/png": "[encoded data removed]",
      "text/plain": [
       "<Figure size 800x500 with 2 Axes>"
      ]
     },
     "metadata": {},
     "output_type": "display_data"
    }
   ],
   "source": [
    "#heatmap of correlation between all columns\n",
    "cor=df1.corr()\n",
    "plt.figure(figsize=(8,5))\n",
    "fig3=sns.heatmap(cor, annot=True, fmt=\".1f\", cmap=\"PuBuGn\")\n",
    "plt.show()"
   ]
  },
  {
   "cell_type": "markdown",
   "id": "8beb9d8b",
   "metadata": {
    "papermill": {
     "duration": 0.006811,
     "end_time": "2023-12-07T03:39:36.238339",
     "exception": false,
     "start_time": "2023-12-07T03:39:36.231528",
     "status": "completed"
    },
    "tags": []
   },
   "source": [
    "Doesn't look like there is much correalations going on between the variables. Not a good data to train for any use. In this case, we will only do a exploratory data analysis on the data."
   ]
  },
  {
   "cell_type": "code",
   "execution_count": 14,
   "id": "74d2cc2e",
   "metadata": {
    "execution": {
     "iopub.execute_input": "2023-12-07T03:39:36.253186Z",
     "iopub.status.busy": "2023-12-07T03:39:36.252923Z",
     "iopub.status.idle": "2023-12-07T03:39:36.262900Z",
     "shell.execute_reply": "2023-12-07T03:39:36.262097Z"
    },
    "papermill": {
     "duration": 0.020001,
     "end_time": "2023-12-07T03:39:36.265135",
     "exception": false,
     "start_time": "2023-12-07T03:39:36.245134",
     "status": "completed"
    },
    "tags": []
   },
   "outputs": [
    {
     "data": {
      "text/html": [
       "<div>\n",
       "<style scoped>\n",
       "    .dataframe tbody tr th:only-of-type {\n",
       "        vertical-align: middle;\n",
       "    }\n",
       "\n",
       "    .dataframe tbody tr th {\n",
       "        vertical-align: top;\n",
       "    }\n",
       "\n",
       "    .dataframe thead th {\n",
       "        text-align: right;\n",
       "    }\n",
       "</style>\n",
       "<table border=\"1\" class=\"dataframe\">\n",
       "  <thead>\n",
       "    <tr style=\"text-align: right;\">\n",
       "      <th></th>\n",
       "      <th>Sex</th>\n",
       "      <th>Hospital Outcome</th>\n",
       "    </tr>\n",
       "  </thead>\n",
       "  <tbody>\n",
       "    <tr>\n",
       "      <th>0</th>\n",
       "      <td>1</td>\n",
       "      <td>1</td>\n",
       "    </tr>\n",
       "    <tr>\n",
       "      <th>1</th>\n",
       "      <td>1</td>\n",
       "      <td>1</td>\n",
       "    </tr>\n",
       "    <tr>\n",
       "      <th>2</th>\n",
       "      <td>1</td>\n",
       "      <td>1</td>\n",
       "    </tr>\n",
       "    <tr>\n",
       "      <th>3</th>\n",
       "      <td>0</td>\n",
       "      <td>1</td>\n",
       "    </tr>\n",
       "    <tr>\n",
       "      <th>4</th>\n",
       "      <td>0</td>\n",
       "      <td>1</td>\n",
       "    </tr>\n",
       "    <tr>\n",
       "      <th>...</th>\n",
       "      <td>...</td>\n",
       "      <td>...</td>\n",
       "    </tr>\n",
       "    <tr>\n",
       "      <th>110199</th>\n",
       "      <td>0</td>\n",
       "      <td>1</td>\n",
       "    </tr>\n",
       "    <tr>\n",
       "      <th>110200</th>\n",
       "      <td>1</td>\n",
       "      <td>1</td>\n",
       "    </tr>\n",
       "    <tr>\n",
       "      <th>110201</th>\n",
       "      <td>1</td>\n",
       "      <td>1</td>\n",
       "    </tr>\n",
       "    <tr>\n",
       "      <th>110202</th>\n",
       "      <td>0</td>\n",
       "      <td>1</td>\n",
       "    </tr>\n",
       "    <tr>\n",
       "      <th>110203</th>\n",
       "      <td>0</td>\n",
       "      <td>1</td>\n",
       "    </tr>\n",
       "  </tbody>\n",
       "</table>\n",
       "<p>110204 rows × 2 columns</p>\n",
       "</div>"
      ],
      "text/plain": [
       "        Sex  Hospital Outcome\n",
       "0         1                 1\n",
       "1         1                 1\n",
       "2         1                 1\n",
       "3         0                 1\n",
       "4         0                 1\n",
       "...     ...               ...\n",
       "110199    0                 1\n",
       "110200    1                 1\n",
       "110201    1                 1\n",
       "110202    0                 1\n",
       "110203    0                 1\n",
       "\n",
       "[110204 rows x 2 columns]"
      ]
     },
     "execution_count": 14,
     "metadata": {},
     "output_type": "execute_result"
    }
   ],
   "source": [
    "# plotting data on chart \n",
    "df2 = df1.filter(items=['Sex', 'Hospital Outcome'])\n",
    "df2"
   ]
  },
  {
   "cell_type": "code",
   "execution_count": 15,
   "id": "0e61a772",
   "metadata": {
    "execution": {
     "iopub.execute_input": "2023-12-07T03:39:36.280931Z",
     "iopub.status.busy": "2023-12-07T03:39:36.280690Z",
     "iopub.status.idle": "2023-12-07T03:39:36.285185Z",
     "shell.execute_reply": "2023-12-07T03:39:36.284456Z"
    },
    "papermill": {
     "duration": 0.014239,
     "end_time": "2023-12-07T03:39:36.286854",
     "exception": false,
     "start_time": "2023-12-07T03:39:36.272615",
     "status": "completed"
    },
    "tags": []
   },
   "outputs": [
    {
     "data": {
      "text/plain": [
       "110204"
      ]
     },
     "execution_count": 15,
     "metadata": {},
     "output_type": "execute_result"
    }
   ],
   "source": [
    "#Total admissions\n",
    "len(df1)"
   ]
  },
  {
   "cell_type": "code",
   "execution_count": 16,
   "id": "f01bd57a",
   "metadata": {
    "execution": {
     "iopub.execute_input": "2023-12-07T03:39:36.302619Z",
     "iopub.status.busy": "2023-12-07T03:39:36.302221Z",
     "iopub.status.idle": "2023-12-07T03:39:36.512182Z",
     "shell.execute_reply": "2023-12-07T03:39:36.511451Z"
    },
    "papermill": {
     "duration": 0.219982,
     "end_time": "2023-12-07T03:39:36.514300",
     "exception": false,
     "start_time": "2023-12-07T03:39:36.294318",
     "status": "completed"
    },
    "tags": []
   },
   "outputs": [
    {
     "data": {
      "image/png": "[encoded data removed]",
      "text/plain": [
       "<Figure size 1200x1200 with 2 Axes>"
      ]
     },
     "metadata": {},
     "output_type": "display_data"
    }
   ],
   "source": [
    "fig = plt.figure(figsize=(12, 12)) #plot background color, light grey\n",
    "gs = fig.add_gridspec(1,2)\n",
    "gs.update(wspace=0.3, hspace=0.4)\n",
    "\n",
    "ax0 = fig.add_subplot(gs[0, 0])\n",
    "ax1 = fig.add_subplot(gs[0, 1]) \n",
    "\n",
    "#Percentage of live and dead\n",
    "dead = df2[df2[\"Hospital Outcome\"]==0].count()\n",
    "alive = df2[df2[\"Hospital Outcome\"]==1].count()\n",
    "\n",
    "dead_percent = dead[0]/len(df1)*100\n",
    "alive_percent = alive[0]/len(df1)*100\n",
    "\n",
    "data = [dead_percent, alive_percent]\n",
    "keys = [\"Dead\", \"Alive\"]\n",
    "\n",
    "explode = (0, 0.1)\n",
    "ax0.pie(data, labels=keys, autopct='%1.1f%%', colors=color_set2, explode=explode)\n",
    "ax0.set_title('Hospital Outcomes of Admitted Patients with Sepsis')\n",
    "\n",
    "#Percentage of dead by gender\n",
    "df3 = df2[df2[\"Hospital Outcome\"]==0]\n",
    "dead_male = df3[df3[\"Sex\"]==0]\n",
    "dead_female = df3[df3[\"Sex\"]==1]\n",
    "\n",
    "male_percent = dead_male.count()/len(df3)*100\n",
    "female_percent = dead_female.count()/len(df3)*100\n",
    "\n",
    "data2 = [male_percent[0], female_percent[0]]\n",
    "keys2 = [\"Male\", \"Female\"]\n",
    "\n",
    "explode=(0, 0.1)\n",
    "ax1.pie(data2, labels=keys2, autopct='%0.0f%%', colors=color_set1, explode=explode)\n",
    "ax1.set_title('Gender proportion of patients who died of sepsis')\n",
    "\n",
    "plt.show()\n"
   ]
  },
  {
   "cell_type": "markdown",
   "id": "38b8b851",
   "metadata": {
    "papermill": {
     "duration": 0.01022,
     "end_time": "2023-12-07T03:39:36.535145",
     "exception": false,
     "start_time": "2023-12-07T03:39:36.524925",
     "status": "completed"
    },
    "tags": []
   },
   "source": [
    "### Conclusion\n",
    "From this analysis, we found that there were more Males than Females who have had sepsis, and there were 12% more Males than Females who died from Sepsis. The data is highly imbalanced, with only 7.4% of the total that have died of Sepsis. The age group who were most susceptible to sepsis is between age 60-80 years old, the numbers drop after 80, most likely due to the fact that there were lesser patients who were above 80 years old. This shows that patients who are older, are more likely to be susceptible to sepsis during admissions.\n",
    "\n",
    "From the correlation matrix, it showed no strong correlations between the variables and therefore, training a model on these features not give accurate and almost random results. \n",
    "\n",
    "The data also showed that the number of deaths do not increase with the number of prior sepsis infections. Surprisingly, the most deaths occurred on the first episode. Therefore, early test and care are very important in detecting early stages of sepsis. "
   ]
  },
  {
   "cell_type": "markdown",
   "id": "297e1f69",
   "metadata": {
    "papermill": {
     "duration": 0.009956,
     "end_time": "2023-12-07T03:39:36.555292",
     "exception": false,
     "start_time": "2023-12-07T03:39:36.545336",
     "status": "completed"
    },
    "tags": []
   },
   "source": [
    "### Thoughts\n",
    "The early detection of sepsis is more likely to benefit from using data that consist of laboratory measurements rather than just age and number of prior infection episodes. I am intereted in finding a dataset with more lab measurements to train a model to help the detection of early sepsis. Please like and comment if you enjoyed this notebook, thank you. :)"
   ]
  }
 ],
 "metadata": {
  "kaggle": {
   "accelerator": "none",
   "dataSources": [
    {
     "datasetId": 3878453,
     "sourceId": 6734543,
     "sourceType": "datasetVersion"
    }
   ],
   "dockerImageVersionId": 30587,
   "isGpuEnabled": false,
   "isInternetEnabled": false,
   "language": "python",
   "sourceType": "notebook"
  },
  "kernelspec": {
   "display_name": "Python 3",
   "language": "python",
   "name": "python3"
  },
  "language_info": {
   "codemirror_mode": {
    "name": "ipython",
    "version": 3
   },
   "file_extension": ".py",
   "mimetype": "text/x-python",
   "name": "python",
   "nbconvert_exporter": "python",
   "pygments_lexer": "ipython3",
   "version": "3.10.12"
  },
  "papermill": {
   "default_parameters": {},
   "duration": 6.471557,
   "end_time": "2023-12-07T03:39:37.082032",
   "environment_variables": {},
   "exception": null,
   "input_path": "__notebook__.ipynb",
   "output_path": "__notebook__.ipynb",
   "parameters": {},
   "start_time": "2023-12-07T03:39:30.610475",
   "version": "2.4.0"
  }
 },
 "nbformat": 4,
 "nbformat_minor": 5
}
